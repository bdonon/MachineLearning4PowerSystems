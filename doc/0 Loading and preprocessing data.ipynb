{
 "cells": [
  {
   "cell_type": "code",
   "execution_count": 2,
   "id": "82af1777",
   "metadata": {},
   "outputs": [],
   "source": [
    "import ML4PS as ml\n",
    "import numpy as np\n",
    "from matplotlib import pyplot as plt"
   ]
  },
  {
   "cell_type": "markdown",
   "id": "ba2ca1a1",
   "metadata": {},
   "source": [
    "# Choose dataset"
   ]
  },
  {
   "cell_type": "code",
   "execution_count": 3,
   "id": "b628687d",
   "metadata": {},
   "outputs": [],
   "source": [
    "data_dir = '../../data/case14'"
   ]
  },
  {
   "cell_type": "markdown",
   "id": "2a006944",
   "metadata": {},
   "source": [
    "# Defining a series of normalizing functions\n",
    "\n",
    "The features contained in power systems objects may have very different orders of magnitude and display complex distributions with possibly multiple modes. For this reason, it is very important to build a series of functions that can convert those atypical distributions into something that looks more like a uniform law between $-1$ and $1$.\n",
    "\n",
    "This normalization process is done by computing a piecewise linear approximation of the cumulative distribution function of each required feature. This estimation is performed by considering a subset of the trainset. This estimation does not need to be perfect, so it seems reasonable to estimate it over a reasonably small amount of samples (see option *amount_of_samples*)."
   ]
  },
  {
   "cell_type": "code",
   "execution_count": 4,
   "id": "ea366e9b",
   "metadata": {},
   "outputs": [
    {
     "name": "stderr",
     "output_type": "stream",
     "text": [
      "Loading all the dataset: 100%|██████████████████| 50/50 [00:06<00:00,  7.44it/s]\n"
     ]
    }
   ],
   "source": [
    "normalizer = ml.Normalizer(data_dir = data_dir, backend_name = 'pandapower')\n",
    "normalizer.save('normalizer.pkl')"
   ]
  },
  {
   "cell_type": "markdown",
   "id": "3c5f87de",
   "metadata": {},
   "source": [
    "# Defining an interface\n",
    "\n",
    "In order to have our neural network learn, we have to pass it multiple batches of instances of power grids. The interface has three iterators (train, val and test) that can iterate over the whole dataset defined in *data_dir*, and return inputs $a$ and $x$ that will be read by the neural network, and a series of pypowsybl networks instances.\n",
    "\n",
    "As some people may be interested in dealing with time series, we have included the possibility of considering rolling windows. The attribute *series_length* defines the time coherence of time series, while *time_window* defines the size of the time windows that the iterator should retrieve. The different snapshots of a time windows are aggregated by concatenating their respective features. By default, we consider that we are not interested in time series."
   ]
  },
  {
   "cell_type": "code",
   "execution_count": null,
   "id": "44c14ebb",
   "metadata": {},
   "outputs": [],
   "source": [
    "interface = ml.Interface(data_dir = data_dir,\n",
    "    backend_name = 'pandapower', batch_size = 1)"
   ]
  },
  {
   "cell_type": "markdown",
   "id": "6586bd45",
   "metadata": {},
   "source": [
    "In the following we propose to show what our data looks like. Notice that $a$ and $x$ are nested dictionnaries, whose values have a shape [n_batch, n_obj, time_window], where n_obj is the amount of objects of the considered class. $a$ contains addresses (integers), while $x$ contains features (float)."
   ]
  },
  {
   "cell_type": "code",
   "execution_count": null,
   "id": "fca8fe20",
   "metadata": {},
   "outputs": [],
   "source": [
    "a, x, nets = next(iter(interface.train))\n",
    "print(\"keys in a :{}\".format(list(a.keys())))\n",
    "print(\"keys in a['gen'] :{}\".format(list(a['gen'].keys())))\n",
    "print(\"values in a['gen']['name'] :{}\".format(a['gen']['name']))\n",
    "print(\"\")\n",
    "print(\"keys in x :{}\".format(list(x.keys())))\n",
    "print(\"keys in x['gen'] :{}\".format(list(x['gen'].keys())))\n",
    "print(\"values in x['gen']['p_mw'] :{}\".format(x['gen']['p_mw']))"
   ]
  }
 ],
 "metadata": {
  "kernelspec": {
   "display_name": "Python 3 (ipykernel)",
   "language": "python",
   "name": "python3"
  },
  "language_info": {
   "codemirror_mode": {
    "name": "ipython",
    "version": 3
   },
   "file_extension": ".py",
   "mimetype": "text/x-python",
   "name": "python",
   "nbconvert_exporter": "python",
   "pygments_lexer": "ipython3",
   "version": "3.9.5"
  }
 },
 "nbformat": 4,
 "nbformat_minor": 5
}
