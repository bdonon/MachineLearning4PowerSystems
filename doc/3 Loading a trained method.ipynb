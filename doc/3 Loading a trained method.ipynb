{
 "cells": [
  {
   "cell_type": "markdown",
   "id": "54f3ee3f",
   "metadata": {},
   "source": [
    "<font color='red'>WARNING: This notebook assumes that normalizer.pkl and h2mgnode.pkl are present in the current directory. Run the previous notebooks to generate them.</font> "
   ]
  },
  {
   "cell_type": "code",
   "execution_count": null,
   "id": "82af1777",
   "metadata": {},
   "outputs": [],
   "source": [
    "import ML4PS as ml\n",
    "import numpy as np\n",
    "from matplotlib import pyplot as plt"
   ]
  },
  {
   "cell_type": "markdown",
   "id": "ba2ca1a1",
   "metadata": {},
   "source": [
    "# Loading and preprocessing the data"
   ]
  },
  {
   "cell_type": "code",
   "execution_count": null,
   "id": "b628687d",
   "metadata": {},
   "outputs": [],
   "source": [
    "data_dir = '../../data/case14'\n",
    "\n",
    "normalizer = ml.Normalizer(file = 'normalizer.pkl')\n",
    "\n",
    "interface = ml.Interface(data_dir = data_dir,\n",
    "    backend_name = 'pandapower', batch_size = 1)"
   ]
  },
  {
   "cell_type": "markdown",
   "id": "d3168055",
   "metadata": {},
   "source": [
    "# Loading a trained method"
   ]
  },
  {
   "cell_type": "code",
   "execution_count": null,
   "id": "d77ec1db",
   "metadata": {},
   "outputs": [],
   "source": [
    "h2mgnode = ml.H2MGNODE(file = 'h2mgnode.pkl')"
   ]
  },
  {
   "cell_type": "markdown",
   "id": "b1474828",
   "metadata": {},
   "source": [
    "# Compute metrics"
   ]
  },
  {
   "cell_type": "code",
   "execution_count": null,
   "id": "d611056c",
   "metadata": {},
   "outputs": [],
   "source": [
    "class PostProcessor:\n",
    "    def __call__(self, y):\n",
    "        return {'bus': {'res_vm_pu': self.bus_v_mag(y['bus']['res_vm_pu'])}}\n",
    "    def bus_v_mag(self, y):\n",
    "        return 1.+y\n",
    "postprocessor = PostProcessor()"
   ]
  },
  {
   "cell_type": "code",
   "execution_count": null,
   "id": "abe9f0d4",
   "metadata": {},
   "outputs": [],
   "source": [
    "def loss(params, init_state, y_truth):\n",
    "    y_hat = h2mgnode.solve_and_decode_batch(params, init_state)\n",
    "    y_post = postprocessor(y_hat)\n",
    "    return ml.mean((y_truth['bus']['res_vm_pu'] - y_post['bus']['res_vm_pu'])**2)\n",
    "\n",
    "@ml.jit\n",
    "def update(params, init_state, y_truth, opt_state):\n",
    "    value, grads = ml.value_and_grad(loss)(params, init_state, y_truth)\n",
    "    opt_state = opt_update(0, grads, opt_state)\n",
    "    return get_params(opt_state), opt_state, value"
   ]
  },
  {
   "cell_type": "code",
   "execution_count": null,
   "id": "ef54e588",
   "metadata": {},
   "outputs": [],
   "source": [
    "step_size = 3e-4\n",
    "opt_init, opt_update, get_params = ml.optimizers.adam(step_size)\n",
    "opt_state = opt_init(h2mgnode.weights)"
   ]
  },
  {
   "cell_type": "code",
   "execution_count": null,
   "id": "9007df16",
   "metadata": {},
   "outputs": [],
   "source": [
    "losses = []\n",
    "maes = []\n",
    "\n",
    "for a, x, nets in interface.get_test_batch():\n",
    "    \n",
    "    # Perform prediction\n",
    "    x_norm = normalizer(x)\n",
    "    y_hat = h2mgnode.forward_batch(h2mgnode.weights, a, x_norm)\n",
    "    y_post = postprocessor(y_hat)\n",
    "\n",
    "    # Get ground truth\n",
    "    interface.run_load_flow_batch(nets)\n",
    "    y_truth = interface.get_features_dict(nets, {'bus':['res_vm_pu']})\n",
    "    \n",
    "    # Compute metrics\n",
    "    loss = (y_post['bus']['res_vm_pu'] - y_truth['bus']['res_vm_pu'])**2\n",
    "    mae = np.abs(y_post['bus']['res_vm_pu'] - y_truth['bus']['res_vm_pu'])\n",
    "    losses.extend(list(loss))\n",
    "    maes.extend(list(mae))\n",
    "    \n",
    "print('Loss')\n",
    "print('    max        = {:e}'.format(np.max(losses)))\n",
    "print('    90th perc. = {:e}'.format(np.percentile(losses, 90)))\n",
    "print('    50th perc. = {:e}'.format(np.percentile(losses, 50)))\n",
    "print('    10th perc. = {:e}'.format(np.percentile(losses, 10)))\n",
    "print('    min        = {:e}'.format(np.min(losses)))\n",
    "print('')\n",
    "print('MAE')\n",
    "print('    max        = {:e}'.format(np.max(maes)))\n",
    "print('    90th perc. = {:e}'.format(np.percentile(maes, 90)))\n",
    "print('    50th perc. = {:e}'.format(np.percentile(maes, 50)))\n",
    "print('    10th perc. = {:e}'.format(np.percentile(maes, 10)))\n",
    "print('    min        = {:e}'.format(np.min(maes)))"
   ]
  },
  {
   "cell_type": "markdown",
   "id": "193d93b7",
   "metadata": {},
   "source": [
    "# Plot prediction against ground truth"
   ]
  },
  {
   "cell_type": "code",
   "execution_count": null,
   "id": "edc511b9",
   "metadata": {},
   "outputs": [],
   "source": [
    "a, x, nets = next(iter(interface.test))\n",
    "x_norm = normalizer(x)\n",
    "y_hat = h2mgnode.forward_batch(h2mgnode.weights, a, x_norm)\n",
    "y_post = postprocessor(y_hat)\n",
    "\n",
    "# Get ground truth\n",
    "interface.run_load_flow_batch(nets)\n",
    "y_truth = interface.get_features_dict(nets, {'bus': ['res_vm_pu']})\n",
    "\n",
    "# Compare results\n",
    "plt.scatter(y_truth['bus']['res_vm_pu'], y_post['bus']['res_vm_pu'])\n",
    "plt.xlabel('Ground truth')\n",
    "plt.ylabel('Prediction')\n",
    "plt.show()"
   ]
  },
  {
   "cell_type": "markdown",
   "id": "9b26560e",
   "metadata": {},
   "source": [
    "# Plot the evolution of latent variables"
   ]
  },
  {
   "cell_type": "markdown",
   "id": "40569394",
   "metadata": {},
   "source": [
    "The H2MGNODE architecture is based on the interaction of latent variables defined at both hyper edges and addresses (namely $h_e$ and $h_v$). We propose "
   ]
  },
  {
   "cell_type": "code",
   "execution_count": null,
   "id": "603df9e1",
   "metadata": {
    "scrolled": false
   },
   "outputs": [],
   "source": [
    "start_and_end_times = ml.linspace(0., 1., 50)\n",
    "\n",
    "def odenet(params, init_state):\n",
    "    intermediate_states = ml.odeint(h2mgnode.dynamics, init_state, start_and_end_times, params)\n",
    "    return intermediate_states\n",
    "\n",
    "batched_odenet = ml.vmap(odenet, in_axes=(None, 0))\n",
    "    \n",
    "a, x, nets = next(iter(interface.test))\n",
    "x_norm = normalizer(x)\n",
    "init_state = h2mgnode.init_state_batch(a, x_norm)\n",
    "intermediate_states = batched_odenet(h2mgnode.weights, init_state)\n",
    "\n",
    "y_plot = intermediate_states['h_e']['bus'][0,:,:,0]\n",
    "plt.plot(start_and_end_times, y_plot)\n",
    "plt.show()\n",
    "\n",
    "x_plot = intermediate_states['h_e']['bus'][0,:,:,0]\n",
    "y_plot = intermediate_states['h_e']['bus'][0,:,:,2]\n",
    "plt.plot(x_plot, y_plot)\n",
    "plt.show()\n",
    "\n",
    "y_plot = intermediate_states['h_v'][0,:,:,0]\n",
    "plt.plot(start_and_end_times, y_plot)\n",
    "plt.show()\n",
    "\n",
    "x_plot = intermediate_states['h_v'][0,:,:,0]\n",
    "y_plot = intermediate_states['h_v'][0,:,:,1]\n",
    "plt.plot(x_plot, y_plot)\n",
    "plt.show()"
   ]
  }
 ],
 "metadata": {
  "kernelspec": {
   "display_name": "Python 3 (ipykernel)",
   "language": "python",
   "name": "python3"
  },
  "language_info": {
   "codemirror_mode": {
    "name": "ipython",
    "version": 3
   },
   "file_extension": ".py",
   "mimetype": "text/x-python",
   "name": "python",
   "nbconvert_exporter": "python",
   "pygments_lexer": "ipython3",
   "version": "3.9.13"
  }
 },
 "nbformat": 4,
 "nbformat_minor": 5
}
