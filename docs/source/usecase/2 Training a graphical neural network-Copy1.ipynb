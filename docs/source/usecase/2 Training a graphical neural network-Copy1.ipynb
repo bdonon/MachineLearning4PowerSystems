{
 "cells": [
  {
   "cell_type": "code",
   "execution_count": 1,
   "id": "82af1777",
   "metadata": {},
   "outputs": [],
   "source": [
    "#import ML4PS as ml\n",
    "import numpy as np\n",
    "from matplotlib import pyplot as plt"
   ]
  },
  {
   "cell_type": "code",
   "execution_count": 2,
   "id": "c15f2884",
   "metadata": {},
   "outputs": [],
   "source": [
    "import os\n",
    "\n",
    "%load_ext autoreload\n",
    "%autoreload 2\n",
    "\n",
    "import sys; sys.path.insert(0, '..')\n",
    "import ML4PS as ml"
   ]
  },
  {
   "cell_type": "markdown",
   "id": "ba2ca1a1",
   "metadata": {},
   "source": [
    "# Loading and preprocessing the data"
   ]
  },
  {
   "cell_type": "code",
   "execution_count": 3,
   "id": "b628687d",
   "metadata": {},
   "outputs": [
    {
     "name": "stderr",
     "output_type": "stream",
     "text": [
      "Loading all the dataset: 100%|████████████████████████████████████████████████████████████████████████████████████████████████████████████| 100/100 [00:18<00:00,  5.50it/s]\n"
     ]
    }
   ],
   "source": [
    "data_dir = '../data/data_json/case14'\n",
    "normalizer = ml.Normalizer(data_dir = data_dir, backend_name = 'pandapower')\n",
    "interface = ml.Interface(data_dir = data_dir, backend_name = 'pandapower', batch_size = 1)"
   ]
  },
  {
   "cell_type": "markdown",
   "id": "d3168055",
   "metadata": {},
   "source": [
    "# Defining a Hyper Heterogeneous Multi Graph Neural Ordinary Differential Equation (H2MGNODE)\n",
    "The H2MGNODE combines the Hyper Heterogeneous Multi Graph Neural Network and Neural Ordinary Differential Equations.\n",
    "\n",
    "It uses an architecture very similar to the H2MGNN architecture, but it solves the latent system of equations using a variable timestep method. Contrarily to the fully connected, you do not have to specify the amount of objects of each class at the initialization. It will take as input both the addresses $a$ and the features $x$. One should tell the H2MGNODE which addresses it should be using to propagate information."
   ]
  },
  {
   "cell_type": "code",
   "execution_count": 4,
   "id": "3dd87d41",
   "metadata": {},
   "outputs": [],
   "source": [
    "addresses = {}\n",
    "addresses['bus']       = ['id']\n",
    "addresses['gen']       = ['bus']\n",
    "addresses['load']      = ['bus']\n",
    "addresses['shunt']     = ['bus']\n",
    "addresses['ext_grid']  = ['bus']\n",
    "addresses['line']      = ['from_bus', 'to_bus']\n",
    "addresses['trafo']     = ['hv_bus', 'lv_bus']\n",
    "addresses['poly_cost'] = ['element']\n",
    "\n",
    "input_features = {}\n",
    "input_features['bus']       = ['in_service', 'max_vm_pu', 'min_vm_pu', 'vn_kv']\n",
    "input_features['load']      = ['const_i_percent', 'const_z_percent', 'controllable', 'in_service', \n",
    "                               'p_mw', 'q_mvar', 'scaling', 'sn_mva']\n",
    "input_features['gen']       = ['in_service', 'p_mw', 'scaling', 'sn_mva', 'slack', 'max_p_mw', \n",
    "                               'min_p_mw', 'max_q_mvar', 'min_q_mvar', 'slack_weight']\n",
    "input_features['shunt']     = ['q_mvar', 'p_mw', 'vn_kv', 'step', 'max_step', 'in_service']\n",
    "input_features['ext_grid']  = ['in_service', 'va_degree', 'max_p_mw', 'min_p_mw', 'max_q_mvar',\n",
    "                               'min_q_mvar', 'slack_weight']\n",
    "input_features['line']      = ['c_nf_per_km', 'df', 'g_us_per_km', 'in_service', 'length_km', 'max_i_ka',\n",
    "                               'max_loading_percent', 'parallel', 'r_ohm_per_km', 'x_ohm_per_km']\n",
    "input_features['trafo']     = ['df', 'i0_percent', 'in_service', 'max_loading_percent', 'parallel', \n",
    "                               'pfe_kw', 'shift_degree', 'sn_mva', 'tap_max', 'tap_neutral', 'tap_min', \n",
    "                               'tap_phase_shifter', 'tap_pos', 'tap_side', 'tap_step_degree', \n",
    "                               'tap_step_percent', 'vn_hv_kv', 'vn_lv_kv', 'vk_percent', 'vkr_percent']\n",
    "input_features['poly_cost'] = ['cp0_eur', 'cp1_eur_per_mw', 'cp2_eur_per_mw2', 'cq0_eur', \n",
    "                               'cq1_eur_per_mvar', 'cq2_eur_per_mvar2']\n",
    "\n",
    "actor_output_features = {}\n",
    "actor_output_features['gen'] = ['mu_vm_pu']\n",
    "actor_output_features['ext_grid'] = ['mu_vm_pu']\n",
    "\n",
    "critic_output_features = {}\n",
    "critic_output_features['line'] = ['res_pl_mw']\n",
    "critic_output_features['trafo'] = ['res_pl_mw']\n",
    "critic_output_features['bus'] = ['res_vm_pu']"
   ]
  },
  {
   "cell_type": "code",
   "execution_count": 5,
   "id": "d77ec1db",
   "metadata": {},
   "outputs": [],
   "source": [
    "actor = ml.H2MGNODE(addresses=addresses, \n",
    "                       input_features = input_features, \n",
    "                       output_features = actor_output_features, \n",
    "                       hidden_dimensions = [32], \n",
    "                       latent_dimension = 16)\n",
    "critic = ml.H2MGNODE(addresses=addresses, \n",
    "                       input_features = input_features, \n",
    "                       output_features = critic_output_features, \n",
    "                       hidden_dimensions = [32], \n",
    "                       latent_dimension = 16)"
   ]
  },
  {
   "cell_type": "code",
   "execution_count": 6,
   "id": "5bb200ce",
   "metadata": {},
   "outputs": [],
   "source": [
    "actor_postproc_functions = {\n",
    "    'gen': {'mu_vm_pu': [ml.AffineTransform(offset=1., slope=1.)]},\n",
    "    'ext_grid': {'mu_vm_pu': [ml.AffineTransform(offset=1., slope=1.)]},\n",
    "}\n",
    "actor_postproc = ml.PostProcessor(functions=actor_postproc_functions)\n",
    "\n",
    "critic_postproc_functions = {\n",
    "    'line': {'res_pl_mw': [ml.AffineTransform(slope=1.), ml.AbsValTransform()]},\n",
    "    'trafo': {'res_pl_mw': [ml.AffineTransform(slope=1.), ml.AbsValTransform()]},\n",
    "    'bus': {'res_vm_pu': [ml.AffineTransform(offset=1., slope=1.)]},\n",
    "}\n",
    "critic_postproc = ml.PostProcessor(functions=critic_postproc_functions)"
   ]
  },
  {
   "cell_type": "code",
   "execution_count": 7,
   "id": "4eeda215",
   "metadata": {},
   "outputs": [],
   "source": [
    "import jax.numpy as jnp\n",
    "\n",
    "\n",
    "def joule(y):\n",
    "    line_pl_mw = jnp.sum(jnp.sum(y['line']['res_pl_mw'], axis=2), axis=1)\n",
    "    trafo_pl_mw = jnp.sum(jnp.sum(y['trafo']['res_pl_mw'], axis=2), axis=1)\n",
    "    return line_pl_mw + trafo_pl_mw\n",
    "\n",
    "def voltage(x,y):\n",
    "    bus_vm_pu_max = jnp.sum(jnp.sum(jnp.maximum(0, y['bus']['res_vm_pu'] - x['bus']['max_vm_pu']), axis=2), axis=1)\n",
    "    bus_vm_pu_min = jnp.sum(jnp.sum(jnp.maximum(0, x['bus']['min_vm_pu'] - y['bus']['res_vm_pu']), axis=2), axis=1)    \n",
    "    return bus_vm_pu_max + bus_vm_pu_min\n",
    "\n",
    "def cost_function(x, z, lam):\n",
    "    cost_joule_line = interface.joule_losses(active_power_losses=z['line']['res_pl_mw'])\n",
    "    cost_joule_trafo = interface.joule_losses(active_power_losses=z['trafo']['res_pl_mw'])\n",
    "    cost_voltage = interface.voltage_deviation(vm_pu=y['bus']['res_vm_pu'], vm_pu_max=None, vm_pu_min=None)\n",
    "    return cost_voltage + lam *cost_joule\n",
    "\n",
    "def cost_actor(x, y_actor, y_critic, z, lam, sigma):\n",
    "    baseline = ell(x, y_critic)\n",
    "    reward = ell(x,z, lam)\n",
    "    delta = reward - baseline\n",
    "    loss_gen = jnp.sum(jnp.sum((z['gen']['vm_pu'] - y_actor['gen']['mu_vm_pu'])**2, axis=2), axis=1)\n",
    "    loss_ext_grid = jnp.sum(jnp.sum((z['ext_grid']['vm_pu'] - y_actor['ext_grid']['mu_vm_pu'])**2, axis=2), axis=1)\n",
    "    loss = delta * (loss_gen + loss_ext_grid) / (2 * sigma**2)\n",
    "    return - jnp.mean(loss)\n",
    "    \n",
    "def cost_critic(y_critic, z, lam):\n",
    "    loss_line_pl_mw = (y_critic['line']['res_pl_mw'] - z['line']['res_pl_mw'])**2\n",
    "    loss_line_pl_mw = jnp.sum(jnp.sum(loss_line_pl_mw, axis=2), axis=1)\n",
    "    \n",
    "    loss_trafo_pl_mw = (y_critic['trafo']['res_pl_mw'] - z['trafo']['res_pl_mw'])**2\n",
    "    loss_trafo_pl_mw = jnp.sum(jnp.sum(loss_trafo_pl_mw, axis=2), axis=1)\n",
    "    \n",
    "    loss_bus_vm_pu = (y_critic['bus']['res_vm_pu'] - z['bus']['res_vm_pu'])**2\n",
    "    loss_bus_vm_pu = jnp.sum(jnp.sum(loss_bus_vm_pu, axis=2), axis=1)\n",
    "    \n",
    "    loss = loss_bus_vm_pu + lam * (loss_line_pl_mw + loss_trafo_pl_mw)\n",
    "    return jnp.mean(loss)"
   ]
  },
  {
   "cell_type": "code",
   "execution_count": 8,
   "id": "abe9f0d4",
   "metadata": {},
   "outputs": [],
   "source": [
    "def loss_actor(params, init_state, y, r, r_critic, sigma):\n",
    "    beta_raw = actor.solve_and_decode_batch(params, init_state)\n",
    "    beta = actor_postproc(beta_raw)\n",
    "    loss_gen = jnp.sum(jnp.sum((y['gen']['vm_pu'] - beta['gen']['mu_vm_pu'])**2, axis=2), axis=1)\n",
    "    loss_ext_grid = jnp.sum(jnp.sum((y['ext_grid']['vm_pu'] - beta['ext_grid']['mu_vm_pu'])**2, axis=2), axis=1)\n",
    "    delta = jnp.sum(jnp.array(r) - jnp.array(r_critic), axis=1)\n",
    "    loss = delta * (loss_gen + loss_ext_grid) / (2 * sigma**2)\n",
    "    return jnp.mean(loss)\n",
    "\n",
    "@ml.jit\n",
    "def update_actor_diff(step, params, init_state, y, r, r_critic, sigma, actor_opt_state):\n",
    "    value, grads = ml.value_and_grad(loss_actor)(params, init_state, y, r, r_critic, sigma)\n",
    "    actor_opt_state = actor_opt_update(step, grads, actor_opt_state)\n",
    "    return actor_get_params(actor_opt_state), actor_opt_state, value\n",
    "\n",
    "def update_actor(step, params, a, x, y, r, r_critic, sigma, opt_state):\n",
    "    x_norm = normalizer(x)\n",
    "    init_state = actor.init_state_batch(a, x_norm)\n",
    "    params, opt_state, loss = update_actor_diff(step, params, init_state, y, r, r_critic, sigma, opt_state)\n",
    "    return params, opt_state, loss\n",
    "\n",
    "\n",
    "def loss_critic(params, init_state, x, z, lam, sigma):\n",
    "    y_critic_raw = critic.solve_and_decode_batch(params, init_state)\n",
    "    y_critic = critic_postproc(y_critic_raw)\n",
    "    \n",
    "    loss_line_pl_mw = (y_critic['line']['res_pl_mw'] - z['line']['res_pl_mw'])**2\n",
    "    loss_line_pl_mw = jnp.sum(jnp.sum(loss_line_pl_mw, axis=2), axis=1)\n",
    "    \n",
    "    loss_trafo_pl_mw = (y_critic['trafo']['res_pl_mw'] - z['trafo']['res_pl_mw'])**2\n",
    "    loss_trafo_pl_mw = jnp.sum(jnp.sum(loss_trafo_pl_mw, axis=2), axis=1)\n",
    "    \n",
    "    loss_bus_vm_pu = (y_critic['bus']['res_vm_pu'] - z['bus']['res_vm_pu'])**2\n",
    "    loss_bus_vm_pu = jnp.sum(jnp.sum(loss_bus_vm_pu, axis=2), axis=1)\n",
    "    \n",
    "    loss = loss_bus_vm_pu + lam * (loss_line_pl_mw + loss_trafo_pl_mw)\n",
    "    return jnp.mean(loss)\n",
    "\n",
    "@ml.jit\n",
    "def update_critic_diff(step, params, init_state, x, z, lam, sigma, critic_opt_state):\n",
    "    value, grads = ml.value_and_grad(loss_critic)(params, init_state, x, z, lam, sigma)\n",
    "    critic_opt_state = critic_opt_update(step, grads, critic_opt_state)\n",
    "    return critic_get_params(critic_opt_state), critic_opt_state, value\n",
    "\n",
    "def update_critic(step, params, a, x, z, lam, sigma, opt_state):\n",
    "    x_norm = normalizer(x)\n",
    "    init_state = critic.init_state_batch(a, x_norm)\n",
    "    params, opt_state, loss = update_critic_diff(step, params, init_state, x, z, lam, sigma, opt_state)\n",
    "    return params, opt_state, loss"
   ]
  },
  {
   "cell_type": "code",
   "execution_count": 9,
   "id": "ef54e588",
   "metadata": {},
   "outputs": [],
   "source": [
    "actor_step_size = 1e-3\n",
    "actor_opt_init, actor_opt_update, actor_get_params = ml.optimizers.adam(actor_step_size)\n",
    "actor_opt_state = actor_opt_init(actor.weights)\n",
    "\n",
    "critic_step_size = 1e-2\n",
    "critic_opt_init, critic_opt_update, critic_get_params = ml.optimizers.adam(critic_step_size)\n",
    "critic_opt_state = critic_opt_init(critic.weights)\n",
    "\n",
    "step = 0"
   ]
  },
  {
   "cell_type": "code",
   "execution_count": 10,
   "id": "8db95923",
   "metadata": {},
   "outputs": [],
   "source": [
    "from tqdm.notebook import tqdm\n",
    "\n",
    "sigma = 0.001\n",
    "lam1 = 1e-3\n",
    "\n",
    "joule_list = []\n",
    "voltage_list = []\n",
    "critic_list = []"
   ]
  },
  {
   "cell_type": "code",
   "execution_count": 11,
   "id": "7ff623e2",
   "metadata": {},
   "outputs": [],
   "source": [
    "def reward_batch(network_batch, converged_batch, lam1, lam2):\n",
    "    joule_batch = interface.joule_effect_batch(network_batch, converged_batch)\n",
    "    voltage_batch = interface.voltage_deviation_batch(network_batch, converged_batch)\n",
    "    overflow_batch = interface.overflow_percentage_batch(network_batch, converged_batch)\n",
    "    r_batch = []\n",
    "    for jw, vw, ow, cw in zip(joule_batch, voltage_batch, overflow_batch, converged_batch):\n",
    "        r_window = []\n",
    "        for j, v, o, c in zip(jw, vw, ow, cw):\n",
    "            if c:\n",
    "                r_window.append(1/(j + lam1*v + lam2*o))\n",
    "            else:\n",
    "                r_window.append(0.)\n",
    "        r_batch.append(r_window)\n",
    "    return r_batch\n",
    "\n",
    "def apply_action(network_batch, y, lam1=1., lam2=1.):\n",
    "    interface.update_network_batch(network_batch, y)\n",
    "    converged_batch = interface.run_load_flow_batch(network_batch)\n",
    "    r_batch = reward_batch(network_batch, converged_batch, lam1, lam2)\n",
    "    return r_batch\n",
    "\n",
    "def sample_action(beta, sigma=1.):\n",
    "    gen_vm_pu = np.random.normal(beta['gen']['mu_vm_pu'], sigma)\n",
    "    ext_grid_vm_pu = np.random.normal(beta['ext_grid']['mu_vm_pu'], sigma)\n",
    "    return {'gen': {'vm_pu': gen_vm_pu}, 'ext_grid': {'vm_pu': ext_grid_vm_pu}}\n",
    "\n",
    "def explore(a, x, nets, sigma=1., lam1=1., lam2=1.):\n",
    "\n",
    "    # Normalize input data\n",
    "    x_norm = normalizer(x)\n",
    "    \n",
    "    # Sample an action using the actor, and compute a loadflow\n",
    "    beta_raw = actor.forward_batch(actor.weights, a, x_norm)\n",
    "    beta = actor_postproc(beta_raw)\n",
    "    y = sample_action(beta, sigma)\n",
    "    r = apply_action(nets, y, lam1, lam2)\n",
    "    \n",
    "    # Estimate the reward using the critic\n",
    "    #r_critic_raw = critic.forward_batch(critic.weights, a, x_norm)\n",
    "    #r_critic = critic_postproc(r_critic_raw)\n",
    "    y_critic = sample_action(beta, sigma=0.)\n",
    "    r_critic = apply_action(nets, y_critic, lam1, lam2)\n",
    "    \n",
    "    return y, r, r_critic"
   ]
  },
  {
   "cell_type": "code",
   "execution_count": 12,
   "id": "71c81c11",
   "metadata": {},
   "outputs": [],
   "source": [
    "a, x, nets = next(iter(interface.train))\n"
   ]
  },
  {
   "cell_type": "code",
   "execution_count": 13,
   "id": "2a2f966e",
   "metadata": {},
   "outputs": [
    {
     "ename": "KeyboardInterrupt",
     "evalue": "",
     "output_type": "error",
     "traceback": [
      "\u001b[0;31m---------------------------------------------------------------------------\u001b[0m",
      "\u001b[0;31mKeyboardInterrupt\u001b[0m                         Traceback (most recent call last)",
      "Input \u001b[0;32mIn [13]\u001b[0m, in \u001b[0;36m<cell line: 3>\u001b[0;34m()\u001b[0m\n\u001b[1;32m      2\u001b[0m y_list \u001b[38;5;241m=\u001b[39m []\n\u001b[1;32m      3\u001b[0m \u001b[38;5;28;01mfor\u001b[39;00m _ \u001b[38;5;129;01min\u001b[39;00m \u001b[38;5;28mrange\u001b[39m(\u001b[38;5;241m1000\u001b[39m):\n\u001b[0;32m----> 4\u001b[0m     y, r, r_critic \u001b[38;5;241m=\u001b[39m \u001b[43mexplore\u001b[49m\u001b[43m(\u001b[49m\u001b[43ma\u001b[49m\u001b[43m,\u001b[49m\u001b[43m \u001b[49m\u001b[43mx\u001b[49m\u001b[43m,\u001b[49m\u001b[43m \u001b[49m\u001b[43mnets\u001b[49m\u001b[43m,\u001b[49m\u001b[43m \u001b[49m\u001b[43msigma\u001b[49m\u001b[38;5;241;43m=\u001b[39;49m\u001b[38;5;241;43m1e-2\u001b[39;49m\u001b[43m)\u001b[49m\n\u001b[1;32m      5\u001b[0m     r_list\u001b[38;5;241m.\u001b[39mappend(r[\u001b[38;5;241m0\u001b[39m][\u001b[38;5;241m0\u001b[39m])\n\u001b[1;32m      6\u001b[0m     y_list\u001b[38;5;241m.\u001b[39mappend(y[\u001b[38;5;124m'\u001b[39m\u001b[38;5;124mgen\u001b[39m\u001b[38;5;124m'\u001b[39m][\u001b[38;5;124m'\u001b[39m\u001b[38;5;124mvm_pu\u001b[39m\u001b[38;5;124m'\u001b[39m][\u001b[38;5;241m0\u001b[39m,\u001b[38;5;241m0\u001b[39m,\u001b[38;5;241m0\u001b[39m])\n",
      "Input \u001b[0;32mIn [11]\u001b[0m, in \u001b[0;36mexplore\u001b[0;34m(a, x, nets, sigma, lam1, lam2)\u001b[0m\n\u001b[1;32m     34\u001b[0m beta \u001b[38;5;241m=\u001b[39m actor_postproc(beta_raw)\n\u001b[1;32m     35\u001b[0m y \u001b[38;5;241m=\u001b[39m sample_action(beta, sigma)\n\u001b[0;32m---> 36\u001b[0m r \u001b[38;5;241m=\u001b[39m \u001b[43mapply_action\u001b[49m\u001b[43m(\u001b[49m\u001b[43mnets\u001b[49m\u001b[43m,\u001b[49m\u001b[43m \u001b[49m\u001b[43my\u001b[49m\u001b[43m,\u001b[49m\u001b[43m \u001b[49m\u001b[43mlam1\u001b[49m\u001b[43m,\u001b[49m\u001b[43m \u001b[49m\u001b[43mlam2\u001b[49m\u001b[43m)\u001b[49m\n\u001b[1;32m     38\u001b[0m \u001b[38;5;66;03m# Estimate the reward using the critic\u001b[39;00m\n\u001b[1;32m     39\u001b[0m \u001b[38;5;66;03m#r_critic_raw = critic.forward_batch(critic.weights, a, x_norm)\u001b[39;00m\n\u001b[1;32m     40\u001b[0m \u001b[38;5;66;03m#r_critic = critic_postproc(r_critic_raw)\u001b[39;00m\n\u001b[1;32m     41\u001b[0m y_critic \u001b[38;5;241m=\u001b[39m sample_action(beta, sigma\u001b[38;5;241m=\u001b[39m\u001b[38;5;241m0.\u001b[39m)\n",
      "Input \u001b[0;32mIn [11]\u001b[0m, in \u001b[0;36mapply_action\u001b[0;34m(network_batch, y, lam1, lam2)\u001b[0m\n\u001b[1;32m     16\u001b[0m \u001b[38;5;28;01mdef\u001b[39;00m \u001b[38;5;21mapply_action\u001b[39m(network_batch, y, lam1\u001b[38;5;241m=\u001b[39m\u001b[38;5;241m1.\u001b[39m, lam2\u001b[38;5;241m=\u001b[39m\u001b[38;5;241m1.\u001b[39m):\n\u001b[1;32m     17\u001b[0m     interface\u001b[38;5;241m.\u001b[39mupdate_network_batch(network_batch, y)\n\u001b[0;32m---> 18\u001b[0m     converged_batch \u001b[38;5;241m=\u001b[39m \u001b[43minterface\u001b[49m\u001b[38;5;241;43m.\u001b[39;49m\u001b[43mrun_load_flow_batch\u001b[49m\u001b[43m(\u001b[49m\u001b[43mnetwork_batch\u001b[49m\u001b[43m)\u001b[49m\n\u001b[1;32m     19\u001b[0m     r_batch \u001b[38;5;241m=\u001b[39m reward_batch(network_batch, converged_batch, lam1, lam2)\n\u001b[1;32m     20\u001b[0m     \u001b[38;5;28;01mreturn\u001b[39;00m r_batch\n",
      "File \u001b[0;32m~/Desktop/PostDoc/Code/MachineLearning4PowerSystems/doc/../ML4PS/interface.py:109\u001b[0m, in \u001b[0;36mInterface.run_load_flow_batch\u001b[0;34m(self, network_batch, load_flow_options)\u001b[0m\n\u001b[1;32m    107\u001b[0m \u001b[38;5;28;01mdef\u001b[39;00m \u001b[38;5;21mrun_load_flow_batch\u001b[39m(\u001b[38;5;28mself\u001b[39m, network_batch, load_flow_options\u001b[38;5;241m=\u001b[39m\u001b[38;5;28;01mNone\u001b[39;00m):\n\u001b[1;32m    108\u001b[0m     \u001b[38;5;124;03m\"\"\"Performs load flow computations for a batch of power networks, returns a converged list.\"\"\"\u001b[39;00m\n\u001b[0;32m--> 109\u001b[0m     converged \u001b[38;5;241m=\u001b[39m \u001b[38;5;28;43mself\u001b[39;49m\u001b[38;5;241;43m.\u001b[39;49m\u001b[43mbackend\u001b[49m\u001b[38;5;241;43m.\u001b[39;49m\u001b[43mrun_load_flow_batch\u001b[49m\u001b[43m(\u001b[49m\u001b[43mnetwork_batch\u001b[49m\u001b[43m,\u001b[49m\u001b[43m \u001b[49m\u001b[43mload_flow_options\u001b[49m\u001b[43m)\u001b[49m\n\u001b[1;32m    110\u001b[0m     \u001b[38;5;28;01mreturn\u001b[39;00m converged\n",
      "File \u001b[0;32m~/Desktop/PostDoc/Code/MachineLearning4PowerSystems/doc/../ML4PS/backend/abstractbackend.py:62\u001b[0m, in \u001b[0;36mAbstractBackend.run_load_flow_batch\u001b[0;34m(self, network_batch, load_flow_options)\u001b[0m\n\u001b[1;32m     60\u001b[0m \u001b[38;5;28;01mfor\u001b[39;00m network_sample \u001b[38;5;129;01min\u001b[39;00m network_window:\n\u001b[1;32m     61\u001b[0m     \u001b[38;5;28;01mtry\u001b[39;00m:\n\u001b[0;32m---> 62\u001b[0m         \u001b[38;5;28;43mself\u001b[39;49m\u001b[38;5;241;43m.\u001b[39;49m\u001b[43mrun_load_flow\u001b[49m\u001b[43m(\u001b[49m\u001b[43mnetwork_sample\u001b[49m\u001b[43m,\u001b[49m\u001b[43m \u001b[49m\u001b[43mload_flow_options\u001b[49m\u001b[43m)\u001b[49m\n\u001b[1;32m     63\u001b[0m         converged_window\u001b[38;5;241m.\u001b[39mappend(\u001b[38;5;28;01mTrue\u001b[39;00m)\n\u001b[1;32m     64\u001b[0m     \u001b[38;5;28;01mexcept\u001b[39;00m \u001b[38;5;28mself\u001b[39m\u001b[38;5;241m.\u001b[39mConvergenceFail:\n",
      "File \u001b[0;32m~/Desktop/PostDoc/Code/MachineLearning4PowerSystems/doc/../ML4PS/backend/pandapower.py:115\u001b[0m, in \u001b[0;36mPandaPowerBackend.run_load_flow\u001b[0;34m(self, net, load_flow_options)\u001b[0m\n\u001b[1;32m    113\u001b[0m \u001b[38;5;28;01mdef\u001b[39;00m \u001b[38;5;21mrun_load_flow\u001b[39m(\u001b[38;5;28mself\u001b[39m, net, load_flow_options\u001b[38;5;241m=\u001b[39m\u001b[38;5;28;01mNone\u001b[39;00m):\n\u001b[1;32m    114\u001b[0m     \u001b[38;5;66;03m# TODO : connect options\u001b[39;00m\n\u001b[0;32m--> 115\u001b[0m     \u001b[43mpp\u001b[49m\u001b[38;5;241;43m.\u001b[39;49m\u001b[43mrunpp\u001b[49m\u001b[43m(\u001b[49m\u001b[43mnet\u001b[49m\u001b[43m)\u001b[49m\n",
      "File \u001b[0;32m~/Desktop/PostDoc/Code/MachineLearning4PowerSystems/ENV/lib/python3.9/site-packages/pandapower/run.py:232\u001b[0m, in \u001b[0;36mrunpp\u001b[0;34m(net, algorithm, calculate_voltage_angles, init, max_iteration, tolerance_mva, trafo_model, trafo_loading, enforce_q_lims, check_connectivity, voltage_depend_loads, consider_line_temperature, run_control, distributed_slack, **kwargs)\u001b[0m\n\u001b[1;32m    230\u001b[0m _check_bus_index_and_print_warning_if_high(net)\n\u001b[1;32m    231\u001b[0m _check_gen_index_and_print_warning_if_high(net)\n\u001b[0;32m--> 232\u001b[0m \u001b[43m_powerflow\u001b[49m\u001b[43m(\u001b[49m\u001b[43mnet\u001b[49m\u001b[43m,\u001b[49m\u001b[43m \u001b[49m\u001b[38;5;241;43m*\u001b[39;49m\u001b[38;5;241;43m*\u001b[39;49m\u001b[43mkwargs\u001b[49m\u001b[43m)\u001b[49m\n",
      "File \u001b[0;32m~/Desktop/PostDoc/Code/MachineLearning4PowerSystems/ENV/lib/python3.9/site-packages/pandapower/powerflow.py:75\u001b[0m, in \u001b[0;36m_powerflow\u001b[0;34m(net, **kwargs)\u001b[0m\n\u001b[1;32m     71\u001b[0m net\u001b[38;5;241m.\u001b[39m_pd2ppc_lookups \u001b[38;5;241m=\u001b[39m {\u001b[38;5;124m\"\u001b[39m\u001b[38;5;124mbus\u001b[39m\u001b[38;5;124m\"\u001b[39m: array([], dtype\u001b[38;5;241m=\u001b[39m\u001b[38;5;28mint\u001b[39m), \u001b[38;5;124m\"\u001b[39m\u001b[38;5;124mext_grid\u001b[39m\u001b[38;5;124m\"\u001b[39m: array([], dtype\u001b[38;5;241m=\u001b[39m\u001b[38;5;28mint\u001b[39m),\n\u001b[1;32m     72\u001b[0m                        \u001b[38;5;124m\"\u001b[39m\u001b[38;5;124mgen\u001b[39m\u001b[38;5;124m\"\u001b[39m: array([], dtype\u001b[38;5;241m=\u001b[39m\u001b[38;5;28mint\u001b[39m), \u001b[38;5;124m\"\u001b[39m\u001b[38;5;124mbranch\u001b[39m\u001b[38;5;124m\"\u001b[39m: array([], dtype\u001b[38;5;241m=\u001b[39m\u001b[38;5;28mint\u001b[39m)}\n\u001b[1;32m     74\u001b[0m \u001b[38;5;66;03m# convert pandapower net to ppc\u001b[39;00m\n\u001b[0;32m---> 75\u001b[0m ppc, ppci \u001b[38;5;241m=\u001b[39m \u001b[43m_pd2ppc\u001b[49m\u001b[43m(\u001b[49m\u001b[43mnet\u001b[49m\u001b[43m)\u001b[49m\n\u001b[1;32m     77\u001b[0m \u001b[38;5;66;03m# store variables\u001b[39;00m\n\u001b[1;32m     78\u001b[0m net[\u001b[38;5;124m\"\u001b[39m\u001b[38;5;124m_ppc\u001b[39m\u001b[38;5;124m\"\u001b[39m] \u001b[38;5;241m=\u001b[39m ppc\n",
      "File \u001b[0;32m~/Desktop/PostDoc/Code/MachineLearning4PowerSystems/ENV/lib/python3.9/site-packages/pandapower/pd2ppc.py:155\u001b[0m, in \u001b[0;36m_pd2ppc\u001b[0;34m(net, sequence)\u001b[0m\n\u001b[1;32m    152\u001b[0m \u001b[38;5;28;01mif\u001b[39;00m \u001b[38;5;124m\"\u001b[39m\u001b[38;5;124mpf\u001b[39m\u001b[38;5;124m\"\u001b[39m \u001b[38;5;129;01min\u001b[39;00m mode:\n\u001b[1;32m    153\u001b[0m     _check_for_reference_bus(ppc)\n\u001b[0;32m--> 155\u001b[0m \u001b[43maux\u001b[49m\u001b[38;5;241;43m.\u001b[39;49m\u001b[43m_replace_nans_with_default_limits\u001b[49m\u001b[43m(\u001b[49m\u001b[43mnet\u001b[49m\u001b[43m,\u001b[49m\u001b[43m \u001b[49m\u001b[43mppc\u001b[49m\u001b[43m)\u001b[49m\n\u001b[1;32m    157\u001b[0m \u001b[38;5;66;03m# generates \"internal\" ppci format (for powerflow calc)\u001b[39;00m\n\u001b[1;32m    158\u001b[0m \u001b[38;5;66;03m# from \"external\" ppc format and updates the bus lookup\u001b[39;00m\n\u001b[1;32m    159\u001b[0m \u001b[38;5;66;03m# Note: Also reorders buses and gens in ppc\u001b[39;00m\n\u001b[1;32m    160\u001b[0m ppci \u001b[38;5;241m=\u001b[39m _ppc2ppci(ppc, net)\n",
      "File \u001b[0;32m~/Desktop/PostDoc/Code/MachineLearning4PowerSystems/ENV/lib/python3.9/site-packages/pandapower/auxiliary.py:941\u001b[0m, in \u001b[0;36m_replace_nans_with_default_limits\u001b[0;34m(net, ppc)\u001b[0m\n\u001b[1;32m    938\u001b[0m \u001b[38;5;28;01mfor\u001b[39;00m matrix, column, default \u001b[38;5;129;01min\u001b[39;00m [(\u001b[38;5;124m\"\u001b[39m\u001b[38;5;124mgen\u001b[39m\u001b[38;5;124m\"\u001b[39m, QMAX, qlim), (\u001b[38;5;124m\"\u001b[39m\u001b[38;5;124mgen\u001b[39m\u001b[38;5;124m\"\u001b[39m, QMIN, \u001b[38;5;241m-\u001b[39mqlim), (\u001b[38;5;124m\"\u001b[39m\u001b[38;5;124mgen\u001b[39m\u001b[38;5;124m\"\u001b[39m, PMIN, \u001b[38;5;241m-\u001b[39mplim),\n\u001b[1;32m    939\u001b[0m                                 (\u001b[38;5;124m\"\u001b[39m\u001b[38;5;124mgen\u001b[39m\u001b[38;5;124m\"\u001b[39m, PMAX, plim), (\u001b[38;5;124m\"\u001b[39m\u001b[38;5;124mbus\u001b[39m\u001b[38;5;124m\"\u001b[39m, VMAX, \u001b[38;5;241m2.0\u001b[39m), (\u001b[38;5;124m\"\u001b[39m\u001b[38;5;124mbus\u001b[39m\u001b[38;5;124m\"\u001b[39m, VMIN, \u001b[38;5;241m0.0\u001b[39m)]:\n\u001b[1;32m    940\u001b[0m     limits \u001b[38;5;241m=\u001b[39m ppc[matrix][:, [column]]\n\u001b[0;32m--> 941\u001b[0m     \u001b[43mnp\u001b[49m\u001b[38;5;241;43m.\u001b[39;49m\u001b[43mcopyto\u001b[49m\u001b[43m(\u001b[49m\u001b[43mlimits\u001b[49m\u001b[43m,\u001b[49m\u001b[43m \u001b[49m\u001b[43mdefault\u001b[49m\u001b[43m,\u001b[49m\u001b[43m \u001b[49m\u001b[43mwhere\u001b[49m\u001b[38;5;241;43m=\u001b[39;49m\u001b[43mnp\u001b[49m\u001b[38;5;241;43m.\u001b[39;49m\u001b[43misnan\u001b[49m\u001b[43m(\u001b[49m\u001b[43mlimits\u001b[49m\u001b[43m)\u001b[49m\u001b[43m)\u001b[49m\n\u001b[1;32m    942\u001b[0m     ppc[matrix][:, [column]] \u001b[38;5;241m=\u001b[39m limits\n",
      "File \u001b[0;32m<__array_function__ internals>:179\u001b[0m, in \u001b[0;36mcopyto\u001b[0;34m(*args, **kwargs)\u001b[0m\n",
      "File \u001b[0;32m~/Desktop/PostDoc/Code/MachineLearning4PowerSystems/ENV/lib/python3.9/site-packages/numpy/core/multiarray.py:1103\u001b[0m, in \u001b[0;36mcopyto\u001b[0;34m(dst, src, casting, where)\u001b[0m\n\u001b[1;32m   1071\u001b[0m \u001b[38;5;129m@array_function_from_c_func_and_dispatcher\u001b[39m(_multiarray_umath\u001b[38;5;241m.\u001b[39mcopyto)\n\u001b[1;32m   1072\u001b[0m \u001b[38;5;28;01mdef\u001b[39;00m \u001b[38;5;21mcopyto\u001b[39m(dst, src, casting\u001b[38;5;241m=\u001b[39m\u001b[38;5;28;01mNone\u001b[39;00m, where\u001b[38;5;241m=\u001b[39m\u001b[38;5;28;01mNone\u001b[39;00m):\n\u001b[1;32m   1073\u001b[0m     \u001b[38;5;124;03m\"\"\"\u001b[39;00m\n\u001b[1;32m   1074\u001b[0m \u001b[38;5;124;03m    copyto(dst, src, casting='same_kind', where=True)\u001b[39;00m\n\u001b[1;32m   1075\u001b[0m \n\u001b[0;32m   (...)\u001b[0m\n\u001b[1;32m   1101\u001b[0m \u001b[38;5;124;03m        wherever it contains the value True.\u001b[39;00m\n\u001b[1;32m   1102\u001b[0m \u001b[38;5;124;03m    \"\"\"\u001b[39;00m\n\u001b[0;32m-> 1103\u001b[0m     \u001b[38;5;28;01mreturn\u001b[39;00m (dst, src, where)\n",
      "\u001b[0;31mKeyboardInterrupt\u001b[0m: "
     ]
    }
   ],
   "source": [
    "r_list = []\n",
    "y_list = []\n",
    "for _ in range(1000):\n",
    "    y, r, r_critic = explore(a, x, nets, sigma=1e-2)\n",
    "    r_list.append(r[0][0])\n",
    "    y_list.append(y['gen']['vm_pu'][0,0,0])"
   ]
  },
  {
   "cell_type": "code",
   "execution_count": null,
   "id": "b0f5afbe",
   "metadata": {
    "scrolled": true
   },
   "outputs": [],
   "source": [
    "T = 1000\n",
    "\n",
    "plt.scatter(y_list[:T], r_list[:T])\n",
    "plt.show()\n",
    "print(np.cov(y_list[:T], r_list[:T])[0,1])"
   ]
  },
  {
   "cell_type": "code",
   "execution_count": null,
   "id": "d7d5ab36",
   "metadata": {},
   "outputs": [],
   "source": []
  },
  {
   "cell_type": "code",
   "execution_count": null,
   "id": "065e7496",
   "metadata": {},
   "outputs": [],
   "source": [
    "y['gen']['vm_pu'][0,0,0]"
   ]
  },
  {
   "cell_type": "code",
   "execution_count": 16,
   "id": "ba961dd7",
   "metadata": {},
   "outputs": [],
   "source": [
    "r_list = []"
   ]
  },
  {
   "cell_type": "code",
   "execution_count": null,
   "id": "793b7736",
   "metadata": {
    "scrolled": true
   },
   "outputs": [
    {
     "data": {
      "application/vnd.jupyter.widget-view+json": {
       "model_id": "fc3abc01964643019ea0e85bef12db2a",
       "version_major": 2,
       "version_minor": 0
      },
      "text/plain": [
       "  0%|          | 0/6983 [00:00<?, ?it/s]"
      ]
     },
     "metadata": {},
     "output_type": "display_data"
    }
   ],
   "source": [
    "for epoch in range(5):\n",
    "    train_pbar = tqdm(interface.train)\n",
    "    for a, x, nets in train_pbar:\n",
    "        \n",
    "\n",
    "        step +=1\n",
    "\n",
    "        y, r, r_critic = explore(a, x, nets, sigma=1e-4, lam1=1e4, lam2=0.)\n",
    "        r_list.append(np.mean(r))\n",
    "\n",
    "        actor.weights, actor_opt_state, actor_loss = update_actor(\n",
    "            step, actor.weights, a, x, y, r, r_critic, sigma, actor_opt_state)\n",
    "\n",
    "        #critic.weights, critic_opt_state, critic_loss = update_critic(\n",
    "        #    step, critic.weights, a, x, z, lam, sigma, critic_opt_state)\n",
    "\n",
    "        # Store rewards and display scores\n",
    "        #r_joule = float(jnp.mean(joule(z) * lam))\n",
    "        #joule_list.append(r_joule)\n",
    "        #r_voltage = float(jnp.mean(voltage(x,z)))\n",
    "        #voltage_list.append(r_voltage)\n",
    "        #loss_critic = cost_critic(y_critic, z, lam)\n",
    "        #critic_list.append(loss_critic)\n",
    "        train_pbar.set_description(\"Epoch {}, Reward = {:.2e}\".format(epoch, np.mean(r)))\n",
    "\n"
   ]
  },
  {
   "cell_type": "code",
   "execution_count": 29,
   "id": "442f8e7a",
   "metadata": {},
   "outputs": [
    {
     "data": {
      "image/png": "[encoded data removed]",
      "text/plain": [
       "<Figure size 432x288 with 1 Axes>"
      ]
     },
     "metadata": {
      "needs_background": "light"
     },
     "output_type": "display_data"
    }
   ],
   "source": [
    "plt.plot(r_list)\n",
    "plt.show()"
   ]
  },
  {
   "cell_type": "code",
   "execution_count": 30,
   "id": "9ed8378b",
   "metadata": {},
   "outputs": [
    {
     "data": {
      "text/plain": [
       "{'gen': {'vm_pu': array([[[1.04346367],\n",
       "          [1.02474306],\n",
       "          [1.04140667],\n",
       "          [1.04120169]]])},\n",
       " 'ext_grid': {'vm_pu': array([[[1.06006682]]])}}"
      ]
     },
     "execution_count": 30,
     "metadata": {},
     "output_type": "execute_result"
    }
   ],
   "source": [
    "y"
   ]
  },
  {
   "cell_type": "code",
   "execution_count": 23,
   "id": "122a70d2",
   "metadata": {
    "scrolled": true
   },
   "outputs": [
    {
     "data": {
      "text/plain": [
       "([[0.17592808922630326]], [[0.17590156674040802]])"
      ]
     },
     "execution_count": 23,
     "metadata": {},
     "output_type": "execute_result"
    }
   ],
   "source": [
    "r, r_critic"
   ]
  },
  {
   "cell_type": "code",
   "execution_count": 24,
   "id": "9107b372",
   "metadata": {},
   "outputs": [
    {
     "data": {
      "text/plain": [
       "array([[[1.06],\n",
       "        [1.06],\n",
       "        [1.06],\n",
       "        [1.06],\n",
       "        [1.06],\n",
       "        [1.06],\n",
       "        [1.06],\n",
       "        [1.06],\n",
       "        [1.06],\n",
       "        [1.06],\n",
       "        [1.06],\n",
       "        [1.06],\n",
       "        [1.06],\n",
       "        [1.06]]])"
      ]
     },
     "execution_count": 24,
     "metadata": {},
     "output_type": "execute_result"
    }
   ],
   "source": [
    "x['bus']['max_vm_pu']"
   ]
  },
  {
   "cell_type": "code",
   "execution_count": 25,
   "id": "3819c171",
   "metadata": {},
   "outputs": [
    {
     "data": {
      "text/plain": [
       "[[0.17592808922630326]]"
      ]
     },
     "execution_count": 25,
     "metadata": {},
     "output_type": "execute_result"
    }
   ],
   "source": [
    "apply_action(nets, y, lam1=1e2, lam2=0.)"
   ]
  },
  {
   "cell_type": "code",
   "execution_count": 26,
   "id": "46f25844",
   "metadata": {},
   "outputs": [
    {
     "data": {
      "text/html": [
       "<div>\n",
       "<style scoped>\n",
       "    .dataframe tbody tr th:only-of-type {\n",
       "        vertical-align: middle;\n",
       "    }\n",
       "\n",
       "    .dataframe tbody tr th {\n",
       "        vertical-align: top;\n",
       "    }\n",
       "\n",
       "    .dataframe thead th {\n",
       "        text-align: right;\n",
       "    }\n",
       "</style>\n",
       "<table border=\"1\" class=\"dataframe\">\n",
       "  <thead>\n",
       "    <tr style=\"text-align: right;\">\n",
       "      <th></th>\n",
       "      <th>vm_pu</th>\n",
       "      <th>va_degree</th>\n",
       "      <th>p_mw</th>\n",
       "      <th>q_mvar</th>\n",
       "    </tr>\n",
       "  </thead>\n",
       "  <tbody>\n",
       "    <tr>\n",
       "      <th>0</th>\n",
       "      <td>1.056304</td>\n",
       "      <td>0.000000</td>\n",
       "      <td>-139.890747</td>\n",
       "      <td>-10.559183</td>\n",
       "    </tr>\n",
       "    <tr>\n",
       "      <th>1</th>\n",
       "      <td>1.037887</td>\n",
       "      <td>-2.753342</td>\n",
       "      <td>-29.348097</td>\n",
       "      <td>1.276805</td>\n",
       "    </tr>\n",
       "    <tr>\n",
       "      <th>2</th>\n",
       "      <td>1.020058</td>\n",
       "      <td>-7.700488</td>\n",
       "      <td>53.636061</td>\n",
       "      <td>-8.486552</td>\n",
       "    </tr>\n",
       "    <tr>\n",
       "      <th>3</th>\n",
       "      <td>1.012523</td>\n",
       "      <td>-6.614216</td>\n",
       "      <td>43.282865</td>\n",
       "      <td>-3.471734</td>\n",
       "    </tr>\n",
       "    <tr>\n",
       "      <th>4</th>\n",
       "      <td>1.012810</td>\n",
       "      <td>-5.563051</td>\n",
       "      <td>7.657853</td>\n",
       "      <td>1.826307</td>\n",
       "    </tr>\n",
       "    <tr>\n",
       "      <th>5</th>\n",
       "      <td>1.033437</td>\n",
       "      <td>-9.451956</td>\n",
       "      <td>10.055360</td>\n",
       "      <td>15.605836</td>\n",
       "    </tr>\n",
       "    <tr>\n",
       "      <th>6</th>\n",
       "      <td>1.036298</td>\n",
       "      <td>-8.669213</td>\n",
       "      <td>0.000000</td>\n",
       "      <td>0.000000</td>\n",
       "    </tr>\n",
       "    <tr>\n",
       "      <th>7</th>\n",
       "      <td>1.030816</td>\n",
       "      <td>-8.669213</td>\n",
       "      <td>0.000000</td>\n",
       "      <td>3.208053</td>\n",
       "    </tr>\n",
       "    <tr>\n",
       "      <th>8</th>\n",
       "      <td>1.040780</td>\n",
       "      <td>-9.744408</td>\n",
       "      <td>11.539120</td>\n",
       "      <td>-13.794194</td>\n",
       "    </tr>\n",
       "    <tr>\n",
       "      <th>9</th>\n",
       "      <td>1.034107</td>\n",
       "      <td>-10.031580</td>\n",
       "      <td>9.155059</td>\n",
       "      <td>3.257567</td>\n",
       "    </tr>\n",
       "    <tr>\n",
       "      <th>10</th>\n",
       "      <td>1.031506</td>\n",
       "      <td>-9.862898</td>\n",
       "      <td>2.635316</td>\n",
       "      <td>1.079502</td>\n",
       "    </tr>\n",
       "    <tr>\n",
       "      <th>11</th>\n",
       "      <td>1.024482</td>\n",
       "      <td>-9.989334</td>\n",
       "      <td>2.805048</td>\n",
       "      <td>1.108294</td>\n",
       "    </tr>\n",
       "    <tr>\n",
       "      <th>12</th>\n",
       "      <td>1.020192</td>\n",
       "      <td>-10.146789</td>\n",
       "      <td>10.757630</td>\n",
       "      <td>5.092957</td>\n",
       "    </tr>\n",
       "    <tr>\n",
       "      <th>13</th>\n",
       "      <td>1.017321</td>\n",
       "      <td>-10.767637</td>\n",
       "      <td>12.030392</td>\n",
       "      <td>3.868985</td>\n",
       "    </tr>\n",
       "  </tbody>\n",
       "</table>\n",
       "</div>"
      ],
      "text/plain": [
       "       vm_pu  va_degree        p_mw     q_mvar\n",
       "0   1.056304   0.000000 -139.890747 -10.559183\n",
       "1   1.037887  -2.753342  -29.348097   1.276805\n",
       "2   1.020058  -7.700488   53.636061  -8.486552\n",
       "3   1.012523  -6.614216   43.282865  -3.471734\n",
       "4   1.012810  -5.563051    7.657853   1.826307\n",
       "5   1.033437  -9.451956   10.055360  15.605836\n",
       "6   1.036298  -8.669213    0.000000   0.000000\n",
       "7   1.030816  -8.669213    0.000000   3.208053\n",
       "8   1.040780  -9.744408   11.539120 -13.794194\n",
       "9   1.034107 -10.031580    9.155059   3.257567\n",
       "10  1.031506  -9.862898    2.635316   1.079502\n",
       "11  1.024482  -9.989334    2.805048   1.108294\n",
       "12  1.020192 -10.146789   10.757630   5.092957\n",
       "13  1.017321 -10.767637   12.030392   3.868985"
      ]
     },
     "execution_count": 26,
     "metadata": {},
     "output_type": "execute_result"
    }
   ],
   "source": [
    "nets[0][0].res_bus"
   ]
  },
  {
   "cell_type": "code",
   "execution_count": 27,
   "id": "64a8a30b",
   "metadata": {},
   "outputs": [
    {
     "data": {
      "text/plain": [
       "0.0"
      ]
     },
     "execution_count": 27,
     "metadata": {},
     "output_type": "execute_result"
    }
   ],
   "source": [
    "interface.backend.voltage_deviation(nets[0][0], True)"
   ]
  },
  {
   "cell_type": "code",
   "execution_count": null,
   "id": "fad2e37d",
   "metadata": {},
   "outputs": [],
   "source": [
    "interface.backend.joule_effect(nets[0][0], True)"
   ]
  },
  {
   "cell_type": "code",
   "execution_count": null,
   "id": "9c4ec1bd",
   "metadata": {},
   "outputs": [],
   "source": [
    "interface.backend.overflow_percentage(nets[0][0], True)"
   ]
  },
  {
   "cell_type": "code",
   "execution_count": null,
   "id": "7447f4e6",
   "metadata": {},
   "outputs": [],
   "source": [
    "plt.plot(joule_list)\n",
    "plt.show()\n",
    "\n",
    "plt.plot(voltage_list)\n",
    "plt.show()\n",
    "\n",
    "plt.plot(critic_list)\n",
    "plt.show()"
   ]
  },
  {
   "cell_type": "code",
   "execution_count": null,
   "id": "db975ffb",
   "metadata": {},
   "outputs": [],
   "source": [
    "voltage(x, z)"
   ]
  },
  {
   "cell_type": "code",
   "execution_count": null,
   "id": "296eb56b",
   "metadata": {},
   "outputs": [],
   "source": [
    "voltage(x, y_critic)"
   ]
  },
  {
   "cell_type": "code",
   "execution_count": null,
   "id": "aca00d83",
   "metadata": {},
   "outputs": [],
   "source": [
    "y_critic"
   ]
  },
  {
   "cell_type": "code",
   "execution_count": null,
   "id": "204bb5dc",
   "metadata": {},
   "outputs": [],
   "source": [
    "z['gen']['vm_pu']"
   ]
  },
  {
   "cell_type": "code",
   "execution_count": null,
   "id": "90167db3",
   "metadata": {},
   "outputs": [],
   "source": [
    "x['bus']['max_vm_pu']"
   ]
  },
  {
   "cell_type": "code",
   "execution_count": null,
   "id": "3ed4cf32",
   "metadata": {},
   "outputs": [],
   "source": [
    "plt.scatter(y_actor['gen']['mu_vm_pu'], z['gen']['vm_pu'])"
   ]
  },
  {
   "cell_type": "code",
   "execution_count": null,
   "id": "1a43aaf6",
   "metadata": {},
   "outputs": [],
   "source": [
    "l_c"
   ]
  },
  {
   "cell_type": "code",
   "execution_count": null,
   "id": "7e39dc39",
   "metadata": {},
   "outputs": [],
   "source": [
    "line_pl_mw = jnp.sum(jnp.sum(z['line']['res_pl_mw'], axis=2), axis=1)\n",
    "trafo_pl_mw = jnp.sum(jnp.sum(z['trafo']['res_pl_mw'], axis=2), axis=1)\n",
    "bus_vm_pu_max = jnp.sum(jnp.sum(jnp.maximum(0, z['bus']['res_vm_pu'] - x['bus']['max_vm_pu']), axis=2), axis=1)\n",
    "bus_vm_pu_min = jnp.sum(jnp.sum(jnp.maximum(0, x['bus']['min_vm_pu'] - z['bus']['res_vm_pu']), axis=2), axis=1)    \n",
    "bus_vm_pu_max"
   ]
  },
  {
   "cell_type": "code",
   "execution_count": null,
   "id": "d0dd73cc",
   "metadata": {},
   "outputs": [],
   "source": [
    "import matplotlib.pyplot as plt\n",
    "\n",
    "start_and_end_times = ml.linspace(0., 1., 50)\n",
    "\n",
    "def odenet(params, init_state):\n",
    "    intermediate_states = ml.odeint(actor.dynamics, init_state, start_and_end_times, params)\n",
    "    return intermediate_states\n",
    "\n",
    "batched_odenet = ml.vmap(odenet, in_axes=(None, 0))\n",
    "    \n",
    "a, x, nets = next(iter(interface.test))\n",
    "x_norm = normalizer(x)\n",
    "init_state = actor.init_state_batch(a, x_norm)\n",
    "intermediate_states = batched_odenet(actor.weights, init_state)\n",
    "\n",
    "y_plot = intermediate_states['h_e']['gen'][0,:,:,0]\n",
    "plt.plot(start_and_end_times, y_plot)\n",
    "plt.show()\n",
    "\n",
    "x_plot = intermediate_states['h_e']['gen'][0,:,:,0]\n",
    "y_plot = intermediate_states['h_e']['gen'][0,:,:,2]\n",
    "plt.plot(x_plot, y_plot)\n",
    "plt.show()\n",
    "\n",
    "y_plot = intermediate_states['h_v'][0,:,:,0]\n",
    "plt.plot(start_and_end_times, y_plot)\n",
    "plt.show()\n",
    "\n",
    "x_plot = intermediate_states['h_v'][0,:,:,0]\n",
    "y_plot = intermediate_states['h_v'][0,:,:,1]\n",
    "plt.plot(x_plot, y_plot)\n",
    "plt.show()\n",
    "\n",
    "y_plot = intermediate_states['h_g'][0,:,:,0]\n",
    "plt.plot(start_and_end_times, y_plot)\n",
    "plt.show()\n",
    "\n",
    "x_plot = intermediate_states['h_g'][0,:,:,0]\n",
    "y_plot = intermediate_states['h_g'][0,:,:,1]\n",
    "plt.plot(x_plot, y_plot)\n",
    "plt.show()"
   ]
  },
  {
   "cell_type": "code",
   "execution_count": null,
   "id": "d9721b48",
   "metadata": {},
   "outputs": [],
   "source": [
    "y_plot = intermediate_states['h_g'][:,:,0,0].T\n",
    "plt.plot(start_and_end_times, y_plot)\n",
    "plt.show()"
   ]
  },
  {
   "cell_type": "code",
   "execution_count": null,
   "id": "a02a707e",
   "metadata": {},
   "outputs": [],
   "source": [
    "intermediate_states['h_g'].shape"
   ]
  },
  {
   "cell_type": "code",
   "execution_count": null,
   "id": "b354525d",
   "metadata": {},
   "outputs": [],
   "source": [
    "plt.plot(train_losses)"
   ]
  },
  {
   "cell_type": "code",
   "execution_count": null,
   "id": "ab84a2fa",
   "metadata": {},
   "outputs": [],
   "source": [
    "np.random.normal([1, 1], 0.0005)"
   ]
  },
  {
   "cell_type": "code",
   "execution_count": null,
   "id": "16ea7522",
   "metadata": {},
   "outputs": [],
   "source": []
  },
  {
   "cell_type": "code",
   "execution_count": null,
   "id": "bd500770",
   "metadata": {},
   "outputs": [],
   "source": [
    "# Remove temporary data file\n",
    "if os.path.isfile('test.hdf5'): os.remove('test.hdf5')"
   ]
  },
  {
   "cell_type": "code",
   "execution_count": null,
   "id": "0bf04ad9",
   "metadata": {},
   "outputs": [],
   "source": [
    "import pandapower as pp"
   ]
  },
  {
   "cell_type": "code",
   "execution_count": null,
   "id": "68e0f6da",
   "metadata": {},
   "outputs": [],
   "source": [
    "nets[0][0].res_line.loading_percent"
   ]
  },
  {
   "cell_type": "code",
   "execution_count": null,
   "id": "4776c1d3",
   "metadata": {},
   "outputs": [],
   "source": [
    "(np.maximum(0, nets[0][0].res_bus.vm_pu - nets[0][0].bus.max_vm_pu)**2).sum()"
   ]
  },
  {
   "cell_type": "code",
   "execution_count": null,
   "id": "90799bce",
   "metadata": {},
   "outputs": [],
   "source": []
  }
 ],
 "metadata": {
  "kernelspec": {
   "display_name": "Python 3 (ipykernel)",
   "language": "python",
   "name": "python3"
  },
  "language_info": {
   "codemirror_mode": {
    "name": "ipython",
    "version": 3
   },
   "file_extension": ".py",
   "mimetype": "text/x-python",
   "name": "python",
   "nbconvert_exporter": "python",
   "pygments_lexer": "ipython3",
   "version": "3.9.13"
  }
 },
 "nbformat": 4,
 "nbformat_minor": 5
}
