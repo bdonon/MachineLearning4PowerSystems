{
 "cells": [
  {
   "cell_type": "markdown",
   "id": "48358519",
   "metadata": {},
   "source": [
    "# Training a dense neural network to imitate a simulator\n",
    "\n",
    "In this notebook, we explain how to use our package to train a simple neural network to imitate the output of an AC power flow simulator."
   ]
  },
  {
   "cell_type": "code",
   "execution_count": 1,
   "id": "9ea6148d",
   "metadata": {},
   "outputs": [],
   "source": [
    "from torch.utils.data import DataLoader\n",
    "import numpy as np\n",
    "import tqdm\n",
    "import jax\n",
    "import jax.numpy as jnp\n",
    "\n",
    "%load_ext autoreload\n",
    "%autoreload 2\n",
    "\n",
    "import sys; sys.path.insert(0, '../../..')\n",
    "import ml4ps as mp"
   ]
  },
  {
   "cell_type": "markdown",
   "id": "4ad7b304",
   "metadata": {},
   "source": [
    "## Downloading a dataset\n",
    "\n",
    "First of all, we need to download a dataset. We propose to download a small dataset of power grids derived from the case60nordic file (also known as nordic32), randomly generated using [powerdatagen](https://github.com/bdonon/powerdatagen).\n",
    "\n",
    "The dataset is available on zenodo [here](https://zenodo.org/record/7077699). The following code downloads the dataset if it is not already here. Please be patient, as it may take several minutes (not more than 10 minutes though).\n",
    "\n",
    "If you have already downloaded the dataset, then this does nothing."
   ]
  },
  {
   "cell_type": "code",
   "execution_count": 2,
   "id": "ab9d5953",
   "metadata": {},
   "outputs": [],
   "source": [
    "%%bash\n",
    "if [ ! -d data/case60/ ]\n",
    "then\n",
    "    zenodo_get '10.5281/zenodo.7077699' -o data/\n",
    "    unzip -qq data/case60.zip -d data/\n",
    "    rm data/case60.zip data/md5sums.txt\n",
    "fi"
   ]
  },
  {
   "cell_type": "markdown",
   "id": "90b57145",
   "metadata": {},
   "source": [
    "## Backend instantation"
   ]
  },
  {
   "cell_type": "markdown",
   "id": "7528dbef",
   "metadata": {},
   "source": [
    "We need to import a backend, which will serve to read power grid data. In some more complex problem, it will be used to perform power grid simulations.\n",
    "\n",
    "In this case, we are considering a dataset of .json files that can be read by pandapower. We thus choose the backend that uses pandapower."
   ]
  },
  {
   "cell_type": "code",
   "execution_count": 2,
   "id": "8cf5b725",
   "metadata": {},
   "outputs": [],
   "source": [
    "backend = mp.PandaPowerBackend()"
   ]
  },
  {
   "cell_type": "code",
   "execution_count": 23,
   "id": "08065c37",
   "metadata": {},
   "outputs": [],
   "source": [
    "train_dir = '../../../../powerdatagen/data/case60nordic_small/train'\n",
    "train_dir_pkl = '../../../../powerdatagen/data/case60nordic_small/train_pkl'\n",
    "test_dir = '../../../../powerdatagen/data/case60nordic_small/test'\n",
    "\n",
    "# train_dir = 'data/case60/train'"
   ]
  },
  {
   "cell_type": "markdown",
   "id": "693962a6",
   "metadata": {},
   "source": [
    "## Building a normalizer"
   ]
  },
  {
   "cell_type": "code",
   "execution_count": 4,
   "id": "6ae78f58",
   "metadata": {},
   "outputs": [
    {
     "name": "stderr",
     "output_type": "stream",
     "text": [
      "Loading power grids.: 100%|███████████████████████████████████████████████████████████████████████████████████████████████████████████████████████████████████████████████████████████████████████████████████████████████████████████████████████████████████████████████████████████| 100/100 [00:04<00:00, 21.11it/s]\n",
      "Extracting features.: 100%|██████████████████████████████████████████████████████████████████████████████████████████████████████████████████████████████████████████████████████████████████████████████████████████████████████████████████████████████████████████████████████████| 100/100 [00:00<00:00, 126.21it/s]\n"
     ]
    }
   ],
   "source": [
    "normalizer = mp.Normalizer(data_dir=train_dir, backend=backend)"
   ]
  },
  {
   "cell_type": "markdown",
   "id": "8c45d8d7",
   "metadata": {},
   "source": [
    "## Building a train set and a data loader\n",
    "\n",
    "The normalizer is fed to the data loader, so that ..."
   ]
  },
  {
   "cell_type": "code",
   "execution_count": 5,
   "id": "62cc8716",
   "metadata": {},
   "outputs": [
    {
     "name": "stderr",
     "output_type": "stream",
     "text": [
      "Loading the dataset in memory.: 100%|████████████████████████████████████████████████████████████████████████████████████████████████████████████████████████████████████████████████████████████████████████████████████████████████████████████████████████████████████████████| 10000/10000 [00:52<00:00, 190.19it/s]\n"
     ]
    }
   ],
   "source": [
    "train_set = mp.PowerGridDataset(data_dir=train_dir_pkl, backend=backend, normalizer=normalizer,\n",
    "                                pickle=True, load_in_memory=True)\n",
    "#train_set = mp.PowerGridDataset(data_dir=train_dir, backend=backend, normalizer=normalizer)\n",
    "train_loader = DataLoader(train_set,\n",
    "                          batch_size=8,\n",
    "                          shuffle=True,\n",
    "                          collate_fn=mp.collate_power_grid)"
   ]
  },
  {
   "cell_type": "code",
   "execution_count": 6,
   "id": "0a2c940a",
   "metadata": {},
   "outputs": [],
   "source": [
    "# test_dir = 'data/case60/test'\n",
    "# test_set = mp.PowerGridDataset(data_dir=test_dir, backend=backend, normalizer=normalizer,\n",
    "#                                dataset_in_memory=True)\n",
    "# test_loader = DataLoader(test_set,\n",
    "#                           batch_size=8,\n",
    "#                           shuffle=True,\n",
    "#                           num_workers=2,\n",
    "#                           collate_fn=mp.collate_power_grid,\n",
    "#                           prefetch_factor=8)\n"
   ]
  },
  {
   "cell_type": "code",
   "execution_count": 7,
   "id": "a61e9d00",
   "metadata": {},
   "outputs": [],
   "source": [
    "# for x, net in tqdm.tqdm(test_loader):\n",
    "# #     print('ok')"
   ]
  },
  {
   "cell_type": "markdown",
   "id": "68dd4687",
   "metadata": {},
   "source": [
    "## Building a Fully Connected neural network\n",
    "\n",
    "First of all, we need to tell the neural network which features it should take as input, and wich features we want it to output. In this case, we want the neural network to output predictions for the voltage magnitude at each bus."
   ]
  },
  {
   "cell_type": "code",
   "execution_count": 8,
   "id": "13d8f6ff",
   "metadata": {},
   "outputs": [],
   "source": [
    "input_feature_names = {'load': ['p_mw', 'q_mvar'], 'gen': ['p_mw', 'vm_pu'], 'ext_grid': ['vm_pu']}\n",
    "output_feature_names = {'bus': ['res_vm_pu']}"
   ]
  },
  {
   "cell_type": "code",
   "execution_count": 9,
   "id": "a6577261",
   "metadata": {},
   "outputs": [],
   "source": [
    "local_input_feature_names = {\n",
    "    'bus': ['in_service', 'max_vm_pu', 'min_vm_pu', 'vn_kv'],\n",
    "    'load': ['const_i_percent', 'const_z_percent', 'controllable', 'in_service', \n",
    "                                'p_mw', 'q_mvar', 'scaling', 'sn_mva'],\n",
    "    'sgen': ['controllable', 'in_service', 'p_mw', 'q_mvar', 'scaling', 'sn_mva',\n",
    "                                'current_source'],\n",
    "    'gen': ['controllable', 'in_service', 'p_mw', 'scaling', 'sn_mva', 'vm_pu',\n",
    "                'slack', 'max_p_mw', 'min_p_mw', 'max_q_mvar', 'min_q_mvar', 'slack_weight'],\n",
    "    'shunt': ['q_mvar', 'p_mw', 'vn_kv', 'step', 'max_step', 'in_service'],\n",
    "    'ext_grid': ['in_service', 'va_degree', 'vm_pu', 'max_p_mw', 'min_p_mw', 'max_q_mvar',\n",
    "                                'min_q_mvar', 'slack_weight'],\n",
    "    'line': ['c_nf_per_km', 'df', 'g_us_per_km', 'in_service', 'length_km', 'max_i_ka',\n",
    "                                'max_loading_percent', 'parallel', 'r_ohm_per_km', 'x_ohm_per_km'],\n",
    "    'trafo': ['df', 'i0_percent', 'in_service', 'max_loading_percent', 'parallel', \n",
    "                                'pfe_kw', 'shift_degree', 'sn_mva', 'tap_max', 'tap_neutral', 'tap_min',\n",
    "                                'tap_phase_shifter', 'tap_pos', 'tap_side', 'tap_step_degree', \n",
    "                                'tap_step_percent', 'vn_hv_kv', 'vn_lv_kv', 'vk_percent', 'vkr_percent']\n",
    "}\n",
    "local_output_feature_names = {'bus': ['res_vm_pu']}\n",
    "local_address_names = {\n",
    "    'bus': ['id'],\n",
    "    'load': ['bus'],\n",
    "    'sgen': ['bus'],\n",
    "    'gen': ['bus'],\n",
    "    'shunt': ['bus'],\n",
    "    'ext_grid': ['bus'],\n",
    "    'line': ['from_bus', 'to_bus'],\n",
    "    'trafo': ['hv_bus', 'lv_bus']\n",
    "}"
   ]
  },
  {
   "cell_type": "code",
   "execution_count": 10,
   "id": "247076ef",
   "metadata": {},
   "outputs": [],
   "source": [
    "# data_structure = {\n",
    "#     'load': {'input_feature_names': ['p_mw', 'q_mvar']},\n",
    "#     'gen': {'input_feature_names': ['p_mw', 'vm_pu']},\n",
    "#     'ext_grid': {'input_feature_names': ['vm_pu']},\n",
    "#     'bus': {'output_feature_names': ['res_vm_pu']}\n",
    "# }"
   ]
  },
  {
   "cell_type": "markdown",
   "id": "ec74c090",
   "metadata": {},
   "source": [
    "Since we are working with a fully connected neural network, we need to pass a sample to the constructor, so that  it knows how many object of each class will be present in the data. This is due to the fact that fully connected neural networks can only take vector data as input. By telling the neural network the amount of objects, it is able to initialize its weights using the right dimensions."
   ]
  },
  {
   "cell_type": "code",
   "execution_count": 11,
   "id": "d52e7cce",
   "metadata": {},
   "outputs": [],
   "source": [
    "x, nets = next(iter(train_loader))\n",
    "\n",
    "fully_connected = mp.FullyConnected(\n",
    "    x=x,\n",
    "    local_input_feature_names=local_input_feature_names,\n",
    "    local_output_feature_names=local_output_feature_names,\n",
    "    local_address_names=local_address_names,\n",
    "    hidden_dimensions=[1024,1024])"
   ]
  },
  {
   "cell_type": "markdown",
   "id": "845cfc76",
   "metadata": {},
   "source": [
    "In addition, we need to specify post-processing functions, so that our model starts its training in a reasonable range. Here, we know that voltage magnitudes should be around 1 p.u., so we post-process the neural network output by adding an offset of 1."
   ]
  },
  {
   "cell_type": "code",
   "execution_count": 12,
   "id": "5b37253e",
   "metadata": {},
   "outputs": [],
   "source": [
    "#functions = {'bus': {'res_vm_pu': [mp.AffineTransform(offset=1.)]}}\n",
    "#postprocessor = mp.PostProcessor(functions=functions)\n",
    "\n",
    "postprocessor = mp.PostProcessor(config={'bus':{'res_vm_pu':[['affine',{'offset':1.}]]}})"
   ]
  },
  {
   "cell_type": "markdown",
   "id": "ce48be16",
   "metadata": {},
   "source": [
    "## Training loop"
   ]
  },
  {
   "cell_type": "markdown",
   "id": "c9d7174e",
   "metadata": {},
   "source": [
    "Here, we propose to train our neural network using the Adam optimizer. The loss function is the squared distance between the neural network prediction and the output of the simulator."
   ]
  },
  {
   "cell_type": "code",
   "execution_count": 13,
   "id": "eeff6eae",
   "metadata": {},
   "outputs": [],
   "source": [
    "from jax.example_libraries import optimizers\n",
    "\n",
    "learning_rate = 3e-4\n",
    "opt_init, opt_update, get_params = optimizers.adam(learning_rate)\n",
    "opt_state = opt_init(fully_connected.params)"
   ]
  },
  {
   "cell_type": "code",
   "execution_count": 14,
   "id": "aee84ea4",
   "metadata": {},
   "outputs": [],
   "source": [
    "def loss_function(params, x, y):\n",
    "    y_hat = fully_connected.apply(params, x)\n",
    "    y_post = postprocessor(y_hat)\n",
    "    loss = jnp.mean((y_post['bus']['res_vm_pu'] - y['bus']['res_vm_pu'])**2)\n",
    "    return loss\n",
    "\n",
    "@jax.jit\n",
    "def update(params, x, y, opt_state, step):\n",
    "    loss, grads = jax.value_and_grad(loss_function)(params, x, y)\n",
    "    opt_state = opt_update(step, grads, opt_state)\n",
    "    return get_params(opt_state), opt_state, loss"
   ]
  },
  {
   "cell_type": "code",
   "execution_count": 15,
   "id": "06b308fe",
   "metadata": {},
   "outputs": [],
   "source": [
    "step = 0\n",
    "losses = []"
   ]
  },
  {
   "cell_type": "code",
   "execution_count": 38,
   "id": "27af40b1",
   "metadata": {},
   "outputs": [
    {
     "name": "stderr",
     "output_type": "stream",
     "text": [
      "Epoch 0, Loss = 2.85e-05: 100%|█████████████████████████████████████████████████████████████████████████████████████████████████████████████████████████████████████████████████████████████████████████████████████████████████████████████████████████████████████████████████████| 1250/1250 [01:07<00:00, 18.41it/s]\n",
      "Epoch 1, Loss = 5.47e-05: 100%|█████████████████████████████████████████████████████████████████████████████████████████████████████████████████████████████████████████████████████████████████████████████████████████████████████████████████████████████████████████████████████| 1250/1250 [01:07<00:00, 18.45it/s]\n",
      "Epoch 2, Loss = 1.20e-04: 100%|█████████████████████████████████████████████████████████████████████████████████████████████████████████████████████████████████████████████████████████████████████████████████████████████████████████████████████████████████████████████████████| 1250/1250 [01:05<00:00, 19.04it/s]\n",
      "Epoch 3, Loss = 6.43e-05: 100%|█████████████████████████████████████████████████████████████████████████████████████████████████████████████████████████████████████████████████████████████████████████████████████████████████████████████████████████████████████████████████████| 1250/1250 [01:07<00:00, 18.52it/s]\n",
      "Epoch 4, Loss = 4.22e-05: 100%|█████████████████████████████████████████████████████████████████████████████████████████████████████████████████████████████████████████████████████████████████████████████████████████████████████████████████████████████████████████████████████| 1250/1250 [01:05<00:00, 19.06it/s]\n",
      "Epoch 5, Loss = 1.86e-05: 100%|█████████████████████████████████████████████████████████████████████████████████████████████████████████████████████████████████████████████████████████████████████████████████████████████████████████████████████████████████████████████████████| 1250/1250 [01:06<00:00, 18.71it/s]\n",
      "Epoch 6, Loss = 3.16e-05: 100%|█████████████████████████████████████████████████████████████████████████████████████████████████████████████████████████████████████████████████████████████████████████████████████████████████████████████████████████████████████████████████████| 1250/1250 [01:07<00:00, 18.58it/s]\n",
      "Epoch 7, Loss = 1.30e-05: 100%|█████████████████████████████████████████████████████████████████████████████████████████████████████████████████████████████████████████████████████████████████████████████████████████████████████████████████████████████████████████████████████| 1250/1250 [01:06<00:00, 18.69it/s]\n",
      "Epoch 8, Loss = 7.99e-05: 100%|█████████████████████████████████████████████████████████████████████████████████████████████████████████████████████████████████████████████████████████████████████████████████████████████████████████████████████████████████████████████████████| 1250/1250 [01:08<00:00, 18.23it/s]\n",
      "Epoch 9, Loss = 6.33e-05: 100%|█████████████████████████████████████████████████████████████████████████████████████████████████████████████████████████████████████████████████████████████████████████████████████████████████████████████████████████████████████████████████████| 1250/1250 [01:06<00:00, 18.69it/s]\n"
     ]
    }
   ],
   "source": [
    "for epoch in range(10):\n",
    "    for x, nets in (pbar := tqdm.tqdm(train_loader)):\n",
    "    #for x, nets in (pbar := tqdm.tqdm(test_loader)):\n",
    "        step += 1\n",
    "        \n",
    "        backend.run_batch(nets) # AC power flow simulation \n",
    "        y = backend.get_data_batch(nets, feature_names={'bus':['res_vm_pu']}) # Ground truth extraction\n",
    "        fully_connected.params, opt_state, loss = update(fully_connected.params, x, y, opt_state, step)\n",
    "        \n",
    "        pbar.set_description(\"Epoch {}, Loss = {:.2e}\".format(epoch, loss))\n",
    "        losses.append(loss)"
   ]
  },
  {
   "cell_type": "code",
   "execution_count": 39,
   "id": "96d462ad",
   "metadata": {},
   "outputs": [
    {
     "data": {
      "image/png": "[encoded data removed]",
      "text/plain": [
       "<Figure size 640x480 with 1 Axes>"
      ]
     },
     "metadata": {},
     "output_type": "display_data"
    }
   ],
   "source": [
    "import matplotlib.pyplot as plt\n",
    "plt.plot(losses, linewidth=0.2)\n",
    "plt.yscale('log')\n",
    "plt.show()"
   ]
  },
  {
   "cell_type": "markdown",
   "id": "631172cf",
   "metadata": {},
   "source": [
    "## Testing the model\n",
    "\n",
    "We now wish to take a look at how well our model performs on the test data. In this notebook we propose to plot the ground truth versus the prediction for a sample of data."
   ]
  },
  {
   "cell_type": "code",
   "execution_count": 40,
   "id": "f2a77b15",
   "metadata": {},
   "outputs": [],
   "source": [
    "test_set = mp.PowerGridDataset(data_dir=test_dir, backend=backend, normalizer=normalizer)\n",
    "test_loader = DataLoader(test_set,\n",
    "                          batch_size=8,\n",
    "                          shuffle=True,\n",
    "                          #num_workers=2,\n",
    "                          collate_fn=mp.collate_power_grid)#,\n",
    "                          #prefetch_factor=8)"
   ]
  },
  {
   "cell_type": "code",
   "execution_count": 41,
   "id": "3ad5c7aa",
   "metadata": {},
   "outputs": [],
   "source": [
    "x, nets = next(iter(test_loader))"
   ]
  },
  {
   "cell_type": "code",
   "execution_count": 42,
   "id": "86c9382c",
   "metadata": {},
   "outputs": [
    {
     "data": {
      "image/png": "[encoded data removed]",
      "text/plain": [
       "<Figure size 640x480 with 1 Axes>"
      ]
     },
     "metadata": {},
     "output_type": "display_data"
    }
   ],
   "source": [
    "# Perform prediction\n",
    "y_hat = fully_connected.apply(fully_connected.params, x)\n",
    "y_post = postprocessor(y_hat)\n",
    "y_post = np.reshape(y_post['bus']['res_vm_pu'], [-1])\n",
    "\n",
    "# Get ground truth\n",
    "y_truth = backend.get_data_batch(nets, feature_names={'bus':['res_vm_pu']})\n",
    "y_truth = np.reshape(y_truth['bus']['res_vm_pu'], [-1])\n",
    "\n",
    "# Compare results\n",
    "import matplotlib.pyplot as plt\n",
    "plt.scatter(y_truth, y_post)\n",
    "plt.xlabel('Ground truth')\n",
    "plt.ylabel('Prediction')\n",
    "plt.show()"
   ]
  },
  {
   "cell_type": "code",
   "execution_count": null,
   "id": "7d3a2587",
   "metadata": {},
   "outputs": [],
   "source": []
  }
 ],
 "metadata": {
  "kernelspec": {
   "display_name": "Python 3 (ipykernel)",
   "language": "python",
   "name": "python3"
  },
  "language_info": {
   "codemirror_mode": {
    "name": "ipython",
    "version": 3
   },
   "file_extension": ".py",
   "mimetype": "text/x-python",
   "name": "python",
   "nbconvert_exporter": "python",
   "pygments_lexer": "ipython3",
   "version": "3.10.6"
  }
 },
 "nbformat": 4,
 "nbformat_minor": 5
}
