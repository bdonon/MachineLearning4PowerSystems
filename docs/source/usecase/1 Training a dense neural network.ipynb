{
 "cells": [
  {
   "cell_type": "code",
   "execution_count": null,
   "id": "82af1777",
   "metadata": {
    "pycharm": {
     "name": "#%%\n"
    }
   },
   "outputs": [],
   "source": [
    "import ML4PS as ml\n",
    "import numpy as np\n",
    "from matplotlib import pyplot as plt"
   ]
  },
  {
   "cell_type": "markdown",
   "id": "2a006944",
   "metadata": {
    "pycharm": {
     "name": "#%% md\n"
    }
   },
   "source": [
    "# Loading and preprocessing the data"
   ]
  },
  {
   "cell_type": "code",
   "execution_count": null,
   "id": "b628687d",
   "metadata": {
    "pycharm": {
     "name": "#%%\n"
    }
   },
   "outputs": [],
   "source": [
    "data_dir = '../../data/case14'\n",
    "\n",
    "normalizer = ml.Normalizer(data_dir = data_dir, backend_name = 'pandapower')\n",
    "\n",
    "interface = ml.Interface(data_dir = data_dir,\n",
    "    backend_name = 'pandapower', batch_size = 1)"
   ]
  },
  {
   "cell_type": "markdown",
   "id": "11655a41",
   "metadata": {
    "pycharm": {
     "name": "#%% md\n"
    }
   },
   "source": [
    "# Defining a simple Fully Connected Neural Network\n",
    "\n",
    "In the following, we define a simple fully connected neural network.\n",
    "It has been designed to input and output dictionnaries that respect the data formalism previously introduced.\n",
    "As it cannot exploit the graph structure of the data, it does not make use of the adresses contained in $x$.\n",
    "\n",
    "The option *hidden_dimensions* defines the dimension of the hidden variables.\n",
    "\n",
    "In this case, we ask the neural network to output a prediction for bus voltage magnitude, knowing the active and reactive power of loads, and target power and target voltage of generators."
   ]
  },
  {
   "cell_type": "code",
   "execution_count": null,
   "id": "abb7d6f2",
   "metadata": {
    "pycharm": {
     "name": "#%%\n"
    }
   },
   "outputs": [],
   "source": [
    "input_features = {}\n",
    "input_features['bus']       = ['in_service', 'max_vm_pu', 'min_vm_pu', 'vn_kv']\n",
    "input_features['load']      = ['const_i_percent', 'const_z_percent', 'controllable', 'in_service', \n",
    "                               'p_mw', 'q_mvar', 'scaling', 'sn_mva']\n",
    "input_features['gen']       = ['in_service', 'p_mw', 'scaling', 'sn_mva', 'vm_pu', 'slack', 'max_p_mw', \n",
    "                               'min_p_mw', 'max_q_mvar', 'min_q_mvar', 'slack_weight']\n",
    "input_features['shunt']     = ['q_mvar', 'p_mw', 'vn_kv', 'step', 'max_step', 'in_service']\n",
    "input_features['ext_grid']  = ['in_service', 'va_degree', 'vm_pu', 'max_p_mw', 'min_p_mw', 'max_q_mvar',\n",
    "                               'min_q_mvar', 'slack_weight']\n",
    "input_features['line']      = ['c_nf_per_km', 'df', 'g_us_per_km', 'in_service', 'length_km', 'max_i_ka',\n",
    "                               'max_loading_percent', 'parallel', 'r_ohm_per_km', 'x_ohm_per_km']\n",
    "input_features['trafo']     = ['df', 'i0_percent', 'in_service', 'max_loading_percent', 'parallel', \n",
    "                               'pfe_kw', 'shift_degree', 'sn_mva', 'tap_max', 'tap_neutral', 'tap_min', \n",
    "                               'tap_phase_shifter', 'tap_pos', 'tap_side', 'tap_step_degree', \n",
    "                               'tap_step_percent', 'vn_hv_kv', 'vn_lv_kv', 'vk_percent', 'vkr_percent']\n",
    "input_features['poly_cost'] = ['cp0_eur', 'cp1_eur_per_mw', 'cp2_eur_per_mw2', 'cq0_eur', \n",
    "                               'cq1_eur_per_mvar', 'cq2_eur_per_mvar2']\n",
    "\n",
    "output_features = {}\n",
    "output_features['bus'] = ['res_vm_pu']"
   ]
  },
  {
   "cell_type": "markdown",
   "id": "8a9d03a9",
   "metadata": {
    "pycharm": {
     "name": "#%% md\n"
    }
   },
   "source": [
    "Since fully connected neural network can only work on vector of a given size, we have to first check the amount of objects of each class in the dataset, and to pass this piece of information to the neural network during init."
   ]
  },
  {
   "cell_type": "code",
   "execution_count": null,
   "id": "b18dd1fe",
   "metadata": {
    "pycharm": {
     "name": "#%%\n"
    }
   },
   "outputs": [],
   "source": [
    "a, x, nets = next(iter(interface.train))\n",
    "n_obj = {k: np.max([np.shape(x_k_f)[1] for f, x_k_f in x[k].items()]) \n",
    "         for k in list(input_features.keys())+list(output_features.keys())}"
   ]
  },
  {
   "cell_type": "code",
   "execution_count": null,
   "id": "f2d2716e",
   "metadata": {
    "pycharm": {
     "name": "#%%\n"
    }
   },
   "outputs": [],
   "source": [
    "fully_connected = ml.Dense(input_features=input_features,\n",
    "                        output_features=output_features,\n",
    "                        n_obj=n_obj,\n",
    "                        hidden_dimensions=[64])\n",
    "fully_connected.save('my_fully_connected.pkl')"
   ]
  },
  {
   "cell_type": "markdown",
   "id": "6b0438aa",
   "metadata": {
    "pycharm": {
     "name": "#%% md\n"
    }
   },
   "source": [
    "We may be interested in performing some complex postprocessing over the data. One can thus define a small PostProcessor class to transform the output of a neural network into an actually meaningful output. This will be useful when we start working with discrete variables for instance."
   ]
  },
  {
   "cell_type": "code",
   "execution_count": null,
   "id": "4e7a33af",
   "metadata": {
    "pycharm": {
     "name": "#%%\n"
    }
   },
   "outputs": [],
   "source": [
    "class PostProcessor:\n",
    "    def __call__(self, y):\n",
    "        return {'bus': {'res_vm_pu': self.line_p1(y['bus']['res_vm_pu'])}}\n",
    "    def line_p1(self, y):\n",
    "        return 1.+1e-3*y\n",
    "postprocessor = PostProcessor()"
   ]
  },
  {
   "cell_type": "markdown",
   "id": "fb4843b1",
   "metadata": {
    "pycharm": {
     "name": "#%% md\n"
    }
   },
   "source": [
    "The following defines the loss function, which penalizes the discrepancy between the prediction of the neural network and the actual solution found using a power flow solver."
   ]
  },
  {
   "cell_type": "code",
   "execution_count": null,
   "id": "79a80032",
   "metadata": {
    "pycharm": {
     "name": "#%%\n"
    }
   },
   "outputs": [],
   "source": [
    "def loss(params, x, y):\n",
    "    y_hat = fully_connected.batch_forward(params, x)\n",
    "    y_post = postprocessor(y_hat)\n",
    "    loss_mag = ml.mean((y_post['bus']['res_vm_pu'] - y['bus']['res_vm_pu'])**2)\n",
    "    return loss_mag\n",
    "\n",
    "@ml.jit\n",
    "def update(params, x, y, opt_state):\n",
    "    value, grads = ml.value_and_grad(loss)(params, x, y)\n",
    "    opt_state = opt_update(0, grads, opt_state)\n",
    "    return get_params(opt_state), opt_state, value"
   ]
  },
  {
   "cell_type": "code",
   "execution_count": null,
   "id": "975f313d",
   "metadata": {
    "pycharm": {
     "name": "#%%\n"
    }
   },
   "outputs": [],
   "source": [
    "step_size = 1e-2\n",
    "opt_init, opt_update, get_params = ml.optimizers.adam(step_size)\n",
    "opt_state = opt_init(fully_connected.weights)"
   ]
  },
  {
   "cell_type": "markdown",
   "id": "95cee026",
   "metadata": {
    "pycharm": {
     "name": "#%% md\n"
    }
   },
   "source": [
    "The following defines the training loop that will iteratively pass through the train set and update the neural network weights accordingly."
   ]
  },
  {
   "cell_type": "code",
   "execution_count": null,
   "id": "8e5fcc63",
   "metadata": {
    "scrolled": true,
    "pycharm": {
     "name": "#%%\n"
    }
   },
   "outputs": [],
   "source": [
    "for epoch in range(5):\n",
    "    \n",
    "    # Training loop\n",
    "    train_losses = []\n",
    "    for adr, x, nets in interface.get_train_batch():\n",
    "        x_norm = normalizer(x)\n",
    "        interface.run_load_flow_batch(nets)\n",
    "        y_truth = interface.get_features_dict(nets, {'bus':['res_vm_pu']})\n",
    "        fully_connected.weights, opt_state, train_loss = update(fully_connected.weights, \n",
    "            x_norm, y_truth, opt_state)\n",
    "        train_losses.append(train_loss)\n",
    "        #train_pbar.set_description(\"Epoch {}, Train loss = {:.2e}\".format(epoch, train_loss))\n",
    "        \n",
    "    # Compute metrics over validation set\n",
    "    val_losses = []\n",
    "    for a, x, nets in interface.get_val_batch():\n",
    "        x_norm = normalizer(x)\n",
    "        interface.run_load_flow_batch(nets)\n",
    "        y_truth = interface.get_features_dict(nets, {'bus':['res_vm_pu']})\n",
    "        val_loss = loss(fully_connected.weights, x_norm, y_truth)\n",
    "        val_losses.append(val_loss)\n",
    "    print(\"Epoch {}\".format(epoch))\n",
    "    print(\"    Train mean loss = {:.2e}\".format(np.mean(train_losses)))\n",
    "    print(\"    Validation mean loss = {:.2e}\".format(np.mean(val_losses)))"
   ]
  },
  {
   "cell_type": "markdown",
   "id": "2866368b",
   "metadata": {
    "pycharm": {
     "name": "#%% md\n"
    }
   },
   "source": [
    "# Compute metrics over the Test set"
   ]
  },
  {
   "cell_type": "code",
   "execution_count": null,
   "id": "e101d972",
   "metadata": {
    "pycharm": {
     "name": "#%%\n"
    }
   },
   "outputs": [],
   "source": [
    "losses = []\n",
    "maes = []\n",
    "\n",
    "for a, x, nets in interface.get_test_batch():\n",
    "    \n",
    "    # Perform prediction\n",
    "    x_norm = normalizer(x)\n",
    "    y_hat = fully_connected.batch_forward(fully_connected.weights, x_norm)\n",
    "    y_post = postprocessor(y_hat)\n",
    "\n",
    "    # Get ground truth\n",
    "    interface.run_load_flow_batch(nets)\n",
    "    y_truth = interface.get_features_dict(nets, {'bus':['res_vm_pu']})\n",
    "    \n",
    "    # Compute metrics\n",
    "    loss = np.mean((y_post['bus']['res_vm_pu'] - y_truth['bus']['res_vm_pu'])**2, axis=[1,2])\n",
    "    mae = np.mean(np.mean(np.abs(y_post['bus']['res_vm_pu'] - y_truth['bus']['res_vm_pu']), axis=2), axis=1)\n",
    "    losses.extend(list(loss))\n",
    "    maes.extend(list(mae))\n",
    "    \n",
    "print('Loss')\n",
    "print('    max        = {:.2e}'.format(np.max(losses)))\n",
    "print('    90th perc. = {:.2e}'.format(np.percentile(losses, 90)))\n",
    "print('    50th perc. = {:.2e}'.format(np.percentile(losses, 50)))\n",
    "print('    10th perc. = {:.2e}'.format(np.percentile(losses, 10)))\n",
    "print('    min        = {:.2e}'.format(np.min(losses)))\n",
    "print('')\n",
    "print('MAE')\n",
    "print('    max        = {:.2e}'.format(np.max(maes)))\n",
    "print('    90th perc. = {:.2e}'.format(np.percentile(maes, 90)))\n",
    "print('    50th perc. = {:.2e}'.format(np.percentile(maes, 50)))\n",
    "print('    10th perc. = {:.2e}'.format(np.percentile(maes, 10)))\n",
    "print('    min        = {:.2e}'.format(np.min(maes)))"
   ]
  },
  {
   "cell_type": "markdown",
   "id": "de05b36f",
   "metadata": {
    "pycharm": {
     "name": "#%% md\n"
    }
   },
   "source": [
    "# Plot prediction against ground truth"
   ]
  },
  {
   "cell_type": "code",
   "execution_count": null,
   "id": "fca4c287",
   "metadata": {
    "pycharm": {
     "name": "#%%\n"
    }
   },
   "outputs": [],
   "source": [
    "a, x, nets = next(iter(interface.test))\n",
    "\n",
    "# Perform prediction\n",
    "x_norm = normalizer(x)\n",
    "y_hat = fully_connected.batch_forward(fully_connected.weights, x_norm)\n",
    "y_post = postprocessor(y_hat)\n",
    "y_post = np.reshape(y_post['bus']['res_vm_pu'], [-1])\n",
    "\n",
    "# Get ground truth\n",
    "interface.run_load_flow_batch(nets)\n",
    "y_truth = interface.get_features_dict(nets, {'bus':['res_vm_pu']})\n",
    "y_truth = np.reshape(y_truth['bus']['res_vm_pu'], [-1])\n",
    "\n",
    "# Compare results\n",
    "plt.scatter(y_truth, y_post)\n",
    "plt.xlabel('Ground truth')\n",
    "plt.ylabel('Prediction')\n",
    "plt.show()"
   ]
  }
 ],
 "metadata": {
  "kernelspec": {
   "display_name": "Python 3 (ipykernel)",
   "language": "python",
   "name": "python3"
  },
  "language_info": {
   "codemirror_mode": {
    "name": "ipython",
    "version": 3
   },
   "file_extension": ".py",
   "mimetype": "text/x-python",
   "name": "python",
   "nbconvert_exporter": "python",
   "pygments_lexer": "ipython3",
   "version": "3.9.13"
  }
 },
 "nbformat": 4,
 "nbformat_minor": 5
}