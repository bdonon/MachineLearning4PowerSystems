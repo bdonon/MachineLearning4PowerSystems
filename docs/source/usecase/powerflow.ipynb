{
 "cells": [
  {
   "cell_type": "markdown",
   "id": "48358519",
   "metadata": {},
   "source": [
    "# Learning to approximate an AC power flow\n",
    "\n",
    "In this notebook, we explain how to use our package to train a simple neural network to imitate the output of an AC power flow simulator."
   ]
  },
  {
   "cell_type": "markdown",
   "id": "4ad7b304",
   "metadata": {},
   "source": [
    "## Downloading a dataset\n",
    "\n",
    "First of all, we need to download a dataset. We propose to download a small dataset of power grids derived from the case60nordic file (also known as nordic32), randomly generated using [powerdatagen](https://github.com/bdonon/powerdatagen).\n",
    "\n",
    "The dataset is available on zenodo [here](https://zenodo.org/record/7077699). The following code downloads the dataset if it is not already here. Please be patient, as it may take several minutes (not more than 10 minutes though).\n",
    "\n",
    "If you have already downloaded the dataset, then this does nothing."
   ]
  },
  {
   "cell_type": "code",
   "execution_count": 1,
   "id": "ab9d5953",
   "metadata": {},
   "outputs": [],
   "source": [
    "%%bash\n",
    "if [ ! -d data/case60/ ]\n",
    "then\n",
    "    zenodo_get '10.5281/zenodo.7077699' -o data/\n",
    "    unzip -qq data/case60.zip -d data/\n",
    "    rm data/case60.zip data/md5sums.txt\n",
    "fi"
   ]
  },
  {
   "cell_type": "markdown",
   "id": "dfc14345",
   "metadata": {},
   "source": [
    "## ??"
   ]
  },
  {
   "cell_type": "code",
   "execution_count": 2,
   "id": "0cf6a81a",
   "metadata": {},
   "outputs": [],
   "source": [
    "from torch.utils.data import DataLoader\n",
    "import numpy as np\n",
    "import tqdm\n",
    "import jax\n",
    "import jax.numpy as jnp\n",
    "from tqdm.notebook import tqdm\n",
    "\n",
    "%load_ext autoreload\n",
    "%autoreload 2\n",
    "\n",
    "import sys; sys.path.insert(0, '../../..')\n",
    "import ml4ps as mp"
   ]
  },
  {
   "cell_type": "markdown",
   "id": "7528dbef",
   "metadata": {},
   "source": [
    "We need to import a backend, which will serve to read power grid data. In some more complex problem, it will be used to perform power grid simulations."
   ]
  },
  {
   "cell_type": "code",
   "execution_count": 3,
   "id": "8cf5b725",
   "metadata": {},
   "outputs": [],
   "source": [
    "backend = mp.PandaPowerBackend()"
   ]
  },
  {
   "cell_type": "code",
   "execution_count": 16,
   "id": "08065c37",
   "metadata": {},
   "outputs": [],
   "source": [
    "train_dir = 'data/case60/train'"
   ]
  },
  {
   "cell_type": "markdown",
   "id": "693962a6",
   "metadata": {},
   "source": [
    "## Building a normalizer"
   ]
  },
  {
   "cell_type": "code",
   "execution_count": null,
   "id": "6ae78f58",
   "metadata": {},
   "outputs": [],
   "source": [
    "normalizer = mp.Normalizer(data_dir=train_dir, backend=backend, n_samples=1000, tqdm=tqdm)"
   ]
  },
  {
   "cell_type": "markdown",
   "id": "8c45d8d7",
   "metadata": {},
   "source": [
    "## Building a train set and a data loader\n",
    "\n",
    "The normalizer is fed to the data loader, so that ..."
   ]
  },
  {
   "cell_type": "code",
   "execution_count": 5,
   "id": "62cc8716",
   "metadata": {},
   "outputs": [],
   "source": [
    "train_set = mp.PowerGridDataset(data_dir=train_dir, backend=backend, normalizer=normalizer)\n",
    "train_loader = DataLoader(train_set,\n",
    "                          batch_size=8,\n",
    "                          shuffle=True,\n",
    "                          num_workers=8,\n",
    "                          collate_fn=mp.power_grid_collate,\n",
    "                          prefetch_factor=8)"
   ]
  },
  {
   "cell_type": "markdown",
   "id": "68dd4687",
   "metadata": {},
   "source": [
    "## Building a Fully Connected neural network\n",
    "\n",
    "First of all, we need to tell the neural network which features it should take as input, and wich features we want it to output."
   ]
  },
  {
   "cell_type": "code",
   "execution_count": 8,
   "id": "13d8f6ff",
   "metadata": {},
   "outputs": [],
   "source": [
    "input_features = {'load': ['p_mw', 'q_mvar'], 'gen': ['p_mw', 'vm_pu'], 'ext_grid': ['vm_pu']}\n",
    "output_features = {'bus': ['res_vm_pu']}"
   ]
  },
  {
   "cell_type": "markdown",
   "id": "ec74c090",
   "metadata": {},
   "source": [
    "Since we are working with a fully connected neural network, we need to tell it how many object of each class will be present in the data. This is due to the fact that fully connected neural networks can only take vector data as input. By telling the neural network the amount of objects, it is able to initialize its weights."
   ]
  },
  {
   "cell_type": "code",
   "execution_count": 11,
   "id": "3bd513c3",
   "metadata": {},
   "outputs": [
    {
     "name": "stdout",
     "output_type": "stream",
     "text": [
      "{'load': 22, 'gen': 22, 'ext_grid': 1, 'bus': 60}\n"
     ]
    }
   ],
   "source": [
    "a, x, nets = next(iter(train_loader))\n",
    "n_obj = {k: np.max([np.shape(x_k_f)[1] for f, x_k_f in x[k].items()]) \n",
    "         for k in list(input_features.keys())+list(output_features.keys())}\n",
    "print(n_obj)"
   ]
  },
  {
   "cell_type": "markdown",
   "id": "be851f0b",
   "metadata": {},
   "source": [
    "We may now initialize our neural network."
   ]
  },
  {
   "cell_type": "code",
   "execution_count": 12,
   "id": "d52e7cce",
   "metadata": {},
   "outputs": [],
   "source": [
    "fully_connected = mp.FullyConnected(input_features=input_features,\n",
    "                        output_features=output_features,\n",
    "                        n_obj=n_obj,\n",
    "                        hidden_dimensions=[1024,1024])"
   ]
  },
  {
   "cell_type": "markdown",
   "id": "845cfc76",
   "metadata": {},
   "source": [
    "In addition, we need to specify post-processing functions."
   ]
  },
  {
   "cell_type": "code",
   "execution_count": 13,
   "id": "5b37253e",
   "metadata": {},
   "outputs": [],
   "source": [
    "functions = {'bus': {'res_vm_pu': [mp.AffineTransform(offset=1.)]}}\n",
    "postprocessor = mp.PostProcessor(functions=functions)"
   ]
  },
  {
   "cell_type": "markdown",
   "id": "ce48be16",
   "metadata": {},
   "source": [
    "## Training loop"
   ]
  },
  {
   "cell_type": "code",
   "execution_count": 14,
   "id": "eeff6eae",
   "metadata": {},
   "outputs": [],
   "source": [
    "from jax.example_libraries import optimizers\n",
    "\n",
    "learning_rate = 3e-4\n",
    "opt_init, opt_update, get_params = optimizers.adam(learning_rate)\n",
    "opt_state = opt_init(fully_connected.weights)"
   ]
  },
  {
   "cell_type": "code",
   "execution_count": 15,
   "id": "aee84ea4",
   "metadata": {},
   "outputs": [],
   "source": [
    "def loss_function(params, x, y):\n",
    "    y_hat = fully_connected.batch_forward(params, x)\n",
    "    y_post = postprocessor(y_hat)\n",
    "    loss = jnp.mean((y_post['bus']['res_vm_pu'] - y['bus']['res_vm_pu'])**2)\n",
    "    return loss\n",
    "\n",
    "@jax.jit\n",
    "def update(params, x, y, opt_state, step):\n",
    "    loss, grads = jax.value_and_grad(loss_function)(params, x, y)\n",
    "    opt_state = opt_update(step, grads, opt_state)\n",
    "    return get_params(opt_state), opt_state, loss"
   ]
  },
  {
   "cell_type": "code",
   "execution_count": null,
   "id": "27af40b1",
   "metadata": {},
   "outputs": [
    {
     "data": {
      "application/vnd.jupyter.widget-view+json": {
       "model_id": "687f5fa6fb09425f8f1dc3eadd821ec9",
       "version_major": 2,
       "version_minor": 0
      },
      "text/plain": [
       "  0%|          | 0/1250 [00:00<?, ?it/s]"
      ]
     },
     "metadata": {},
     "output_type": "display_data"
    },
    {
     "data": {
      "application/vnd.jupyter.widget-view+json": {
       "model_id": "5a0cdfdf5c844678a941d9fb0ff868db",
       "version_major": 2,
       "version_minor": 0
      },
      "text/plain": [
       "  0%|          | 0/1250 [00:00<?, ?it/s]"
      ]
     },
     "metadata": {},
     "output_type": "display_data"
    }
   ],
   "source": [
    "step = 0\n",
    "for epoch in range(5):\n",
    "    for a, x, nets in (pbar := tqdm(train_loader)):\n",
    "        step += 1\n",
    "        y = backend.update_run_extract(nets, features={'bus':['res_vm_pu']})\n",
    "        fully_connected.weights, opt_state, loss = update(fully_connected.weights, x, y, opt_state, step)\n",
    "        pbar.set_description(\"Epoch {}, Loss = {:.2e}\".format(epoch, loss))"
   ]
  },
  {
   "cell_type": "markdown",
   "id": "631172cf",
   "metadata": {},
   "source": [
    "## "
   ]
  },
  {
   "cell_type": "code",
   "execution_count": null,
   "id": "19f042af",
   "metadata": {
    "scrolled": true
   },
   "outputs": [],
   "source": [
    "import matplotlib.pyplot as plt\n",
    "\n",
    "plt.plot(train_losses)\n",
    "plt.yscale('log')\n",
    "plt.show()"
   ]
  },
  {
   "cell_type": "code",
   "execution_count": null,
   "id": "3ad5c7aa",
   "metadata": {},
   "outputs": [],
   "source": [
    "a, x, nets = next(iter(train_loader))"
   ]
  },
  {
   "cell_type": "code",
   "execution_count": null,
   "id": "86c9382c",
   "metadata": {},
   "outputs": [],
   "source": [
    "# Perform prediction\n",
    "#x_norm = normalizer(x)\n",
    "y_hat = fully_connected.batch_forward(fully_connected.weights, x)\n",
    "y_post = postprocessor(y_hat)\n",
    "y_post = np.reshape(y_post['bus']['res_vm_pu'], [-1])\n",
    "\n",
    "# Get ground truth\n",
    "y_truth = backend.update_run_extract(nets, features={'bus':['res_vm_pu']})\n",
    "y_truth = np.reshape(y_truth['bus']['res_vm_pu'], [-1])\n",
    "\n",
    "# Compare results\n",
    "plt.scatter(y_truth, y_post)\n",
    "plt.xlabel('Ground truth')\n",
    "plt.ylabel('Prediction')\n",
    "plt.show()"
   ]
  }
 ],
 "metadata": {
  "kernelspec": {
   "display_name": "Python 3 (ipykernel)",
   "language": "python",
   "name": "python3"
  },
  "language_info": {
   "codemirror_mode": {
    "name": "ipython",
    "version": 3
   },
   "file_extension": ".py",
   "mimetype": "text/x-python",
   "name": "python",
   "nbconvert_exporter": "python",
   "pygments_lexer": "ipython3",
   "version": "3.10.6"
  }
 },
 "nbformat": 4,
 "nbformat_minor": 5
}
