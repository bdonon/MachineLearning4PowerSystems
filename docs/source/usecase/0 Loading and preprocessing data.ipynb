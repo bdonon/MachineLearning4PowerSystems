{
 "cells": [
  {
   "cell_type": "code",
   "execution_count": 1,
   "id": "82af1777",
   "metadata": {},
   "outputs": [],
   "source": [
    "#import ML4PS as ml\n",
    "import numpy as np\n",
    "from matplotlib import pyplot as plt"
   ]
  },
  {
   "cell_type": "code",
   "execution_count": 2,
   "id": "fb2b81bb",
   "metadata": {},
   "outputs": [],
   "source": [
    "import os\n",
    "\n",
    "%load_ext autoreload\n",
    "%autoreload 2\n",
    "\n",
    "import sys; sys.path.insert(0, '..')\n",
    "import ML4PS as ml"
   ]
  },
  {
   "cell_type": "code",
   "execution_count": 3,
   "id": "0b9d2aa1",
   "metadata": {},
   "outputs": [],
   "source": [
    "from ML4PS.backend.pandapower import Backend as PandaPowerBackend"
   ]
  },
  {
   "cell_type": "code",
   "execution_count": 4,
   "id": "c2b63cfe",
   "metadata": {},
   "outputs": [
    {
     "data": {
      "text/plain": [
       "ML4PS.backend.pandapower.Backend"
      ]
     },
     "execution_count": 4,
     "metadata": {},
     "output_type": "execute_result"
    }
   ],
   "source": [
    "PandaPowerBackend"
   ]
  },
  {
   "cell_type": "markdown",
   "id": "ba2ca1a1",
   "metadata": {},
   "source": [
    "# Choose dataset"
   ]
  },
  {
   "cell_type": "code",
   "execution_count": 5,
   "id": "b628687d",
   "metadata": {},
   "outputs": [],
   "source": [
    "data_dir = '../data/data_json/case14/train'"
   ]
  },
  {
   "cell_type": "markdown",
   "id": "2a006944",
   "metadata": {},
   "source": [
    "# Defining a series of normalizing functions\n",
    "\n",
    "The features contained in power systems objects may have very different orders of magnitude and display complex distributions with possibly multiple modes. For this reason, it is very important to build a series of functions that can convert those atypical distributions into something that looks more like a uniform law between $-1$ and $1$.\n",
    "\n",
    "This normalization process is done by computing a piecewise linear approximation of the cumulative distribution function of each required feature. This estimation is performed by considering a subset of the trainset. This estimation does not need to be perfect, so it seems reasonable to estimate it over a reasonably small amount of samples (see option *amount_of_samples*)."
   ]
  },
  {
   "cell_type": "code",
   "execution_count": 6,
   "id": "ea366e9b",
   "metadata": {},
   "outputs": [
    {
     "name": "stderr",
     "output_type": "stream",
     "text": [
      "Importing power grid instances: 100%|█████████████████████████████████████████████████████████████████████████████████████████████████████████████████████████████████████████████████████████████████████████████████████████████████████████████████████████████████████████████████| 100/100 [00:15<00:00,  6.66it/s]\n"
     ]
    }
   ],
   "source": [
    "normalizer = ml.Normalizer(data_dir = data_dir, backend_name = 'pandapower')\n",
    "normalizer.save('normalizer.pkl')"
   ]
  },
  {
   "cell_type": "markdown",
   "id": "3c5f87de",
   "metadata": {},
   "source": [
    "# Defining an interface\n",
    "\n",
    "In order to have our neural network learn, we have to pass it multiple batches of instances of power grids. The interface has three iterators (train, val and test) that can iterate over the whole dataset defined in *data_dir*, and return inputs $a$ and $x$ that will be read by the neural network, and a series of pypowsybl networks instances.\n",
    "\n",
    "As some people may be interested in dealing with time series, we have included the possibility of considering rolling windows. The attribute *series_length* defines the time coherence of time series, while *time_window* defines the size of the time windows that the iterator should retrieve. The different snapshots of a time windows are aggregated by concatenating their respective features. By default, we consider that we are not interested in time series."
   ]
  },
  {
   "cell_type": "code",
   "execution_count": 19,
   "id": "df7391d4",
   "metadata": {},
   "outputs": [],
   "source": [
    "data_dir = '../data/data_json/case1354pegase'"
   ]
  },
  {
   "cell_type": "code",
   "execution_count": 20,
   "id": "44254e0a",
   "metadata": {},
   "outputs": [],
   "source": [
    "#train_set = ml.Dataset(data_dir=data_dir+'/train', backend=backend, batch_size=10)"
   ]
  },
  {
   "cell_type": "code",
   "execution_count": 24,
   "id": "44c14ebb",
   "metadata": {},
   "outputs": [],
   "source": [
    "interface = ml.Interface(data_dir = data_dir,\n",
    "    backend_name = 'pandapower', batch_size = 10)"
   ]
  },
  {
   "cell_type": "markdown",
   "id": "6586bd45",
   "metadata": {},
   "source": [
    "In the following we propose to show what our data looks like. Notice that $a$ and $x$ are nested dictionnaries, whose values have a shape [n_batch, n_obj, time_window], where n_obj is the amount of objects of the considered class. $a$ contains addresses (integers), while $x$ contains features (float)."
   ]
  },
  {
   "cell_type": "code",
   "execution_count": 25,
   "id": "fca8fe20",
   "metadata": {},
   "outputs": [
    {
     "name": "stdout",
     "output_type": "stream",
     "text": [
      "['../data/data_json/case1354pegase/train/sample_02594.json', '../data/data_json/case1354pegase/train/sample_04316.json', '../data/data_json/case1354pegase/train/sample_05695.json', '../data/data_json/case1354pegase/train/sample_00539.json', '../data/data_json/case1354pegase/train/sample_05783.json', '../data/data_json/case1354pegase/train/sample_06599.json', '../data/data_json/case1354pegase/train/sample_06238.json', '../data/data_json/case1354pegase/train/sample_00755.json', '../data/data_json/case1354pegase/train/sample_02667.json', '../data/data_json/case1354pegase/train/sample_03969.json']\n",
      "keys in a :['bus', 'load', 'sgen', 'gen', 'shunt', 'ext_grid', 'line', 'trafo', 'poly_cost']\n",
      "keys in a['gen'] :['bus', 'name']\n",
      "values in a['gen']['name'] :[[1355 1356 1467 ... 1530 1531 1532]\n",
      " [1355 1356 1467 ... 1530 1531 1532]\n",
      " [1355 1356 1467 ... 1530 1531 1532]\n",
      " ...\n",
      " [1355 1356 1467 ... 1530 1531 1532]\n",
      " [1355 1356 1467 ... 1530 1531 1532]\n",
      " [1355 1356 1467 ... 1530 1531 1532]]\n",
      "\n",
      "keys in x :['bus', 'load', 'sgen', 'gen', 'shunt', 'ext_grid', 'line', 'trafo', 'poly_cost']\n",
      "keys in x['gen'] :['controllable', 'in_service', 'p_mw', 'scaling', 'sn_mva', 'vm_pu', 'slack', 'max_p_mw', 'min_p_mw', 'max_q_mvar', 'min_q_mvar', 'slack_weight', 'res_p_mw', 'res_q_mvar', 'res_va_degree', 'res_vm_pu']\n",
      "values in x['gen']['p_mw'] :[[ 443.59159088   20.929291    -76.72463216 ...  334.62898373\n",
      "  -174.30556846   27.09507974]\n",
      " [ 443.30607586   37.7243175  -118.69676992 ...  577.83542267\n",
      "  -202.57891933   53.5546015 ]\n",
      " [ 856.24117584   52.84841329 -131.39095868 ...  420.06138966\n",
      "  -194.57879043   41.35099717]\n",
      " ...\n",
      " [ 466.70794127   84.18076469 -171.81705915 ...  485.12403543\n",
      "  -302.68143417   69.87818235]\n",
      " [ 339.40515895   19.71383342  -92.47307237 ...  309.49700055\n",
      "  -103.33117762   32.04614428]\n",
      " [ 322.66867394   31.66697471 -155.62281643 ...  300.13387665\n",
      "  -177.37745996   61.98756115]]\n"
     ]
    }
   ],
   "source": [
    "a, x, nets = next(iter(interface.train))\n",
    "print(\"keys in a :{}\".format(list(a.keys())))\n",
    "print(\"keys in a['gen'] :{}\".format(list(a['gen'].keys())))\n",
    "print(\"values in a['gen']['name'] :{}\".format(a['gen']['name']))\n",
    "print(\"\")\n",
    "print(\"keys in x :{}\".format(list(x.keys())))\n",
    "print(\"keys in x['gen'] :{}\".format(list(x['gen'].keys())))\n",
    "print(\"values in x['gen']['p_mw'] :{}\".format(x['gen']['p_mw']))"
   ]
  },
  {
   "cell_type": "code",
   "execution_count": 26,
   "id": "15b6e448",
   "metadata": {},
   "outputs": [
    {
     "name": "stderr",
     "output_type": "stream",
     "text": [
      "\r",
      "  0%|                                                                                                                                                                                                                                                                                           | 0/699 [00:00<?, ?it/s]"
     ]
    },
    {
     "name": "stdout",
     "output_type": "stream",
     "text": [
      "['../data/data_json/case1354pegase/train/sample_02124.json', '../data/data_json/case1354pegase/train/sample_06012.json', '../data/data_json/case1354pegase/train/sample_05339.json', '../data/data_json/case1354pegase/train/sample_04659.json', '../data/data_json/case1354pegase/train/sample_04104.json', '../data/data_json/case1354pegase/train/sample_05441.json', '../data/data_json/case1354pegase/train/sample_00379.json', '../data/data_json/case1354pegase/train/sample_06634.json', '../data/data_json/case1354pegase/train/sample_02558.json', '../data/data_json/case1354pegase/train/sample_06081.json']\n"
     ]
    },
    {
     "name": "stderr",
     "output_type": "stream",
     "text": [
      "\r",
      "  0%|▍                                                                                                                                                                                                                                                                                  | 1/699 [00:03<40:57,  3.52s/it]"
     ]
    },
    {
     "name": "stdout",
     "output_type": "stream",
     "text": [
      "test\n",
      "['../data/data_json/case1354pegase/train/sample_03860.json', '../data/data_json/case1354pegase/train/sample_06005.json', '../data/data_json/case1354pegase/train/sample_00382.json', '../data/data_json/case1354pegase/train/sample_04454.json', '../data/data_json/case1354pegase/train/sample_04802.json', '../data/data_json/case1354pegase/train/sample_01180.json', '../data/data_json/case1354pegase/train/sample_02032.json', '../data/data_json/case1354pegase/train/sample_05936.json', '../data/data_json/case1354pegase/train/sample_06365.json', '../data/data_json/case1354pegase/train/sample_03597.json']\n"
     ]
    },
    {
     "name": "stderr",
     "output_type": "stream",
     "text": [
      "  0%|▊                                                                                                                                                                                                                                                                                  | 2/699 [00:07<41:22,  3.56s/it]"
     ]
    },
    {
     "name": "stdout",
     "output_type": "stream",
     "text": [
      "test\n",
      "['../data/data_json/case1354pegase/train/sample_06640.json', '../data/data_json/case1354pegase/train/sample_02661.json', '../data/data_json/case1354pegase/train/sample_00398.json', '../data/data_json/case1354pegase/train/sample_00146.json', '../data/data_json/case1354pegase/train/sample_05062.json', '../data/data_json/case1354pegase/train/sample_00122.json', '../data/data_json/case1354pegase/train/sample_00230.json', '../data/data_json/case1354pegase/train/sample_01932.json', '../data/data_json/case1354pegase/train/sample_01752.json', '../data/data_json/case1354pegase/train/sample_05602.json']\n"
     ]
    },
    {
     "name": "stderr",
     "output_type": "stream",
     "text": [
      "\n"
     ]
    },
    {
     "ename": "KeyboardInterrupt",
     "evalue": "",
     "output_type": "error",
     "traceback": [
      "\u001b[0;31m---------------------------------------------------------------------------\u001b[0m",
      "\u001b[0;31mKeyboardInterrupt\u001b[0m                         Traceback (most recent call last)",
      "Input \u001b[0;32mIn [26]\u001b[0m, in \u001b[0;36m<cell line: 2>\u001b[0;34m()\u001b[0m\n\u001b[1;32m      1\u001b[0m \u001b[38;5;28;01mimport\u001b[39;00m \u001b[38;5;21;01mtqdm\u001b[39;00m\n\u001b[0;32m----> 2\u001b[0m \u001b[38;5;28;01mfor\u001b[39;00m a, x, nets \u001b[38;5;129;01min\u001b[39;00m tqdm\u001b[38;5;241m.\u001b[39mtqdm(interface\u001b[38;5;241m.\u001b[39mtrain):\n\u001b[1;32m      3\u001b[0m     \u001b[38;5;28mprint\u001b[39m(\u001b[38;5;124m'\u001b[39m\u001b[38;5;124mtest\u001b[39m\u001b[38;5;124m'\u001b[39m)\n",
      "File \u001b[0;32m~/Desktop/PostDoc/Code/MachineLearning4PowerSystems/ENV/lib/python3.9/site-packages/tqdm/std.py:1195\u001b[0m, in \u001b[0;36mtqdm.__iter__\u001b[0;34m(self)\u001b[0m\n\u001b[1;32m   1192\u001b[0m time \u001b[38;5;241m=\u001b[39m \u001b[38;5;28mself\u001b[39m\u001b[38;5;241m.\u001b[39m_time\n\u001b[1;32m   1194\u001b[0m \u001b[38;5;28;01mtry\u001b[39;00m:\n\u001b[0;32m-> 1195\u001b[0m     \u001b[38;5;28;01mfor\u001b[39;00m obj \u001b[38;5;129;01min\u001b[39;00m iterable:\n\u001b[1;32m   1196\u001b[0m         \u001b[38;5;28;01myield\u001b[39;00m obj\n\u001b[1;32m   1197\u001b[0m         \u001b[38;5;66;03m# Update and possibly print the progressbar.\u001b[39;00m\n\u001b[1;32m   1198\u001b[0m         \u001b[38;5;66;03m# Note: does not call self.update(1) for speed optimisation.\u001b[39;00m\n",
      "File \u001b[0;32m~/Desktop/PostDoc/Code/MachineLearning4PowerSystems/doc/../ML4PS/iterator.py:145\u001b[0m, in \u001b[0;36mIterator.__next__\u001b[0;34m(self)\u001b[0m\n\u001b[1;32m    143\u001b[0m     current_batch_files \u001b[38;5;241m=\u001b[39m \u001b[38;5;28mself\u001b[39m\u001b[38;5;241m.\u001b[39mbatch_files[\u001b[38;5;28mself\u001b[39m\u001b[38;5;241m.\u001b[39mcurrent_batch_id]\n\u001b[1;32m    144\u001b[0m     \u001b[38;5;28mprint\u001b[39m(current_batch_files)\n\u001b[0;32m--> 145\u001b[0m     a_concat, x_concat, net_batch \u001b[38;5;241m=\u001b[39m \u001b[38;5;28;43mself\u001b[39;49m\u001b[38;5;241;43m.\u001b[39;49m\u001b[43mbackend\u001b[49m\u001b[38;5;241;43m.\u001b[39;49m\u001b[43mget_batch\u001b[49m\u001b[43m(\u001b[49m\u001b[43mcurrent_batch_files\u001b[49m\u001b[43m,\u001b[49m\u001b[43m \u001b[49m\u001b[43maddresses\u001b[49m\u001b[38;5;241;43m=\u001b[39;49m\u001b[38;5;28;43mself\u001b[39;49m\u001b[38;5;241;43m.\u001b[39;49m\u001b[43maddresses\u001b[49m\u001b[43m,\u001b[49m\n\u001b[1;32m    146\u001b[0m \u001b[43m                                                           \u001b[49m\u001b[43mfeatures\u001b[49m\u001b[38;5;241;43m=\u001b[39;49m\u001b[38;5;28;43mself\u001b[39;49m\u001b[38;5;241;43m.\u001b[39;49m\u001b[43mfeatures\u001b[49m\u001b[43m)\u001b[49m\n\u001b[1;32m    147\u001b[0m     \u001b[38;5;28mself\u001b[39m\u001b[38;5;241m.\u001b[39mcurrent_batch_id \u001b[38;5;241m+\u001b[39m\u001b[38;5;241m=\u001b[39m \u001b[38;5;241m1\u001b[39m\n\u001b[1;32m    148\u001b[0m \u001b[38;5;28;01melse\u001b[39;00m:\n",
      "File \u001b[0;32m~/Desktop/PostDoc/Code/MachineLearning4PowerSystems/doc/../ML4PS/backend/interface.py:174\u001b[0m, in \u001b[0;36mAbstractBackend.get_batch\u001b[0;34m(self, batch_files, addresses, features, **kwargs)\u001b[0m\n\u001b[1;32m    172\u001b[0m \u001b[38;5;28;01mdef\u001b[39;00m \u001b[38;5;21mget_batch\u001b[39m(\u001b[38;5;28mself\u001b[39m, batch_files, addresses\u001b[38;5;241m=\u001b[39m\u001b[38;5;28;01mNone\u001b[39;00m, features\u001b[38;5;241m=\u001b[39m\u001b[38;5;28;01mNone\u001b[39;00m, \u001b[38;5;241m*\u001b[39m\u001b[38;5;241m*\u001b[39mkwargs):\n\u001b[1;32m    173\u001b[0m     \u001b[38;5;124;03m\"\"\"Gets network batch and concatenates addresses and features.\"\"\"\u001b[39;00m\n\u001b[0;32m--> 174\u001b[0m     net_batch \u001b[38;5;241m=\u001b[39m \u001b[38;5;28;43mself\u001b[39;49m\u001b[38;5;241;43m.\u001b[39;49m\u001b[43mload_network_batch\u001b[49m\u001b[43m(\u001b[49m\u001b[43mbatch_files\u001b[49m\u001b[43m,\u001b[49m\u001b[43m \u001b[49m\u001b[38;5;241;43m*\u001b[39;49m\u001b[38;5;241;43m*\u001b[39;49m\u001b[43mkwargs\u001b[49m\u001b[43m)\u001b[49m\n\u001b[1;32m    175\u001b[0m     a_concat, x_concat \u001b[38;5;241m=\u001b[39m \u001b[38;5;28;01mNone\u001b[39;00m, \u001b[38;5;28;01mNone\u001b[39;00m\n\u001b[1;32m    176\u001b[0m     \u001b[38;5;28;01mif\u001b[39;00m addresses \u001b[38;5;129;01mis\u001b[39;00m \u001b[38;5;129;01mnot\u001b[39;00m \u001b[38;5;28;01mNone\u001b[39;00m:\n",
      "File \u001b[0;32m~/Desktop/PostDoc/Code/MachineLearning4PowerSystems/doc/../ML4PS/backend/interface.py:49\u001b[0m, in \u001b[0;36mAbstractBackend.load_network_batch\u001b[0;34m(self, batch_files, verbose)\u001b[0m\n\u001b[1;32m     47\u001b[0m     \u001b[38;5;28;01mreturn\u001b[39;00m r\n\u001b[1;32m     48\u001b[0m \u001b[38;5;28;01melse\u001b[39;00m:\n\u001b[0;32m---> 49\u001b[0m     \u001b[38;5;28;01mreturn\u001b[39;00m [\u001b[38;5;28mself\u001b[39m\u001b[38;5;241m.\u001b[39mload_network(file) \u001b[38;5;28;01mfor\u001b[39;00m file \u001b[38;5;129;01min\u001b[39;00m batch_files]\n",
      "File \u001b[0;32m~/Desktop/PostDoc/Code/MachineLearning4PowerSystems/doc/../ML4PS/backend/interface.py:49\u001b[0m, in \u001b[0;36m<listcomp>\u001b[0;34m(.0)\u001b[0m\n\u001b[1;32m     47\u001b[0m     \u001b[38;5;28;01mreturn\u001b[39;00m r\n\u001b[1;32m     48\u001b[0m \u001b[38;5;28;01melse\u001b[39;00m:\n\u001b[0;32m---> 49\u001b[0m     \u001b[38;5;28;01mreturn\u001b[39;00m [\u001b[38;5;28;43mself\u001b[39;49m\u001b[38;5;241;43m.\u001b[39;49m\u001b[43mload_network\u001b[49m\u001b[43m(\u001b[49m\u001b[43mfile\u001b[49m\u001b[43m)\u001b[49m \u001b[38;5;28;01mfor\u001b[39;00m file \u001b[38;5;129;01min\u001b[39;00m batch_files]\n",
      "File \u001b[0;32m~/Desktop/PostDoc/Code/MachineLearning4PowerSystems/doc/../ML4PS/backend/pandapower.py:97\u001b[0m, in \u001b[0;36mBackend.load_network\u001b[0;34m(self, file_path)\u001b[0m\n\u001b[1;32m     95\u001b[0m \u001b[38;5;28;01mdef\u001b[39;00m \u001b[38;5;21mload_network\u001b[39m(\u001b[38;5;28mself\u001b[39m, file_path):\n\u001b[1;32m     96\u001b[0m     \u001b[38;5;28;01mif\u001b[39;00m file_path\u001b[38;5;241m.\u001b[39mendswith(\u001b[38;5;124m'\u001b[39m\u001b[38;5;124m.json\u001b[39m\u001b[38;5;124m'\u001b[39m):\n\u001b[0;32m---> 97\u001b[0m         net \u001b[38;5;241m=\u001b[39m \u001b[43mpp\u001b[49m\u001b[38;5;241;43m.\u001b[39;49m\u001b[43mfrom_json\u001b[49m\u001b[43m(\u001b[49m\u001b[43mfile_path\u001b[49m\u001b[43m)\u001b[49m\n\u001b[1;32m     98\u001b[0m     \u001b[38;5;28;01melif\u001b[39;00m file_path\u001b[38;5;241m.\u001b[39mendswith(\u001b[38;5;124m'\u001b[39m\u001b[38;5;124m.pkl\u001b[39m\u001b[38;5;124m'\u001b[39m):\n\u001b[1;32m     99\u001b[0m         net \u001b[38;5;241m=\u001b[39m pp\u001b[38;5;241m.\u001b[39mfrom_pickle(file_path)\n",
      "File \u001b[0;32m~/Desktop/PostDoc/Code/MachineLearning4PowerSystems/ENV/lib/python3.9/site-packages/pandapower/file_io.py:271\u001b[0m, in \u001b[0;36mfrom_json\u001b[0;34m(filename, convert, encryption_key, elements_to_deserialize, keep_serialized_elements)\u001b[0m\n\u001b[1;32m    268\u001b[0m     \u001b[38;5;28;01mwith\u001b[39;00m \u001b[38;5;28mopen\u001b[39m(filename, \u001b[38;5;124m\"\u001b[39m\u001b[38;5;124mr\u001b[39m\u001b[38;5;124m\"\u001b[39m) \u001b[38;5;28;01mas\u001b[39;00m fp:\n\u001b[1;32m    269\u001b[0m         json_string \u001b[38;5;241m=\u001b[39m fp\u001b[38;5;241m.\u001b[39mread()\n\u001b[0;32m--> 271\u001b[0m \u001b[38;5;28;01mreturn\u001b[39;00m \u001b[43mfrom_json_string\u001b[49m\u001b[43m(\u001b[49m\u001b[43mjson_string\u001b[49m\u001b[43m,\u001b[49m\u001b[43m \u001b[49m\u001b[43mconvert\u001b[49m\u001b[38;5;241;43m=\u001b[39;49m\u001b[43mconvert\u001b[49m\u001b[43m,\u001b[49m\u001b[43m \u001b[49m\u001b[43mencryption_key\u001b[49m\u001b[38;5;241;43m=\u001b[39;49m\u001b[43mencryption_key\u001b[49m\u001b[43m,\u001b[49m\n\u001b[1;32m    272\u001b[0m \u001b[43m                        \u001b[49m\u001b[43melements_to_deserialize\u001b[49m\u001b[38;5;241;43m=\u001b[39;49m\u001b[43melements_to_deserialize\u001b[49m\u001b[43m,\u001b[49m\n\u001b[1;32m    273\u001b[0m \u001b[43m                        \u001b[49m\u001b[43mkeep_serialized_elements\u001b[49m\u001b[38;5;241;43m=\u001b[39;49m\u001b[43mkeep_serialized_elements\u001b[49m\u001b[43m)\u001b[49m\n",
      "File \u001b[0;32m~/Desktop/PostDoc/Code/MachineLearning4PowerSystems/ENV/lib/python3.9/site-packages/pandapower/file_io.py:309\u001b[0m, in \u001b[0;36mfrom_json_string\u001b[0;34m(json_string, convert, encryption_key, elements_to_deserialize, keep_serialized_elements)\u001b[0m\n\u001b[1;32m    306\u001b[0m     json_string \u001b[38;5;241m=\u001b[39m io_utils\u001b[38;5;241m.\u001b[39mdecrypt_string(json_string, encryption_key)\n\u001b[1;32m    308\u001b[0m \u001b[38;5;28;01mif\u001b[39;00m elements_to_deserialize \u001b[38;5;129;01mis\u001b[39;00m \u001b[38;5;28;01mNone\u001b[39;00m:\n\u001b[0;32m--> 309\u001b[0m     net \u001b[38;5;241m=\u001b[39m \u001b[43mjson\u001b[49m\u001b[38;5;241;43m.\u001b[39;49m\u001b[43mloads\u001b[49m\u001b[43m(\u001b[49m\u001b[43mjson_string\u001b[49m\u001b[43m,\u001b[49m\u001b[43m \u001b[49m\u001b[38;5;28;43mcls\u001b[39;49m\u001b[38;5;241;43m=\u001b[39;49m\u001b[43mio_utils\u001b[49m\u001b[38;5;241;43m.\u001b[39;49m\u001b[43mPPJSONDecoder\u001b[49m\u001b[43m)\u001b[49m\n\u001b[1;32m    310\u001b[0m \u001b[38;5;28;01melse\u001b[39;00m:\n\u001b[1;32m    311\u001b[0m     net \u001b[38;5;241m=\u001b[39m json\u001b[38;5;241m.\u001b[39mloads(json_string, \u001b[38;5;28mcls\u001b[39m\u001b[38;5;241m=\u001b[39mio_utils\u001b[38;5;241m.\u001b[39mPPJSONDecoder, deserialize_pandas\u001b[38;5;241m=\u001b[39m\u001b[38;5;28;01mFalse\u001b[39;00m)\n",
      "File \u001b[0;32m/usr/local/Cellar/python@3.9/3.9.13_1/Frameworks/Python.framework/Versions/3.9/lib/python3.9/json/__init__.py:359\u001b[0m, in \u001b[0;36mloads\u001b[0;34m(s, cls, object_hook, parse_float, parse_int, parse_constant, object_pairs_hook, **kw)\u001b[0m\n\u001b[1;32m    357\u001b[0m \u001b[38;5;28;01mif\u001b[39;00m parse_constant \u001b[38;5;129;01mis\u001b[39;00m \u001b[38;5;129;01mnot\u001b[39;00m \u001b[38;5;28;01mNone\u001b[39;00m:\n\u001b[1;32m    358\u001b[0m     kw[\u001b[38;5;124m'\u001b[39m\u001b[38;5;124mparse_constant\u001b[39m\u001b[38;5;124m'\u001b[39m] \u001b[38;5;241m=\u001b[39m parse_constant\n\u001b[0;32m--> 359\u001b[0m \u001b[38;5;28;01mreturn\u001b[39;00m \u001b[38;5;28;43mcls\u001b[39;49m\u001b[43m(\u001b[49m\u001b[38;5;241;43m*\u001b[39;49m\u001b[38;5;241;43m*\u001b[39;49m\u001b[43mkw\u001b[49m\u001b[43m)\u001b[49m\u001b[38;5;241;43m.\u001b[39;49m\u001b[43mdecode\u001b[49m\u001b[43m(\u001b[49m\u001b[43ms\u001b[49m\u001b[43m)\u001b[49m\n",
      "File \u001b[0;32m/usr/local/Cellar/python@3.9/3.9.13_1/Frameworks/Python.framework/Versions/3.9/lib/python3.9/json/decoder.py:337\u001b[0m, in \u001b[0;36mJSONDecoder.decode\u001b[0;34m(self, s, _w)\u001b[0m\n\u001b[1;32m    332\u001b[0m \u001b[38;5;28;01mdef\u001b[39;00m \u001b[38;5;21mdecode\u001b[39m(\u001b[38;5;28mself\u001b[39m, s, _w\u001b[38;5;241m=\u001b[39mWHITESPACE\u001b[38;5;241m.\u001b[39mmatch):\n\u001b[1;32m    333\u001b[0m     \u001b[38;5;124;03m\"\"\"Return the Python representation of ``s`` (a ``str`` instance\u001b[39;00m\n\u001b[1;32m    334\u001b[0m \u001b[38;5;124;03m    containing a JSON document).\u001b[39;00m\n\u001b[1;32m    335\u001b[0m \n\u001b[1;32m    336\u001b[0m \u001b[38;5;124;03m    \"\"\"\u001b[39;00m\n\u001b[0;32m--> 337\u001b[0m     obj, end \u001b[38;5;241m=\u001b[39m \u001b[38;5;28;43mself\u001b[39;49m\u001b[38;5;241;43m.\u001b[39;49m\u001b[43mraw_decode\u001b[49m\u001b[43m(\u001b[49m\u001b[43ms\u001b[49m\u001b[43m,\u001b[49m\u001b[43m \u001b[49m\u001b[43midx\u001b[49m\u001b[38;5;241;43m=\u001b[39;49m\u001b[43m_w\u001b[49m\u001b[43m(\u001b[49m\u001b[43ms\u001b[49m\u001b[43m,\u001b[49m\u001b[43m \u001b[49m\u001b[38;5;241;43m0\u001b[39;49m\u001b[43m)\u001b[49m\u001b[38;5;241;43m.\u001b[39;49m\u001b[43mend\u001b[49m\u001b[43m(\u001b[49m\u001b[43m)\u001b[49m\u001b[43m)\u001b[49m\n\u001b[1;32m    338\u001b[0m     end \u001b[38;5;241m=\u001b[39m _w(s, end)\u001b[38;5;241m.\u001b[39mend()\n\u001b[1;32m    339\u001b[0m     \u001b[38;5;28;01mif\u001b[39;00m end \u001b[38;5;241m!=\u001b[39m \u001b[38;5;28mlen\u001b[39m(s):\n",
      "File \u001b[0;32m/usr/local/Cellar/python@3.9/3.9.13_1/Frameworks/Python.framework/Versions/3.9/lib/python3.9/json/decoder.py:353\u001b[0m, in \u001b[0;36mJSONDecoder.raw_decode\u001b[0;34m(self, s, idx)\u001b[0m\n\u001b[1;32m    344\u001b[0m \u001b[38;5;124;03m\"\"\"Decode a JSON document from ``s`` (a ``str`` beginning with\u001b[39;00m\n\u001b[1;32m    345\u001b[0m \u001b[38;5;124;03ma JSON document) and return a 2-tuple of the Python\u001b[39;00m\n\u001b[1;32m    346\u001b[0m \u001b[38;5;124;03mrepresentation and the index in ``s`` where the document ended.\u001b[39;00m\n\u001b[0;32m   (...)\u001b[0m\n\u001b[1;32m    350\u001b[0m \n\u001b[1;32m    351\u001b[0m \u001b[38;5;124;03m\"\"\"\u001b[39;00m\n\u001b[1;32m    352\u001b[0m \u001b[38;5;28;01mtry\u001b[39;00m:\n\u001b[0;32m--> 353\u001b[0m     obj, end \u001b[38;5;241m=\u001b[39m \u001b[38;5;28;43mself\u001b[39;49m\u001b[38;5;241;43m.\u001b[39;49m\u001b[43mscan_once\u001b[49m\u001b[43m(\u001b[49m\u001b[43ms\u001b[49m\u001b[43m,\u001b[49m\u001b[43m \u001b[49m\u001b[43midx\u001b[49m\u001b[43m)\u001b[49m\n\u001b[1;32m    354\u001b[0m \u001b[38;5;28;01mexcept\u001b[39;00m \u001b[38;5;167;01mStopIteration\u001b[39;00m \u001b[38;5;28;01mas\u001b[39;00m err:\n\u001b[1;32m    355\u001b[0m     \u001b[38;5;28;01mraise\u001b[39;00m JSONDecodeError(\u001b[38;5;124m\"\u001b[39m\u001b[38;5;124mExpecting value\u001b[39m\u001b[38;5;124m\"\u001b[39m, s, err\u001b[38;5;241m.\u001b[39mvalue) \u001b[38;5;28;01mfrom\u001b[39;00m \u001b[38;5;28mNone\u001b[39m\n",
      "File \u001b[0;32m~/Desktop/PostDoc/Code/MachineLearning4PowerSystems/ENV/lib/python3.9/site-packages/pandapower/io_utils.py:580\u001b[0m, in \u001b[0;36mpp_hook\u001b[0;34m(d, deserialize_pandas, registry_class)\u001b[0m\n\u001b[1;32m    578\u001b[0m     fs\u001b[38;5;241m.\u001b[39mclass_name \u001b[38;5;241m=\u001b[39m d\u001b[38;5;241m.\u001b[39mpop(\u001b[38;5;124m'\u001b[39m\u001b[38;5;124m_class\u001b[39m\u001b[38;5;124m'\u001b[39m, \u001b[38;5;124m'\u001b[39m\u001b[38;5;124m'\u001b[39m)\n\u001b[1;32m    579\u001b[0m     fs\u001b[38;5;241m.\u001b[39mmodule_name \u001b[38;5;241m=\u001b[39m d\u001b[38;5;241m.\u001b[39mpop(\u001b[38;5;124m'\u001b[39m\u001b[38;5;124m_module\u001b[39m\u001b[38;5;124m'\u001b[39m, \u001b[38;5;124m'\u001b[39m\u001b[38;5;124m'\u001b[39m)\n\u001b[0;32m--> 580\u001b[0m     \u001b[38;5;28;01mreturn\u001b[39;00m \u001b[43mfs\u001b[49m\u001b[38;5;241;43m.\u001b[39;49m\u001b[43mfrom_serializable\u001b[49m\u001b[43m(\u001b[49m\u001b[43m)\u001b[49m\n\u001b[1;32m    581\u001b[0m \u001b[38;5;28;01melse\u001b[39;00m:\n\u001b[1;32m    582\u001b[0m     \u001b[38;5;28;01mreturn\u001b[39;00m d\n",
      "File \u001b[0;32m~/Desktop/PostDoc/Code/MachineLearning4PowerSystems/ENV/lib/python3.9/site-packages/pandapower/io_utils.py:450\u001b[0m, in \u001b[0;36mFromSerializableRegistry.DataFrame\u001b[0;34m(self)\u001b[0m\n\u001b[1;32m    448\u001b[0m \u001b[38;5;129m@from_serializable\u001b[39m\u001b[38;5;241m.\u001b[39mregister(class_name\u001b[38;5;241m=\u001b[39m\u001b[38;5;124m'\u001b[39m\u001b[38;5;124mDataFrame\u001b[39m\u001b[38;5;124m'\u001b[39m, module_name\u001b[38;5;241m=\u001b[39m\u001b[38;5;124m'\u001b[39m\u001b[38;5;124mpandas.core.frame\u001b[39m\u001b[38;5;124m'\u001b[39m)\n\u001b[1;32m    449\u001b[0m \u001b[38;5;28;01mdef\u001b[39;00m \u001b[38;5;21mDataFrame\u001b[39m(\u001b[38;5;28mself\u001b[39m):\n\u001b[0;32m--> 450\u001b[0m     df \u001b[38;5;241m=\u001b[39m \u001b[43mpd\u001b[49m\u001b[38;5;241;43m.\u001b[39;49m\u001b[43mread_json\u001b[49m\u001b[43m(\u001b[49m\u001b[38;5;28;43mself\u001b[39;49m\u001b[38;5;241;43m.\u001b[39;49m\u001b[43mobj\u001b[49m\u001b[43m,\u001b[49m\u001b[43m \u001b[49m\u001b[43mprecise_float\u001b[49m\u001b[38;5;241;43m=\u001b[39;49m\u001b[38;5;28;43;01mTrue\u001b[39;49;00m\u001b[43m,\u001b[49m\u001b[43m \u001b[49m\u001b[43mconvert_axes\u001b[49m\u001b[38;5;241;43m=\u001b[39;49m\u001b[38;5;28;43;01mFalse\u001b[39;49;00m\u001b[43m,\u001b[49m\u001b[43m \u001b[49m\u001b[38;5;241;43m*\u001b[39;49m\u001b[38;5;241;43m*\u001b[39;49m\u001b[38;5;28;43mself\u001b[39;49m\u001b[38;5;241;43m.\u001b[39;49m\u001b[43md\u001b[49m\u001b[43m)\u001b[49m\n\u001b[1;32m    451\u001b[0m     \u001b[38;5;28;01mtry\u001b[39;00m:\n\u001b[1;32m    452\u001b[0m         df\u001b[38;5;241m.\u001b[39mset_index(df\u001b[38;5;241m.\u001b[39mindex\u001b[38;5;241m.\u001b[39mastype(numpy\u001b[38;5;241m.\u001b[39mint64), inplace\u001b[38;5;241m=\u001b[39m\u001b[38;5;28;01mTrue\u001b[39;00m)\n",
      "File \u001b[0;32m~/Desktop/PostDoc/Code/MachineLearning4PowerSystems/ENV/lib/python3.9/site-packages/pandas/util/_decorators.py:207\u001b[0m, in \u001b[0;36mdeprecate_kwarg.<locals>._deprecate_kwarg.<locals>.wrapper\u001b[0;34m(*args, **kwargs)\u001b[0m\n\u001b[1;32m    205\u001b[0m     \u001b[38;5;28;01melse\u001b[39;00m:\n\u001b[1;32m    206\u001b[0m         kwargs[new_arg_name] \u001b[38;5;241m=\u001b[39m new_arg_value\n\u001b[0;32m--> 207\u001b[0m \u001b[38;5;28;01mreturn\u001b[39;00m \u001b[43mfunc\u001b[49m\u001b[43m(\u001b[49m\u001b[38;5;241;43m*\u001b[39;49m\u001b[43margs\u001b[49m\u001b[43m,\u001b[49m\u001b[43m \u001b[49m\u001b[38;5;241;43m*\u001b[39;49m\u001b[38;5;241;43m*\u001b[39;49m\u001b[43mkwargs\u001b[49m\u001b[43m)\u001b[49m\n",
      "File \u001b[0;32m~/Desktop/PostDoc/Code/MachineLearning4PowerSystems/ENV/lib/python3.9/site-packages/pandas/util/_decorators.py:311\u001b[0m, in \u001b[0;36mdeprecate_nonkeyword_arguments.<locals>.decorate.<locals>.wrapper\u001b[0;34m(*args, **kwargs)\u001b[0m\n\u001b[1;32m    305\u001b[0m \u001b[38;5;28;01mif\u001b[39;00m \u001b[38;5;28mlen\u001b[39m(args) \u001b[38;5;241m>\u001b[39m num_allow_args:\n\u001b[1;32m    306\u001b[0m     warnings\u001b[38;5;241m.\u001b[39mwarn(\n\u001b[1;32m    307\u001b[0m         msg\u001b[38;5;241m.\u001b[39mformat(arguments\u001b[38;5;241m=\u001b[39marguments),\n\u001b[1;32m    308\u001b[0m         \u001b[38;5;167;01mFutureWarning\u001b[39;00m,\n\u001b[1;32m    309\u001b[0m         stacklevel\u001b[38;5;241m=\u001b[39mstacklevel,\n\u001b[1;32m    310\u001b[0m     )\n\u001b[0;32m--> 311\u001b[0m \u001b[38;5;28;01mreturn\u001b[39;00m \u001b[43mfunc\u001b[49m\u001b[43m(\u001b[49m\u001b[38;5;241;43m*\u001b[39;49m\u001b[43margs\u001b[49m\u001b[43m,\u001b[49m\u001b[43m \u001b[49m\u001b[38;5;241;43m*\u001b[39;49m\u001b[38;5;241;43m*\u001b[39;49m\u001b[43mkwargs\u001b[49m\u001b[43m)\u001b[49m\n",
      "File \u001b[0;32m~/Desktop/PostDoc/Code/MachineLearning4PowerSystems/ENV/lib/python3.9/site-packages/pandas/io/json/_json.py:612\u001b[0m, in \u001b[0;36mread_json\u001b[0;34m(path_or_buf, orient, typ, dtype, convert_axes, convert_dates, keep_default_dates, numpy, precise_float, date_unit, encoding, encoding_errors, lines, chunksize, compression, nrows, storage_options)\u001b[0m\n\u001b[1;32m    609\u001b[0m     \u001b[38;5;28;01mreturn\u001b[39;00m json_reader\n\u001b[1;32m    611\u001b[0m \u001b[38;5;28;01mwith\u001b[39;00m json_reader:\n\u001b[0;32m--> 612\u001b[0m     \u001b[38;5;28;01mreturn\u001b[39;00m \u001b[43mjson_reader\u001b[49m\u001b[38;5;241;43m.\u001b[39;49m\u001b[43mread\u001b[49m\u001b[43m(\u001b[49m\u001b[43m)\u001b[49m\n",
      "File \u001b[0;32m~/Desktop/PostDoc/Code/MachineLearning4PowerSystems/ENV/lib/python3.9/site-packages/pandas/io/json/_json.py:746\u001b[0m, in \u001b[0;36mJsonReader.read\u001b[0;34m(self)\u001b[0m\n\u001b[1;32m    744\u001b[0m         obj \u001b[38;5;241m=\u001b[39m \u001b[38;5;28mself\u001b[39m\u001b[38;5;241m.\u001b[39m_get_object_parser(\u001b[38;5;28mself\u001b[39m\u001b[38;5;241m.\u001b[39m_combine_lines(data_lines))\n\u001b[1;32m    745\u001b[0m \u001b[38;5;28;01melse\u001b[39;00m:\n\u001b[0;32m--> 746\u001b[0m     obj \u001b[38;5;241m=\u001b[39m \u001b[38;5;28;43mself\u001b[39;49m\u001b[38;5;241;43m.\u001b[39;49m\u001b[43m_get_object_parser\u001b[49m\u001b[43m(\u001b[49m\u001b[38;5;28;43mself\u001b[39;49m\u001b[38;5;241;43m.\u001b[39;49m\u001b[43mdata\u001b[49m\u001b[43m)\u001b[49m\n\u001b[1;32m    747\u001b[0m \u001b[38;5;28mself\u001b[39m\u001b[38;5;241m.\u001b[39mclose()\n\u001b[1;32m    748\u001b[0m \u001b[38;5;28;01mreturn\u001b[39;00m obj\n",
      "File \u001b[0;32m~/Desktop/PostDoc/Code/MachineLearning4PowerSystems/ENV/lib/python3.9/site-packages/pandas/io/json/_json.py:768\u001b[0m, in \u001b[0;36mJsonReader._get_object_parser\u001b[0;34m(self, json)\u001b[0m\n\u001b[1;32m    766\u001b[0m obj \u001b[38;5;241m=\u001b[39m \u001b[38;5;28;01mNone\u001b[39;00m\n\u001b[1;32m    767\u001b[0m \u001b[38;5;28;01mif\u001b[39;00m typ \u001b[38;5;241m==\u001b[39m \u001b[38;5;124m\"\u001b[39m\u001b[38;5;124mframe\u001b[39m\u001b[38;5;124m\"\u001b[39m:\n\u001b[0;32m--> 768\u001b[0m     obj \u001b[38;5;241m=\u001b[39m \u001b[43mFrameParser\u001b[49m\u001b[43m(\u001b[49m\u001b[43mjson\u001b[49m\u001b[43m,\u001b[49m\u001b[43m \u001b[49m\u001b[38;5;241;43m*\u001b[39;49m\u001b[38;5;241;43m*\u001b[39;49m\u001b[43mkwargs\u001b[49m\u001b[43m)\u001b[49m\u001b[38;5;241;43m.\u001b[39;49m\u001b[43mparse\u001b[49m\u001b[43m(\u001b[49m\u001b[43m)\u001b[49m\n\u001b[1;32m    770\u001b[0m \u001b[38;5;28;01mif\u001b[39;00m typ \u001b[38;5;241m==\u001b[39m \u001b[38;5;124m\"\u001b[39m\u001b[38;5;124mseries\u001b[39m\u001b[38;5;124m\"\u001b[39m \u001b[38;5;129;01mor\u001b[39;00m obj \u001b[38;5;129;01mis\u001b[39;00m \u001b[38;5;28;01mNone\u001b[39;00m:\n\u001b[1;32m    771\u001b[0m     \u001b[38;5;28;01mif\u001b[39;00m \u001b[38;5;129;01mnot\u001b[39;00m \u001b[38;5;28misinstance\u001b[39m(dtype, \u001b[38;5;28mbool\u001b[39m):\n",
      "File \u001b[0;32m~/Desktop/PostDoc/Code/MachineLearning4PowerSystems/ENV/lib/python3.9/site-packages/pandas/io/json/_json.py:880\u001b[0m, in \u001b[0;36mParser.parse\u001b[0;34m(self)\u001b[0m\n\u001b[1;32m    878\u001b[0m     \u001b[38;5;28mself\u001b[39m\u001b[38;5;241m.\u001b[39m_parse_numpy()\n\u001b[1;32m    879\u001b[0m \u001b[38;5;28;01melse\u001b[39;00m:\n\u001b[0;32m--> 880\u001b[0m     \u001b[38;5;28;43mself\u001b[39;49m\u001b[38;5;241;43m.\u001b[39;49m\u001b[43m_parse_no_numpy\u001b[49m\u001b[43m(\u001b[49m\u001b[43m)\u001b[49m\n\u001b[1;32m    882\u001b[0m \u001b[38;5;28;01mif\u001b[39;00m \u001b[38;5;28mself\u001b[39m\u001b[38;5;241m.\u001b[39mobj \u001b[38;5;129;01mis\u001b[39;00m \u001b[38;5;28;01mNone\u001b[39;00m:\n\u001b[1;32m    883\u001b[0m     \u001b[38;5;28;01mreturn\u001b[39;00m \u001b[38;5;28;01mNone\u001b[39;00m\n",
      "File \u001b[0;32m~/Desktop/PostDoc/Code/MachineLearning4PowerSystems/ENV/lib/python3.9/site-packages/pandas/io/json/_json.py:1141\u001b[0m, in \u001b[0;36mFrameParser._parse_no_numpy\u001b[0;34m(self)\u001b[0m\n\u001b[1;32m   1136\u001b[0m     decoded \u001b[38;5;241m=\u001b[39m {\n\u001b[1;32m   1137\u001b[0m         \u001b[38;5;28mstr\u001b[39m(k): v\n\u001b[1;32m   1138\u001b[0m         \u001b[38;5;28;01mfor\u001b[39;00m k, v \u001b[38;5;129;01min\u001b[39;00m loads(json, precise_float\u001b[38;5;241m=\u001b[39m\u001b[38;5;28mself\u001b[39m\u001b[38;5;241m.\u001b[39mprecise_float)\u001b[38;5;241m.\u001b[39mitems()\n\u001b[1;32m   1139\u001b[0m     }\n\u001b[1;32m   1140\u001b[0m     \u001b[38;5;28mself\u001b[39m\u001b[38;5;241m.\u001b[39mcheck_keys_split(decoded)\n\u001b[0;32m-> 1141\u001b[0m     \u001b[38;5;28mself\u001b[39m\u001b[38;5;241m.\u001b[39mobj \u001b[38;5;241m=\u001b[39m \u001b[43mDataFrame\u001b[49m\u001b[43m(\u001b[49m\u001b[43mdtype\u001b[49m\u001b[38;5;241;43m=\u001b[39;49m\u001b[38;5;28;43;01mNone\u001b[39;49;00m\u001b[43m,\u001b[49m\u001b[43m \u001b[49m\u001b[38;5;241;43m*\u001b[39;49m\u001b[38;5;241;43m*\u001b[39;49m\u001b[43mdecoded\u001b[49m\u001b[43m)\u001b[49m\n\u001b[1;32m   1142\u001b[0m \u001b[38;5;28;01melif\u001b[39;00m orient \u001b[38;5;241m==\u001b[39m \u001b[38;5;124m\"\u001b[39m\u001b[38;5;124mindex\u001b[39m\u001b[38;5;124m\"\u001b[39m:\n\u001b[1;32m   1143\u001b[0m     \u001b[38;5;28mself\u001b[39m\u001b[38;5;241m.\u001b[39mobj \u001b[38;5;241m=\u001b[39m DataFrame\u001b[38;5;241m.\u001b[39mfrom_dict(\n\u001b[1;32m   1144\u001b[0m         loads(json, precise_float\u001b[38;5;241m=\u001b[39m\u001b[38;5;28mself\u001b[39m\u001b[38;5;241m.\u001b[39mprecise_float),\n\u001b[1;32m   1145\u001b[0m         dtype\u001b[38;5;241m=\u001b[39m\u001b[38;5;28;01mNone\u001b[39;00m,\n\u001b[1;32m   1146\u001b[0m         orient\u001b[38;5;241m=\u001b[39m\u001b[38;5;124m\"\u001b[39m\u001b[38;5;124mindex\u001b[39m\u001b[38;5;124m\"\u001b[39m,\n\u001b[1;32m   1147\u001b[0m     )\n",
      "File \u001b[0;32m~/Desktop/PostDoc/Code/MachineLearning4PowerSystems/ENV/lib/python3.9/site-packages/pandas/core/frame.py:746\u001b[0m, in \u001b[0;36mDataFrame.__init__\u001b[0;34m(self, data, index, columns, dtype, copy)\u001b[0m\n\u001b[1;32m    737\u001b[0m             mgr \u001b[38;5;241m=\u001b[39m ndarray_to_mgr(\n\u001b[1;32m    738\u001b[0m                 data,\n\u001b[1;32m    739\u001b[0m                 index,\n\u001b[0;32m   (...)\u001b[0m\n\u001b[1;32m    743\u001b[0m                 typ\u001b[38;5;241m=\u001b[39mmanager,\n\u001b[1;32m    744\u001b[0m             )\n\u001b[1;32m    745\u001b[0m     \u001b[38;5;28;01melse\u001b[39;00m:\n\u001b[0;32m--> 746\u001b[0m         mgr \u001b[38;5;241m=\u001b[39m \u001b[43mdict_to_mgr\u001b[49m\u001b[43m(\u001b[49m\n\u001b[1;32m    747\u001b[0m \u001b[43m            \u001b[49m\u001b[43m{\u001b[49m\u001b[43m}\u001b[49m\u001b[43m,\u001b[49m\n\u001b[1;32m    748\u001b[0m \u001b[43m            \u001b[49m\u001b[43mindex\u001b[49m\u001b[43m,\u001b[49m\n\u001b[1;32m    749\u001b[0m \u001b[43m            \u001b[49m\u001b[43mcolumns\u001b[49m\u001b[43m,\u001b[49m\n\u001b[1;32m    750\u001b[0m \u001b[43m            \u001b[49m\u001b[43mdtype\u001b[49m\u001b[38;5;241;43m=\u001b[39;49m\u001b[43mdtype\u001b[49m\u001b[43m,\u001b[49m\n\u001b[1;32m    751\u001b[0m \u001b[43m            \u001b[49m\u001b[43mtyp\u001b[49m\u001b[38;5;241;43m=\u001b[39;49m\u001b[43mmanager\u001b[49m\u001b[43m,\u001b[49m\n\u001b[1;32m    752\u001b[0m \u001b[43m        \u001b[49m\u001b[43m)\u001b[49m\n\u001b[1;32m    753\u001b[0m \u001b[38;5;66;03m# For data is scalar\u001b[39;00m\n\u001b[1;32m    754\u001b[0m \u001b[38;5;28;01melse\u001b[39;00m:\n\u001b[1;32m    755\u001b[0m     \u001b[38;5;28;01mif\u001b[39;00m index \u001b[38;5;129;01mis\u001b[39;00m \u001b[38;5;28;01mNone\u001b[39;00m \u001b[38;5;129;01mor\u001b[39;00m columns \u001b[38;5;129;01mis\u001b[39;00m \u001b[38;5;28;01mNone\u001b[39;00m:\n",
      "File \u001b[0;32m~/Desktop/PostDoc/Code/MachineLearning4PowerSystems/ENV/lib/python3.9/site-packages/pandas/core/internals/construction.py:478\u001b[0m, in \u001b[0;36mdict_to_mgr\u001b[0;34m(data, index, columns, dtype, typ, copy)\u001b[0m\n\u001b[1;32m    475\u001b[0m             arrays\u001b[38;5;241m.\u001b[39mloc[missing] \u001b[38;5;241m=\u001b[39m rhs\n\u001b[1;32m    477\u001b[0m     arrays \u001b[38;5;241m=\u001b[39m \u001b[38;5;28mlist\u001b[39m(arrays)\n\u001b[0;32m--> 478\u001b[0m     columns \u001b[38;5;241m=\u001b[39m \u001b[43mensure_index\u001b[49m\u001b[43m(\u001b[49m\u001b[43mcolumns\u001b[49m\u001b[43m)\u001b[49m\n\u001b[1;32m    480\u001b[0m \u001b[38;5;28;01melse\u001b[39;00m:\n\u001b[1;32m    481\u001b[0m     keys \u001b[38;5;241m=\u001b[39m \u001b[38;5;28mlist\u001b[39m(data\u001b[38;5;241m.\u001b[39mkeys())\n",
      "File \u001b[0;32m~/Desktop/PostDoc/Code/MachineLearning4PowerSystems/ENV/lib/python3.9/site-packages/pandas/core/indexes/base.py:7041\u001b[0m, in \u001b[0;36mensure_index\u001b[0;34m(index_like, copy)\u001b[0m\n\u001b[1;32m   7039\u001b[0m         \u001b[38;5;28;01mreturn\u001b[39;00m MultiIndex\u001b[38;5;241m.\u001b[39mfrom_arrays(index_like)\n\u001b[1;32m   7040\u001b[0m     \u001b[38;5;28;01melse\u001b[39;00m:\n\u001b[0;32m-> 7041\u001b[0m         \u001b[38;5;28;01mreturn\u001b[39;00m \u001b[43mIndex\u001b[49m\u001b[38;5;241;43m.\u001b[39;49m\u001b[43m_with_infer\u001b[49m\u001b[43m(\u001b[49m\u001b[43mindex_like\u001b[49m\u001b[43m,\u001b[49m\u001b[43m \u001b[49m\u001b[43mcopy\u001b[49m\u001b[38;5;241;43m=\u001b[39;49m\u001b[43mcopy\u001b[49m\u001b[43m,\u001b[49m\u001b[43m \u001b[49m\u001b[43mtupleize_cols\u001b[49m\u001b[38;5;241;43m=\u001b[39;49m\u001b[38;5;28;43;01mFalse\u001b[39;49;00m\u001b[43m)\u001b[49m\n\u001b[1;32m   7042\u001b[0m \u001b[38;5;28;01melse\u001b[39;00m:\n\u001b[1;32m   7043\u001b[0m     \u001b[38;5;28;01mreturn\u001b[39;00m Index\u001b[38;5;241m.\u001b[39m_with_infer(index_like, copy\u001b[38;5;241m=\u001b[39mcopy)\n",
      "File \u001b[0;32m~/Desktop/PostDoc/Code/MachineLearning4PowerSystems/ENV/lib/python3.9/site-packages/pandas/core/indexes/base.py:686\u001b[0m, in \u001b[0;36mIndex._with_infer\u001b[0;34m(cls, *args, **kwargs)\u001b[0m\n\u001b[1;32m    680\u001b[0m     result \u001b[38;5;241m=\u001b[39m \u001b[38;5;28mcls\u001b[39m(\u001b[38;5;241m*\u001b[39margs, \u001b[38;5;241m*\u001b[39m\u001b[38;5;241m*\u001b[39mkwargs)\n\u001b[1;32m    682\u001b[0m \u001b[38;5;28;01mif\u001b[39;00m result\u001b[38;5;241m.\u001b[39mdtype \u001b[38;5;241m==\u001b[39m _dtype_obj \u001b[38;5;129;01mand\u001b[39;00m \u001b[38;5;129;01mnot\u001b[39;00m result\u001b[38;5;241m.\u001b[39m_is_multi:\n\u001b[1;32m    683\u001b[0m     \u001b[38;5;66;03m# error: Argument 1 to \"maybe_convert_objects\" has incompatible type\u001b[39;00m\n\u001b[1;32m    684\u001b[0m     \u001b[38;5;66;03m# \"Union[ExtensionArray, ndarray[Any, Any]]\"; expected\u001b[39;00m\n\u001b[1;32m    685\u001b[0m     \u001b[38;5;66;03m# \"ndarray[Any, Any]\"\u001b[39;00m\n\u001b[0;32m--> 686\u001b[0m     values \u001b[38;5;241m=\u001b[39m \u001b[43mlib\u001b[49m\u001b[38;5;241;43m.\u001b[39;49m\u001b[43mmaybe_convert_objects\u001b[49m\u001b[43m(\u001b[49m\u001b[43mresult\u001b[49m\u001b[38;5;241;43m.\u001b[39;49m\u001b[43m_values\u001b[49m\u001b[43m)\u001b[49m  \u001b[38;5;66;03m# type: ignore[arg-type]\u001b[39;00m\n\u001b[1;32m    687\u001b[0m     \u001b[38;5;28;01mif\u001b[39;00m values\u001b[38;5;241m.\u001b[39mdtype\u001b[38;5;241m.\u001b[39mkind \u001b[38;5;129;01min\u001b[39;00m [\u001b[38;5;124m\"\u001b[39m\u001b[38;5;124mi\u001b[39m\u001b[38;5;124m\"\u001b[39m, \u001b[38;5;124m\"\u001b[39m\u001b[38;5;124mu\u001b[39m\u001b[38;5;124m\"\u001b[39m, \u001b[38;5;124m\"\u001b[39m\u001b[38;5;124mf\u001b[39m\u001b[38;5;124m\"\u001b[39m]:\n\u001b[1;32m    688\u001b[0m         \u001b[38;5;28;01mreturn\u001b[39;00m Index(values, name\u001b[38;5;241m=\u001b[39mresult\u001b[38;5;241m.\u001b[39mname)\n",
      "File \u001b[0;32m~/Desktop/PostDoc/Code/MachineLearning4PowerSystems/ENV/lib/python3.9/site-packages/pandas/_libs/lib.pyx:2461\u001b[0m, in \u001b[0;36mpandas._libs.lib.maybe_convert_objects\u001b[0;34m()\u001b[0m\n",
      "File \u001b[0;32m~/Desktop/PostDoc/Code/MachineLearning4PowerSystems/ENV/lib/python3.9/site-packages/numpy/core/numeric.py:289\u001b[0m, in \u001b[0;36mfull\u001b[0;34m(shape, fill_value, dtype, order, like)\u001b[0m\n\u001b[1;32m    285\u001b[0m \u001b[38;5;28;01mdef\u001b[39;00m \u001b[38;5;21m_full_dispatcher\u001b[39m(shape, fill_value, dtype\u001b[38;5;241m=\u001b[39m\u001b[38;5;28;01mNone\u001b[39;00m, order\u001b[38;5;241m=\u001b[39m\u001b[38;5;28;01mNone\u001b[39;00m, \u001b[38;5;241m*\u001b[39m, like\u001b[38;5;241m=\u001b[39m\u001b[38;5;28;01mNone\u001b[39;00m):\n\u001b[1;32m    286\u001b[0m     \u001b[38;5;28;01mreturn\u001b[39;00m(like,)\n\u001b[0;32m--> 289\u001b[0m \u001b[38;5;129m@set_array_function_like_doc\u001b[39m\n\u001b[1;32m    290\u001b[0m \u001b[38;5;129m@set_module\u001b[39m(\u001b[38;5;124m'\u001b[39m\u001b[38;5;124mnumpy\u001b[39m\u001b[38;5;124m'\u001b[39m)\n\u001b[1;32m    291\u001b[0m \u001b[38;5;28;01mdef\u001b[39;00m \u001b[38;5;21mfull\u001b[39m(shape, fill_value, dtype\u001b[38;5;241m=\u001b[39m\u001b[38;5;28;01mNone\u001b[39;00m, order\u001b[38;5;241m=\u001b[39m\u001b[38;5;124m'\u001b[39m\u001b[38;5;124mC\u001b[39m\u001b[38;5;124m'\u001b[39m, \u001b[38;5;241m*\u001b[39m, like\u001b[38;5;241m=\u001b[39m\u001b[38;5;28;01mNone\u001b[39;00m):\n\u001b[1;32m    292\u001b[0m     \u001b[38;5;124;03m\"\"\"\u001b[39;00m\n\u001b[1;32m    293\u001b[0m \u001b[38;5;124;03m    Return a new array of given shape and type, filled with `fill_value`.\u001b[39;00m\n\u001b[1;32m    294\u001b[0m \n\u001b[0;32m   (...)\u001b[0m\n\u001b[1;32m    335\u001b[0m \n\u001b[1;32m    336\u001b[0m \u001b[38;5;124;03m    \"\"\"\u001b[39;00m\n\u001b[1;32m    337\u001b[0m     \u001b[38;5;28;01mif\u001b[39;00m like \u001b[38;5;129;01mis\u001b[39;00m \u001b[38;5;129;01mnot\u001b[39;00m \u001b[38;5;28;01mNone\u001b[39;00m:\n",
      "\u001b[0;31mKeyboardInterrupt\u001b[0m: "
     ]
    }
   ],
   "source": [
    "import tqdm\n",
    "for a, x, nets in tqdm.tqdm(interface.train):\n",
    "    print('test')"
   ]
  },
  {
   "cell_type": "code",
   "execution_count": 15,
   "id": "c0af7f5a",
   "metadata": {},
   "outputs": [
    {
     "ename": "TypeError",
     "evalue": "'NoneType' object is not subscriptable",
     "output_type": "error",
     "traceback": [
      "\u001b[0;31m---------------------------------------------------------------------------\u001b[0m",
      "\u001b[0;31mTypeError\u001b[0m                                 Traceback (most recent call last)",
      "Input \u001b[0;32mIn [15]\u001b[0m, in \u001b[0;36m<cell line: 1>\u001b[0;34m()\u001b[0m\n\u001b[0;32m----> 1\u001b[0m \u001b[43mx\u001b[49m\u001b[43m[\u001b[49m\u001b[38;5;124;43m'\u001b[39;49m\u001b[38;5;124;43mload\u001b[39;49m\u001b[38;5;124;43m'\u001b[39;49m\u001b[43m]\u001b[49m[\u001b[38;5;124m'\u001b[39m\u001b[38;5;124mp_mw\u001b[39m\u001b[38;5;124m'\u001b[39m]\n",
      "\u001b[0;31mTypeError\u001b[0m: 'NoneType' object is not subscriptable"
     ]
    }
   ],
   "source": [
    "x['load']['p_mw']"
   ]
  },
  {
   "cell_type": "code",
   "execution_count": 33,
   "id": "052e12f0",
   "metadata": {},
   "outputs": [],
   "source": [
    "x_norm = normalizer(x)"
   ]
  },
  {
   "cell_type": "code",
   "execution_count": 34,
   "id": "55f85c08",
   "metadata": {},
   "outputs": [
    {
     "data": {
      "text/plain": [
       "array([[[ 0.41319926],\n",
       "        [ 0.86564262],\n",
       "        [ 0.26190077],\n",
       "        [-0.91491096],\n",
       "        [-0.14990964],\n",
       "        [ 0.29588008],\n",
       "        [-0.88841138],\n",
       "        [-1.00382769],\n",
       "        [-0.62889367],\n",
       "        [-0.31832635],\n",
       "        [ 0.1254308 ]],\n",
       "\n",
       "       [[ 0.34001286],\n",
       "        [ 0.81025789],\n",
       "        [ 0.60878047],\n",
       "        [-0.73474687],\n",
       "        [-0.8296626 ],\n",
       "        [ 0.05630127],\n",
       "        [-0.43979885],\n",
       "        [-0.88757891],\n",
       "        [-0.70210819],\n",
       "        [-0.63550201],\n",
       "        [ 0.12800796]],\n",
       "\n",
       "       [[ 0.4711457 ],\n",
       "        [ 0.93994418],\n",
       "        [ 0.78644627],\n",
       "        [-0.71100454],\n",
       "        [ 0.00980433],\n",
       "        [ 0.69414886],\n",
       "        [-0.73212697],\n",
       "        [-0.71541054],\n",
       "        [-0.77952745],\n",
       "        [-0.41071125],\n",
       "        [ 0.26753284]],\n",
       "\n",
       "       [[ 0.32286697],\n",
       "        [ 0.7300015 ],\n",
       "        [ 0.36129438],\n",
       "        [-0.58794234],\n",
       "        [-0.10177924],\n",
       "        [ 0.26110337],\n",
       "        [-0.47838977],\n",
       "        [-0.98561316],\n",
       "        [-0.59258809],\n",
       "        [-0.63734643],\n",
       "        [-0.25044296]],\n",
       "\n",
       "       [[ 0.31553269],\n",
       "        [ 0.92498066],\n",
       "        [ 0.75995453],\n",
       "        [-0.40660494],\n",
       "        [-0.46780827],\n",
       "        [ 0.22456356],\n",
       "        [-0.62671067],\n",
       "        [-0.89693968],\n",
       "        [-0.58952284],\n",
       "        [-0.35219998],\n",
       "        [-0.5017779 ]],\n",
       "\n",
       "       [[ 0.12972309],\n",
       "        [ 0.99528521],\n",
       "        [ 0.70102536],\n",
       "        [-0.23126685],\n",
       "        [-0.01551622],\n",
       "        [ 0.57051479],\n",
       "        [-0.45665106],\n",
       "        [-0.72898215],\n",
       "        [-0.58488479],\n",
       "        [-0.00273306],\n",
       "        [-0.05565162]],\n",
       "\n",
       "       [[ 0.22698753],\n",
       "        [ 0.89563267],\n",
       "        [ 0.77658083],\n",
       "        [-0.88386655],\n",
       "        [-0.76784329],\n",
       "        [ 0.54894882],\n",
       "        [-0.31457368],\n",
       "        [-0.83556539],\n",
       "        [-0.50607698],\n",
       "        [-0.04957331],\n",
       "        [-0.00538558]],\n",
       "\n",
       "       [[ 0.0377294 ],\n",
       "        [ 0.99915135],\n",
       "        [ 0.77795859],\n",
       "        [-0.02332466],\n",
       "        [-0.49984127],\n",
       "        [ 0.51515699],\n",
       "        [ 0.1565396 ],\n",
       "        [-0.67650961],\n",
       "        [-0.52254643],\n",
       "        [-0.19872705],\n",
       "        [ 0.26128292]],\n",
       "\n",
       "       [[ 0.1642007 ],\n",
       "        [ 0.91236957],\n",
       "        [ 0.60704821],\n",
       "        [-0.40651629],\n",
       "        [-0.53009191],\n",
       "        [ 0.53388668],\n",
       "        [-0.48897078],\n",
       "        [-0.98287983],\n",
       "        [-0.71712941],\n",
       "        [ 0.03284285],\n",
       "        [ 0.12707604]],\n",
       "\n",
       "       [[ 0.20906808],\n",
       "        [ 1.03715837],\n",
       "        [ 0.78642174],\n",
       "        [-0.31117652],\n",
       "        [-0.1397642 ],\n",
       "        [ 0.76775552],\n",
       "        [-0.08320778],\n",
       "        [-0.72378212],\n",
       "        [-0.7451935 ],\n",
       "        [-0.16064844],\n",
       "        [-0.16221064]]])"
      ]
     },
     "execution_count": 34,
     "metadata": {},
     "output_type": "execute_result"
    }
   ],
   "source": [
    "x_norm['load']['p_mw']"
   ]
  },
  {
   "cell_type": "code",
   "execution_count": 36,
   "id": "4734aed8",
   "metadata": {},
   "outputs": [],
   "source": [
    "raw_data = np.reshape(x['load']['p_mw'], [-1])\n",
    "norm_data = np.reshape(x_norm['load']['p_mw'], [-1])"
   ]
  },
  {
   "cell_type": "code",
   "execution_count": 41,
   "id": "f127b4ad",
   "metadata": {},
   "outputs": [
    {
     "data": {
      "image/png": "[encoded data removed]",
      "text/plain": [
       "<Figure size 432x288 with 1 Axes>"
      ]
     },
     "metadata": {
      "needs_background": "light"
     },
     "output_type": "display_data"
    },
    {
     "data": {
      "image/png": "[encoded data removed]",
      "text/plain": [
       "<Figure size 432x288 with 1 Axes>"
      ]
     },
     "metadata": {
      "needs_background": "light"
     },
     "output_type": "display_data"
    }
   ],
   "source": [
    "plt.hist(raw_data, bins=20)\n",
    "plt.show()\n",
    "\n",
    "plt.hist(norm_data, bins=20)\n",
    "plt.show()"
   ]
  },
  {
   "cell_type": "markdown",
   "id": "06e14fff",
   "metadata": {},
   "source": [
    "# Pytorch data"
   ]
  },
  {
   "cell_type": "code",
   "execution_count": 6,
   "id": "848c7061",
   "metadata": {
    "scrolled": true
   },
   "outputs": [],
   "source": [
    "import torch\n",
    "from torch.utils.data import Dataset, DataLoader\n",
    "import pandapower.networks as pn\n",
    "\n",
    "class MyDataset(Dataset):\n",
    "    def __init__(self, backend_name, data_dir, addresses=None, features=None):\n",
    "        self.backend = ml.backend.get_backend(backend_name)\n",
    "        self.files = self.backend.get_files(data_dir)\n",
    "        if addresses is None:\n",
    "            self.addresses = self.backend.valid_addresses\n",
    "        else:\n",
    "            self.addresses = addresses\n",
    "        if features is None:\n",
    "            self.features = self.backend.valid_features\n",
    "        else:\n",
    "            self.features = features\n",
    "        \n",
    "        \n",
    "    def __getitem__(self, index):\n",
    "        filename = self.files[index]\n",
    "        network = self.backend.load_network(filename)\n",
    "        a_table = self.backend.get_table_dict(network, self.addresses)\n",
    "        a = self.backend.extract_addresses(a_table, self.addresses)\n",
    "        x_table = self.backend.get_table_dict(network, self.features)\n",
    "        x = self.backend.extract_features(x_table, self.features)\n",
    "        return a, x, network\n",
    "    \n",
    "    def __len__(self):\n",
    "        return len(self.files)\n",
    "\n",
    "def collate_fn(data):\n",
    "    a, x, network = zip(*data)\n",
    "    a = torch.utils.data.default_collate(a)\n",
    "    x = torch.utils.data.default_collate(x)\n",
    "    return a, x, network\n",
    "\n",
    "data_dir = '../data/data_json/case1354pegase/train'\n",
    "dataset = MyDataset('pandapower', data_dir)\n",
    "loader = DataLoader(\n",
    "    dataset,\n",
    "    batch_size=10,\n",
    "    collate_fn=collate_fn,\n",
    "    num_workers=0\n",
    ")\n"
   ]
  },
  {
   "cell_type": "code",
   "execution_count": 34,
   "id": "88e6b563",
   "metadata": {},
   "outputs": [
    {
     "name": "stderr",
     "output_type": "stream",
     "text": [
      "  0%|▎                                                                                                                                                                                                                                                                                  | 1/776 [00:03<41:49,  3.24s/it]"
     ]
    },
    {
     "name": "stdout",
     "output_type": "stream",
     "text": [
      "test\n"
     ]
    },
    {
     "name": "stderr",
     "output_type": "stream",
     "text": [
      "\r",
      "  0%|▋                                                                                                                                                                                                                                                                                  | 2/776 [00:06<43:21,  3.36s/it]"
     ]
    },
    {
     "name": "stdout",
     "output_type": "stream",
     "text": [
      "test\n"
     ]
    },
    {
     "name": "stderr",
     "output_type": "stream",
     "text": [
      "\r",
      "  0%|█                                                                                                                                                                                                                                                                                  | 3/776 [00:11<51:11,  3.97s/it]"
     ]
    },
    {
     "name": "stdout",
     "output_type": "stream",
     "text": [
      "test\n"
     ]
    },
    {
     "name": "stderr",
     "output_type": "stream",
     "text": [
      "\r",
      "  1%|█▍                                                                                                                                                                                                                                                                                 | 4/776 [00:16<54:55,  4.27s/it]"
     ]
    },
    {
     "name": "stdout",
     "output_type": "stream",
     "text": [
      "test\n"
     ]
    },
    {
     "name": "stderr",
     "output_type": "stream",
     "text": [
      "\r",
      "  1%|█▊                                                                                                                                                                                                                                                                                 | 5/776 [00:20<53:07,  4.13s/it]"
     ]
    },
    {
     "name": "stdout",
     "output_type": "stream",
     "text": [
      "test\n"
     ]
    },
    {
     "name": "stderr",
     "output_type": "stream",
     "text": [
      "\r",
      "  1%|██▏                                                                                                                                                                                                                                                                                | 6/776 [00:23<51:30,  4.01s/it]"
     ]
    },
    {
     "name": "stdout",
     "output_type": "stream",
     "text": [
      "test\n"
     ]
    },
    {
     "name": "stderr",
     "output_type": "stream",
     "text": [
      "\r",
      "  1%|██▍                                                                                                                                                                                                                                                                                | 7/776 [00:27<48:58,  3.82s/it]"
     ]
    },
    {
     "name": "stdout",
     "output_type": "stream",
     "text": [
      "test\n"
     ]
    },
    {
     "name": "stderr",
     "output_type": "stream",
     "text": [
      "\r",
      "  1%|██▊                                                                                                                                                                                                                                                                                | 8/776 [00:30<48:07,  3.76s/it]"
     ]
    },
    {
     "name": "stdout",
     "output_type": "stream",
     "text": [
      "test\n"
     ]
    },
    {
     "name": "stderr",
     "output_type": "stream",
     "text": [
      "\r",
      "  1%|███▏                                                                                                                                                                                                                                                                               | 9/776 [00:34<48:02,  3.76s/it]"
     ]
    },
    {
     "name": "stdout",
     "output_type": "stream",
     "text": [
      "test\n"
     ]
    },
    {
     "name": "stderr",
     "output_type": "stream",
     "text": [
      "\r",
      "  1%|███▌                                                                                                                                                                                                                                                                              | 10/776 [00:37<46:00,  3.60s/it]"
     ]
    },
    {
     "name": "stdout",
     "output_type": "stream",
     "text": [
      "test\n"
     ]
    },
    {
     "name": "stderr",
     "output_type": "stream",
     "text": [
      "\r",
      "  1%|███▉                                                                                                                                                                                                                                                                              | 11/776 [00:41<44:48,  3.51s/it]"
     ]
    },
    {
     "name": "stdout",
     "output_type": "stream",
     "text": [
      "test\n"
     ]
    },
    {
     "name": "stderr",
     "output_type": "stream",
     "text": [
      "\r",
      "  2%|████▏                                                                                                                                                                                                                                                                             | 12/776 [00:44<44:15,  3.48s/it]"
     ]
    },
    {
     "name": "stdout",
     "output_type": "stream",
     "text": [
      "test\n"
     ]
    },
    {
     "name": "stderr",
     "output_type": "stream",
     "text": [
      "\r",
      "  2%|████▌                                                                                                                                                                                                                                                                             | 13/776 [00:47<43:47,  3.44s/it]"
     ]
    },
    {
     "name": "stdout",
     "output_type": "stream",
     "text": [
      "test\n"
     ]
    },
    {
     "name": "stderr",
     "output_type": "stream",
     "text": [
      "\r",
      "  2%|████▉                                                                                                                                                                                                                                                                             | 14/776 [00:51<42:50,  3.37s/it]"
     ]
    },
    {
     "name": "stdout",
     "output_type": "stream",
     "text": [
      "test\n"
     ]
    },
    {
     "name": "stderr",
     "output_type": "stream",
     "text": [
      "\r",
      "  2%|█████▎                                                                                                                                                                                                                                                                            | 15/776 [00:54<42:15,  3.33s/it]"
     ]
    },
    {
     "name": "stdout",
     "output_type": "stream",
     "text": [
      "test\n"
     ]
    },
    {
     "name": "stderr",
     "output_type": "stream",
     "text": [
      "\r",
      "  2%|█████▋                                                                                                                                                                                                                                                                            | 16/776 [00:57<42:43,  3.37s/it]"
     ]
    },
    {
     "name": "stdout",
     "output_type": "stream",
     "text": [
      "test\n"
     ]
    },
    {
     "name": "stderr",
     "output_type": "stream",
     "text": [
      "\r",
      "  2%|██████                                                                                                                                                                                                                                                                            | 17/776 [01:01<42:19,  3.35s/it]"
     ]
    },
    {
     "name": "stdout",
     "output_type": "stream",
     "text": [
      "test\n"
     ]
    },
    {
     "name": "stderr",
     "output_type": "stream",
     "text": [
      "\r",
      "  2%|██████▎                                                                                                                                                                                                                                                                           | 18/776 [01:04<41:46,  3.31s/it]"
     ]
    },
    {
     "name": "stdout",
     "output_type": "stream",
     "text": [
      "test\n"
     ]
    },
    {
     "name": "stderr",
     "output_type": "stream",
     "text": [
      "\r",
      "  2%|██████▋                                                                                                                                                                                                                                                                           | 19/776 [01:07<41:20,  3.28s/it]"
     ]
    },
    {
     "name": "stdout",
     "output_type": "stream",
     "text": [
      "test\n"
     ]
    },
    {
     "name": "stderr",
     "output_type": "stream",
     "text": [
      "\r",
      "  3%|███████                                                                                                                                                                                                                                                                           | 20/776 [01:10<41:06,  3.26s/it]"
     ]
    },
    {
     "name": "stdout",
     "output_type": "stream",
     "text": [
      "test\n"
     ]
    },
    {
     "name": "stderr",
     "output_type": "stream",
     "text": [
      "\r",
      "  3%|███████▍                                                                                                                                                                                                                                                                          | 21/776 [01:14<40:56,  3.25s/it]"
     ]
    },
    {
     "name": "stdout",
     "output_type": "stream",
     "text": [
      "test\n"
     ]
    },
    {
     "name": "stderr",
     "output_type": "stream",
     "text": [
      "\r",
      "  3%|███████▊                                                                                                                                                                                                                                                                          | 22/776 [01:17<41:54,  3.34s/it]"
     ]
    },
    {
     "name": "stdout",
     "output_type": "stream",
     "text": [
      "test\n"
     ]
    },
    {
     "name": "stderr",
     "output_type": "stream",
     "text": [
      "\r",
      "  3%|████████                                                                                                                                                                                                                                                                          | 23/776 [01:21<42:54,  3.42s/it]"
     ]
    },
    {
     "name": "stdout",
     "output_type": "stream",
     "text": [
      "test\n"
     ]
    },
    {
     "name": "stderr",
     "output_type": "stream",
     "text": [
      "\r",
      "  3%|████████▍                                                                                                                                                                                                                                                                         | 24/776 [01:25<45:46,  3.65s/it]"
     ]
    },
    {
     "name": "stdout",
     "output_type": "stream",
     "text": [
      "test\n"
     ]
    },
    {
     "name": "stderr",
     "output_type": "stream",
     "text": [
      "\r",
      "  3%|████████▊                                                                                                                                                                                                                                                                         | 25/776 [01:28<43:35,  3.48s/it]"
     ]
    },
    {
     "name": "stdout",
     "output_type": "stream",
     "text": [
      "test\n"
     ]
    },
    {
     "name": "stderr",
     "output_type": "stream",
     "text": [
      "\r",
      "  3%|█████████▏                                                                                                                                                                                                                                                                        | 26/776 [01:31<42:15,  3.38s/it]"
     ]
    },
    {
     "name": "stdout",
     "output_type": "stream",
     "text": [
      "test\n"
     ]
    },
    {
     "name": "stderr",
     "output_type": "stream",
     "text": [
      "\r",
      "  3%|█████████▌                                                                                                                                                                                                                                                                        | 27/776 [01:34<41:22,  3.31s/it]"
     ]
    },
    {
     "name": "stdout",
     "output_type": "stream",
     "text": [
      "test\n"
     ]
    },
    {
     "name": "stderr",
     "output_type": "stream",
     "text": [
      "\r",
      "  4%|█████████▉                                                                                                                                                                                                                                                                        | 28/776 [01:37<40:28,  3.25s/it]"
     ]
    },
    {
     "name": "stdout",
     "output_type": "stream",
     "text": [
      "test\n"
     ]
    },
    {
     "name": "stderr",
     "output_type": "stream",
     "text": [
      "\r",
      "  4%|██████████▏                                                                                                                                                                                                                                                                       | 29/776 [01:40<40:01,  3.21s/it]"
     ]
    },
    {
     "name": "stdout",
     "output_type": "stream",
     "text": [
      "test\n"
     ]
    },
    {
     "name": "stderr",
     "output_type": "stream",
     "text": [
      "\r",
      "  4%|██████████▌                                                                                                                                                                                                                                                                       | 30/776 [01:44<40:22,  3.25s/it]"
     ]
    },
    {
     "name": "stdout",
     "output_type": "stream",
     "text": [
      "test\n"
     ]
    },
    {
     "name": "stderr",
     "output_type": "stream",
     "text": [
      "\r",
      "  4%|██████████▉                                                                                                                                                                                                                                                                       | 31/776 [01:47<39:48,  3.21s/it]"
     ]
    },
    {
     "name": "stdout",
     "output_type": "stream",
     "text": [
      "test\n"
     ]
    },
    {
     "name": "stderr",
     "output_type": "stream",
     "text": [
      "\r",
      "  4%|███████████▎                                                                                                                                                                                                                                                                      | 32/776 [01:50<39:32,  3.19s/it]"
     ]
    },
    {
     "name": "stdout",
     "output_type": "stream",
     "text": [
      "test\n"
     ]
    },
    {
     "name": "stderr",
     "output_type": "stream",
     "text": [
      "\r",
      "  4%|███████████▋                                                                                                                                                                                                                                                                      | 33/776 [01:53<39:31,  3.19s/it]"
     ]
    },
    {
     "name": "stdout",
     "output_type": "stream",
     "text": [
      "test\n"
     ]
    },
    {
     "name": "stderr",
     "output_type": "stream",
     "text": [
      "\r",
      "  4%|████████████                                                                                                                                                                                                                                                                      | 34/776 [01:56<39:17,  3.18s/it]"
     ]
    },
    {
     "name": "stdout",
     "output_type": "stream",
     "text": [
      "test\n"
     ]
    },
    {
     "name": "stderr",
     "output_type": "stream",
     "text": [
      "\r",
      "  5%|████████████▎                                                                                                                                                                                                                                                                     | 35/776 [01:59<38:57,  3.15s/it]"
     ]
    },
    {
     "name": "stdout",
     "output_type": "stream",
     "text": [
      "test\n"
     ]
    },
    {
     "name": "stderr",
     "output_type": "stream",
     "text": [
      "\r",
      "  5%|████████████▋                                                                                                                                                                                                                                                                     | 36/776 [02:03<38:39,  3.13s/it]"
     ]
    },
    {
     "name": "stdout",
     "output_type": "stream",
     "text": [
      "test\n"
     ]
    },
    {
     "name": "stderr",
     "output_type": "stream",
     "text": [
      "\r",
      "  5%|█████████████                                                                                                                                                                                                                                                                     | 37/776 [02:06<40:59,  3.33s/it]"
     ]
    },
    {
     "name": "stdout",
     "output_type": "stream",
     "text": [
      "test\n"
     ]
    },
    {
     "name": "stderr",
     "output_type": "stream",
     "text": [
      "\r",
      "  5%|█████████████▍                                                                                                                                                                                                                                                                    | 38/776 [02:10<42:08,  3.43s/it]"
     ]
    },
    {
     "name": "stdout",
     "output_type": "stream",
     "text": [
      "test\n"
     ]
    },
    {
     "name": "stderr",
     "output_type": "stream",
     "text": [
      "\r",
      "  5%|█████████████▊                                                                                                                                                                                                                                                                    | 39/776 [02:13<42:13,  3.44s/it]"
     ]
    },
    {
     "name": "stdout",
     "output_type": "stream",
     "text": [
      "test\n"
     ]
    },
    {
     "name": "stderr",
     "output_type": "stream",
     "text": [
      "\r",
      "  5%|██████████████                                                                                                                                                                                                                                                                    | 40/776 [02:17<43:07,  3.52s/it]"
     ]
    },
    {
     "name": "stdout",
     "output_type": "stream",
     "text": [
      "test\n"
     ]
    },
    {
     "name": "stderr",
     "output_type": "stream",
     "text": [
      "\r",
      "  5%|██████████████▍                                                                                                                                                                                                                                                                   | 41/776 [02:20<42:05,  3.44s/it]"
     ]
    },
    {
     "name": "stdout",
     "output_type": "stream",
     "text": [
      "test\n"
     ]
    },
    {
     "name": "stderr",
     "output_type": "stream",
     "text": [
      "\r",
      "  5%|██████████████▊                                                                                                                                                                                                                                                                   | 42/776 [02:24<41:15,  3.37s/it]"
     ]
    },
    {
     "name": "stdout",
     "output_type": "stream",
     "text": [
      "test\n"
     ]
    },
    {
     "name": "stderr",
     "output_type": "stream",
     "text": [
      "\r",
      "  6%|███████████████▏                                                                                                                                                                                                                                                                  | 43/776 [02:27<41:33,  3.40s/it]"
     ]
    },
    {
     "name": "stdout",
     "output_type": "stream",
     "text": [
      "test\n"
     ]
    },
    {
     "name": "stderr",
     "output_type": "stream",
     "text": [
      "\r",
      "  6%|███████████████▌                                                                                                                                                                                                                                                                  | 44/776 [02:31<43:47,  3.59s/it]"
     ]
    },
    {
     "name": "stdout",
     "output_type": "stream",
     "text": [
      "test\n"
     ]
    },
    {
     "name": "stderr",
     "output_type": "stream",
     "text": [
      "\r",
      "  6%|███████████████▉                                                                                                                                                                                                                                                                  | 45/776 [02:36<49:17,  4.05s/it]"
     ]
    },
    {
     "name": "stdout",
     "output_type": "stream",
     "text": [
      "test\n"
     ]
    },
    {
     "name": "stderr",
     "output_type": "stream",
     "text": [
      "  6%|███████████████▉                                                                                                                                                                                                                                                                  | 45/776 [02:39<43:04,  3.54s/it]\n"
     ]
    },
    {
     "ename": "KeyboardInterrupt",
     "evalue": "",
     "output_type": "error",
     "traceback": [
      "\u001b[0;31m---------------------------------------------------------------------------\u001b[0m",
      "\u001b[0;31mKeyboardInterrupt\u001b[0m                         Traceback (most recent call last)",
      "Input \u001b[0;32mIn [34]\u001b[0m, in \u001b[0;36m<cell line: 3>\u001b[0;34m()\u001b[0m\n\u001b[1;32m      1\u001b[0m \u001b[38;5;28;01mimport\u001b[39;00m \u001b[38;5;21;01mtqdm\u001b[39;00m\n\u001b[0;32m----> 3\u001b[0m \u001b[38;5;28;01mfor\u001b[39;00m a, x, nets \u001b[38;5;129;01min\u001b[39;00m tqdm\u001b[38;5;241m.\u001b[39mtqdm(loader):\n\u001b[1;32m      4\u001b[0m     \u001b[38;5;28mprint\u001b[39m(\u001b[38;5;124m'\u001b[39m\u001b[38;5;124mtest\u001b[39m\u001b[38;5;124m'\u001b[39m)\n",
      "File \u001b[0;32m~/Desktop/PostDoc/Code/MachineLearning4PowerSystems/ENV/lib/python3.9/site-packages/tqdm/std.py:1195\u001b[0m, in \u001b[0;36mtqdm.__iter__\u001b[0;34m(self)\u001b[0m\n\u001b[1;32m   1192\u001b[0m time \u001b[38;5;241m=\u001b[39m \u001b[38;5;28mself\u001b[39m\u001b[38;5;241m.\u001b[39m_time\n\u001b[1;32m   1194\u001b[0m \u001b[38;5;28;01mtry\u001b[39;00m:\n\u001b[0;32m-> 1195\u001b[0m     \u001b[38;5;28;01mfor\u001b[39;00m obj \u001b[38;5;129;01min\u001b[39;00m iterable:\n\u001b[1;32m   1196\u001b[0m         \u001b[38;5;28;01myield\u001b[39;00m obj\n\u001b[1;32m   1197\u001b[0m         \u001b[38;5;66;03m# Update and possibly print the progressbar.\u001b[39;00m\n\u001b[1;32m   1198\u001b[0m         \u001b[38;5;66;03m# Note: does not call self.update(1) for speed optimisation.\u001b[39;00m\n",
      "File \u001b[0;32m~/Desktop/PostDoc/Code/MachineLearning4PowerSystems/ENV/lib/python3.9/site-packages/torch/utils/data/dataloader.py:681\u001b[0m, in \u001b[0;36m_BaseDataLoaderIter.__next__\u001b[0;34m(self)\u001b[0m\n\u001b[1;32m    678\u001b[0m \u001b[38;5;28;01mif\u001b[39;00m \u001b[38;5;28mself\u001b[39m\u001b[38;5;241m.\u001b[39m_sampler_iter \u001b[38;5;129;01mis\u001b[39;00m \u001b[38;5;28;01mNone\u001b[39;00m:\n\u001b[1;32m    679\u001b[0m     \u001b[38;5;66;03m# TODO(https://github.com/pytorch/pytorch/issues/76750)\u001b[39;00m\n\u001b[1;32m    680\u001b[0m     \u001b[38;5;28mself\u001b[39m\u001b[38;5;241m.\u001b[39m_reset()  \u001b[38;5;66;03m# type: ignore[call-arg]\u001b[39;00m\n\u001b[0;32m--> 681\u001b[0m data \u001b[38;5;241m=\u001b[39m \u001b[38;5;28;43mself\u001b[39;49m\u001b[38;5;241;43m.\u001b[39;49m\u001b[43m_next_data\u001b[49m\u001b[43m(\u001b[49m\u001b[43m)\u001b[49m\n\u001b[1;32m    682\u001b[0m \u001b[38;5;28mself\u001b[39m\u001b[38;5;241m.\u001b[39m_num_yielded \u001b[38;5;241m+\u001b[39m\u001b[38;5;241m=\u001b[39m \u001b[38;5;241m1\u001b[39m\n\u001b[1;32m    683\u001b[0m \u001b[38;5;28;01mif\u001b[39;00m \u001b[38;5;28mself\u001b[39m\u001b[38;5;241m.\u001b[39m_dataset_kind \u001b[38;5;241m==\u001b[39m _DatasetKind\u001b[38;5;241m.\u001b[39mIterable \u001b[38;5;129;01mand\u001b[39;00m \\\n\u001b[1;32m    684\u001b[0m         \u001b[38;5;28mself\u001b[39m\u001b[38;5;241m.\u001b[39m_IterableDataset_len_called \u001b[38;5;129;01mis\u001b[39;00m \u001b[38;5;129;01mnot\u001b[39;00m \u001b[38;5;28;01mNone\u001b[39;00m \u001b[38;5;129;01mand\u001b[39;00m \\\n\u001b[1;32m    685\u001b[0m         \u001b[38;5;28mself\u001b[39m\u001b[38;5;241m.\u001b[39m_num_yielded \u001b[38;5;241m>\u001b[39m \u001b[38;5;28mself\u001b[39m\u001b[38;5;241m.\u001b[39m_IterableDataset_len_called:\n",
      "File \u001b[0;32m~/Desktop/PostDoc/Code/MachineLearning4PowerSystems/ENV/lib/python3.9/site-packages/torch/utils/data/dataloader.py:721\u001b[0m, in \u001b[0;36m_SingleProcessDataLoaderIter._next_data\u001b[0;34m(self)\u001b[0m\n\u001b[1;32m    719\u001b[0m \u001b[38;5;28;01mdef\u001b[39;00m \u001b[38;5;21m_next_data\u001b[39m(\u001b[38;5;28mself\u001b[39m):\n\u001b[1;32m    720\u001b[0m     index \u001b[38;5;241m=\u001b[39m \u001b[38;5;28mself\u001b[39m\u001b[38;5;241m.\u001b[39m_next_index()  \u001b[38;5;66;03m# may raise StopIteration\u001b[39;00m\n\u001b[0;32m--> 721\u001b[0m     data \u001b[38;5;241m=\u001b[39m \u001b[38;5;28;43mself\u001b[39;49m\u001b[38;5;241;43m.\u001b[39;49m\u001b[43m_dataset_fetcher\u001b[49m\u001b[38;5;241;43m.\u001b[39;49m\u001b[43mfetch\u001b[49m\u001b[43m(\u001b[49m\u001b[43mindex\u001b[49m\u001b[43m)\u001b[49m  \u001b[38;5;66;03m# may raise StopIteration\u001b[39;00m\n\u001b[1;32m    722\u001b[0m     \u001b[38;5;28;01mif\u001b[39;00m \u001b[38;5;28mself\u001b[39m\u001b[38;5;241m.\u001b[39m_pin_memory:\n\u001b[1;32m    723\u001b[0m         data \u001b[38;5;241m=\u001b[39m _utils\u001b[38;5;241m.\u001b[39mpin_memory\u001b[38;5;241m.\u001b[39mpin_memory(data, \u001b[38;5;28mself\u001b[39m\u001b[38;5;241m.\u001b[39m_pin_memory_device)\n",
      "File \u001b[0;32m~/Desktop/PostDoc/Code/MachineLearning4PowerSystems/ENV/lib/python3.9/site-packages/torch/utils/data/_utils/fetch.py:49\u001b[0m, in \u001b[0;36m_MapDatasetFetcher.fetch\u001b[0;34m(self, possibly_batched_index)\u001b[0m\n\u001b[1;32m     47\u001b[0m \u001b[38;5;28;01mdef\u001b[39;00m \u001b[38;5;21mfetch\u001b[39m(\u001b[38;5;28mself\u001b[39m, possibly_batched_index):\n\u001b[1;32m     48\u001b[0m     \u001b[38;5;28;01mif\u001b[39;00m \u001b[38;5;28mself\u001b[39m\u001b[38;5;241m.\u001b[39mauto_collation:\n\u001b[0;32m---> 49\u001b[0m         data \u001b[38;5;241m=\u001b[39m [\u001b[38;5;28mself\u001b[39m\u001b[38;5;241m.\u001b[39mdataset[idx] \u001b[38;5;28;01mfor\u001b[39;00m idx \u001b[38;5;129;01min\u001b[39;00m possibly_batched_index]\n\u001b[1;32m     50\u001b[0m     \u001b[38;5;28;01melse\u001b[39;00m:\n\u001b[1;32m     51\u001b[0m         data \u001b[38;5;241m=\u001b[39m \u001b[38;5;28mself\u001b[39m\u001b[38;5;241m.\u001b[39mdataset[possibly_batched_index]\n",
      "File \u001b[0;32m~/Desktop/PostDoc/Code/MachineLearning4PowerSystems/ENV/lib/python3.9/site-packages/torch/utils/data/_utils/fetch.py:49\u001b[0m, in \u001b[0;36m<listcomp>\u001b[0;34m(.0)\u001b[0m\n\u001b[1;32m     47\u001b[0m \u001b[38;5;28;01mdef\u001b[39;00m \u001b[38;5;21mfetch\u001b[39m(\u001b[38;5;28mself\u001b[39m, possibly_batched_index):\n\u001b[1;32m     48\u001b[0m     \u001b[38;5;28;01mif\u001b[39;00m \u001b[38;5;28mself\u001b[39m\u001b[38;5;241m.\u001b[39mauto_collation:\n\u001b[0;32m---> 49\u001b[0m         data \u001b[38;5;241m=\u001b[39m [\u001b[38;5;28;43mself\u001b[39;49m\u001b[38;5;241;43m.\u001b[39;49m\u001b[43mdataset\u001b[49m\u001b[43m[\u001b[49m\u001b[43midx\u001b[49m\u001b[43m]\u001b[49m \u001b[38;5;28;01mfor\u001b[39;00m idx \u001b[38;5;129;01min\u001b[39;00m possibly_batched_index]\n\u001b[1;32m     50\u001b[0m     \u001b[38;5;28;01melse\u001b[39;00m:\n\u001b[1;32m     51\u001b[0m         data \u001b[38;5;241m=\u001b[39m \u001b[38;5;28mself\u001b[39m\u001b[38;5;241m.\u001b[39mdataset[possibly_batched_index]\n",
      "Input \u001b[0;32mIn [33]\u001b[0m, in \u001b[0;36mMyDataset.__getitem__\u001b[0;34m(self, index)\u001b[0m\n\u001b[1;32m     19\u001b[0m \u001b[38;5;28;01mdef\u001b[39;00m \u001b[38;5;21m__getitem__\u001b[39m(\u001b[38;5;28mself\u001b[39m, index):\n\u001b[1;32m     20\u001b[0m     filename \u001b[38;5;241m=\u001b[39m \u001b[38;5;28mself\u001b[39m\u001b[38;5;241m.\u001b[39mfiles[index]\n\u001b[0;32m---> 21\u001b[0m     network \u001b[38;5;241m=\u001b[39m \u001b[38;5;28;43mself\u001b[39;49m\u001b[38;5;241;43m.\u001b[39;49m\u001b[43mbackend\u001b[49m\u001b[38;5;241;43m.\u001b[39;49m\u001b[43mload_network\u001b[49m\u001b[43m(\u001b[49m\u001b[43mfilename\u001b[49m\u001b[43m)\u001b[49m\n\u001b[1;32m     22\u001b[0m     a_table \u001b[38;5;241m=\u001b[39m \u001b[38;5;28mself\u001b[39m\u001b[38;5;241m.\u001b[39mbackend\u001b[38;5;241m.\u001b[39mget_table_dict(network, \u001b[38;5;28mself\u001b[39m\u001b[38;5;241m.\u001b[39maddresses)\n\u001b[1;32m     23\u001b[0m     a \u001b[38;5;241m=\u001b[39m \u001b[38;5;28mself\u001b[39m\u001b[38;5;241m.\u001b[39mbackend\u001b[38;5;241m.\u001b[39mextract_addresses(a_table, \u001b[38;5;28mself\u001b[39m\u001b[38;5;241m.\u001b[39maddresses)\n",
      "File \u001b[0;32m~/Desktop/PostDoc/Code/MachineLearning4PowerSystems/doc/../ML4PS/backend/pandapower.py:97\u001b[0m, in \u001b[0;36mBackend.load_network\u001b[0;34m(self, file_path)\u001b[0m\n\u001b[1;32m     95\u001b[0m \u001b[38;5;28;01mdef\u001b[39;00m \u001b[38;5;21mload_network\u001b[39m(\u001b[38;5;28mself\u001b[39m, file_path):\n\u001b[1;32m     96\u001b[0m     \u001b[38;5;28;01mif\u001b[39;00m file_path\u001b[38;5;241m.\u001b[39mendswith(\u001b[38;5;124m'\u001b[39m\u001b[38;5;124m.json\u001b[39m\u001b[38;5;124m'\u001b[39m):\n\u001b[0;32m---> 97\u001b[0m         net \u001b[38;5;241m=\u001b[39m \u001b[43mpp\u001b[49m\u001b[38;5;241;43m.\u001b[39;49m\u001b[43mfrom_json\u001b[49m\u001b[43m(\u001b[49m\u001b[43mfile_path\u001b[49m\u001b[43m)\u001b[49m\n\u001b[1;32m     98\u001b[0m     \u001b[38;5;28;01melif\u001b[39;00m file_path\u001b[38;5;241m.\u001b[39mendswith(\u001b[38;5;124m'\u001b[39m\u001b[38;5;124m.pkl\u001b[39m\u001b[38;5;124m'\u001b[39m):\n\u001b[1;32m     99\u001b[0m         net \u001b[38;5;241m=\u001b[39m pp\u001b[38;5;241m.\u001b[39mfrom_pickle(file_path)\n",
      "File \u001b[0;32m~/Desktop/PostDoc/Code/MachineLearning4PowerSystems/ENV/lib/python3.9/site-packages/pandapower/file_io.py:271\u001b[0m, in \u001b[0;36mfrom_json\u001b[0;34m(filename, convert, encryption_key, elements_to_deserialize, keep_serialized_elements)\u001b[0m\n\u001b[1;32m    268\u001b[0m     \u001b[38;5;28;01mwith\u001b[39;00m \u001b[38;5;28mopen\u001b[39m(filename, \u001b[38;5;124m\"\u001b[39m\u001b[38;5;124mr\u001b[39m\u001b[38;5;124m\"\u001b[39m) \u001b[38;5;28;01mas\u001b[39;00m fp:\n\u001b[1;32m    269\u001b[0m         json_string \u001b[38;5;241m=\u001b[39m fp\u001b[38;5;241m.\u001b[39mread()\n\u001b[0;32m--> 271\u001b[0m \u001b[38;5;28;01mreturn\u001b[39;00m \u001b[43mfrom_json_string\u001b[49m\u001b[43m(\u001b[49m\u001b[43mjson_string\u001b[49m\u001b[43m,\u001b[49m\u001b[43m \u001b[49m\u001b[43mconvert\u001b[49m\u001b[38;5;241;43m=\u001b[39;49m\u001b[43mconvert\u001b[49m\u001b[43m,\u001b[49m\u001b[43m \u001b[49m\u001b[43mencryption_key\u001b[49m\u001b[38;5;241;43m=\u001b[39;49m\u001b[43mencryption_key\u001b[49m\u001b[43m,\u001b[49m\n\u001b[1;32m    272\u001b[0m \u001b[43m                        \u001b[49m\u001b[43melements_to_deserialize\u001b[49m\u001b[38;5;241;43m=\u001b[39;49m\u001b[43melements_to_deserialize\u001b[49m\u001b[43m,\u001b[49m\n\u001b[1;32m    273\u001b[0m \u001b[43m                        \u001b[49m\u001b[43mkeep_serialized_elements\u001b[49m\u001b[38;5;241;43m=\u001b[39;49m\u001b[43mkeep_serialized_elements\u001b[49m\u001b[43m)\u001b[49m\n",
      "File \u001b[0;32m~/Desktop/PostDoc/Code/MachineLearning4PowerSystems/ENV/lib/python3.9/site-packages/pandapower/file_io.py:309\u001b[0m, in \u001b[0;36mfrom_json_string\u001b[0;34m(json_string, convert, encryption_key, elements_to_deserialize, keep_serialized_elements)\u001b[0m\n\u001b[1;32m    306\u001b[0m     json_string \u001b[38;5;241m=\u001b[39m io_utils\u001b[38;5;241m.\u001b[39mdecrypt_string(json_string, encryption_key)\n\u001b[1;32m    308\u001b[0m \u001b[38;5;28;01mif\u001b[39;00m elements_to_deserialize \u001b[38;5;129;01mis\u001b[39;00m \u001b[38;5;28;01mNone\u001b[39;00m:\n\u001b[0;32m--> 309\u001b[0m     net \u001b[38;5;241m=\u001b[39m \u001b[43mjson\u001b[49m\u001b[38;5;241;43m.\u001b[39;49m\u001b[43mloads\u001b[49m\u001b[43m(\u001b[49m\u001b[43mjson_string\u001b[49m\u001b[43m,\u001b[49m\u001b[43m \u001b[49m\u001b[38;5;28;43mcls\u001b[39;49m\u001b[38;5;241;43m=\u001b[39;49m\u001b[43mio_utils\u001b[49m\u001b[38;5;241;43m.\u001b[39;49m\u001b[43mPPJSONDecoder\u001b[49m\u001b[43m)\u001b[49m\n\u001b[1;32m    310\u001b[0m \u001b[38;5;28;01melse\u001b[39;00m:\n\u001b[1;32m    311\u001b[0m     net \u001b[38;5;241m=\u001b[39m json\u001b[38;5;241m.\u001b[39mloads(json_string, \u001b[38;5;28mcls\u001b[39m\u001b[38;5;241m=\u001b[39mio_utils\u001b[38;5;241m.\u001b[39mPPJSONDecoder, deserialize_pandas\u001b[38;5;241m=\u001b[39m\u001b[38;5;28;01mFalse\u001b[39;00m)\n",
      "File \u001b[0;32m/usr/local/Cellar/python@3.9/3.9.13_1/Frameworks/Python.framework/Versions/3.9/lib/python3.9/json/__init__.py:359\u001b[0m, in \u001b[0;36mloads\u001b[0;34m(s, cls, object_hook, parse_float, parse_int, parse_constant, object_pairs_hook, **kw)\u001b[0m\n\u001b[1;32m    357\u001b[0m \u001b[38;5;28;01mif\u001b[39;00m parse_constant \u001b[38;5;129;01mis\u001b[39;00m \u001b[38;5;129;01mnot\u001b[39;00m \u001b[38;5;28;01mNone\u001b[39;00m:\n\u001b[1;32m    358\u001b[0m     kw[\u001b[38;5;124m'\u001b[39m\u001b[38;5;124mparse_constant\u001b[39m\u001b[38;5;124m'\u001b[39m] \u001b[38;5;241m=\u001b[39m parse_constant\n\u001b[0;32m--> 359\u001b[0m \u001b[38;5;28;01mreturn\u001b[39;00m \u001b[38;5;28;43mcls\u001b[39;49m\u001b[43m(\u001b[49m\u001b[38;5;241;43m*\u001b[39;49m\u001b[38;5;241;43m*\u001b[39;49m\u001b[43mkw\u001b[49m\u001b[43m)\u001b[49m\u001b[38;5;241;43m.\u001b[39;49m\u001b[43mdecode\u001b[49m\u001b[43m(\u001b[49m\u001b[43ms\u001b[49m\u001b[43m)\u001b[49m\n",
      "File \u001b[0;32m/usr/local/Cellar/python@3.9/3.9.13_1/Frameworks/Python.framework/Versions/3.9/lib/python3.9/json/decoder.py:337\u001b[0m, in \u001b[0;36mJSONDecoder.decode\u001b[0;34m(self, s, _w)\u001b[0m\n\u001b[1;32m    332\u001b[0m \u001b[38;5;28;01mdef\u001b[39;00m \u001b[38;5;21mdecode\u001b[39m(\u001b[38;5;28mself\u001b[39m, s, _w\u001b[38;5;241m=\u001b[39mWHITESPACE\u001b[38;5;241m.\u001b[39mmatch):\n\u001b[1;32m    333\u001b[0m     \u001b[38;5;124;03m\"\"\"Return the Python representation of ``s`` (a ``str`` instance\u001b[39;00m\n\u001b[1;32m    334\u001b[0m \u001b[38;5;124;03m    containing a JSON document).\u001b[39;00m\n\u001b[1;32m    335\u001b[0m \n\u001b[1;32m    336\u001b[0m \u001b[38;5;124;03m    \"\"\"\u001b[39;00m\n\u001b[0;32m--> 337\u001b[0m     obj, end \u001b[38;5;241m=\u001b[39m \u001b[38;5;28;43mself\u001b[39;49m\u001b[38;5;241;43m.\u001b[39;49m\u001b[43mraw_decode\u001b[49m\u001b[43m(\u001b[49m\u001b[43ms\u001b[49m\u001b[43m,\u001b[49m\u001b[43m \u001b[49m\u001b[43midx\u001b[49m\u001b[38;5;241;43m=\u001b[39;49m\u001b[43m_w\u001b[49m\u001b[43m(\u001b[49m\u001b[43ms\u001b[49m\u001b[43m,\u001b[49m\u001b[43m \u001b[49m\u001b[38;5;241;43m0\u001b[39;49m\u001b[43m)\u001b[49m\u001b[38;5;241;43m.\u001b[39;49m\u001b[43mend\u001b[49m\u001b[43m(\u001b[49m\u001b[43m)\u001b[49m\u001b[43m)\u001b[49m\n\u001b[1;32m    338\u001b[0m     end \u001b[38;5;241m=\u001b[39m _w(s, end)\u001b[38;5;241m.\u001b[39mend()\n\u001b[1;32m    339\u001b[0m     \u001b[38;5;28;01mif\u001b[39;00m end \u001b[38;5;241m!=\u001b[39m \u001b[38;5;28mlen\u001b[39m(s):\n",
      "File \u001b[0;32m/usr/local/Cellar/python@3.9/3.9.13_1/Frameworks/Python.framework/Versions/3.9/lib/python3.9/json/decoder.py:353\u001b[0m, in \u001b[0;36mJSONDecoder.raw_decode\u001b[0;34m(self, s, idx)\u001b[0m\n\u001b[1;32m    344\u001b[0m \u001b[38;5;124;03m\"\"\"Decode a JSON document from ``s`` (a ``str`` beginning with\u001b[39;00m\n\u001b[1;32m    345\u001b[0m \u001b[38;5;124;03ma JSON document) and return a 2-tuple of the Python\u001b[39;00m\n\u001b[1;32m    346\u001b[0m \u001b[38;5;124;03mrepresentation and the index in ``s`` where the document ended.\u001b[39;00m\n\u001b[0;32m   (...)\u001b[0m\n\u001b[1;32m    350\u001b[0m \n\u001b[1;32m    351\u001b[0m \u001b[38;5;124;03m\"\"\"\u001b[39;00m\n\u001b[1;32m    352\u001b[0m \u001b[38;5;28;01mtry\u001b[39;00m:\n\u001b[0;32m--> 353\u001b[0m     obj, end \u001b[38;5;241m=\u001b[39m \u001b[38;5;28;43mself\u001b[39;49m\u001b[38;5;241;43m.\u001b[39;49m\u001b[43mscan_once\u001b[49m\u001b[43m(\u001b[49m\u001b[43ms\u001b[49m\u001b[43m,\u001b[49m\u001b[43m \u001b[49m\u001b[43midx\u001b[49m\u001b[43m)\u001b[49m\n\u001b[1;32m    354\u001b[0m \u001b[38;5;28;01mexcept\u001b[39;00m \u001b[38;5;167;01mStopIteration\u001b[39;00m \u001b[38;5;28;01mas\u001b[39;00m err:\n\u001b[1;32m    355\u001b[0m     \u001b[38;5;28;01mraise\u001b[39;00m JSONDecodeError(\u001b[38;5;124m\"\u001b[39m\u001b[38;5;124mExpecting value\u001b[39m\u001b[38;5;124m\"\u001b[39m, s, err\u001b[38;5;241m.\u001b[39mvalue) \u001b[38;5;28;01mfrom\u001b[39;00m \u001b[38;5;28mNone\u001b[39m\n",
      "File \u001b[0;32m~/Desktop/PostDoc/Code/MachineLearning4PowerSystems/ENV/lib/python3.9/site-packages/pandapower/io_utils.py:580\u001b[0m, in \u001b[0;36mpp_hook\u001b[0;34m(d, deserialize_pandas, registry_class)\u001b[0m\n\u001b[1;32m    578\u001b[0m     fs\u001b[38;5;241m.\u001b[39mclass_name \u001b[38;5;241m=\u001b[39m d\u001b[38;5;241m.\u001b[39mpop(\u001b[38;5;124m'\u001b[39m\u001b[38;5;124m_class\u001b[39m\u001b[38;5;124m'\u001b[39m, \u001b[38;5;124m'\u001b[39m\u001b[38;5;124m'\u001b[39m)\n\u001b[1;32m    579\u001b[0m     fs\u001b[38;5;241m.\u001b[39mmodule_name \u001b[38;5;241m=\u001b[39m d\u001b[38;5;241m.\u001b[39mpop(\u001b[38;5;124m'\u001b[39m\u001b[38;5;124m_module\u001b[39m\u001b[38;5;124m'\u001b[39m, \u001b[38;5;124m'\u001b[39m\u001b[38;5;124m'\u001b[39m)\n\u001b[0;32m--> 580\u001b[0m     \u001b[38;5;28;01mreturn\u001b[39;00m \u001b[43mfs\u001b[49m\u001b[38;5;241;43m.\u001b[39;49m\u001b[43mfrom_serializable\u001b[49m\u001b[43m(\u001b[49m\u001b[43m)\u001b[49m\n\u001b[1;32m    581\u001b[0m \u001b[38;5;28;01melse\u001b[39;00m:\n\u001b[1;32m    582\u001b[0m     \u001b[38;5;28;01mreturn\u001b[39;00m d\n",
      "File \u001b[0;32m~/Desktop/PostDoc/Code/MachineLearning4PowerSystems/ENV/lib/python3.9/site-packages/pandapower/io_utils.py:450\u001b[0m, in \u001b[0;36mFromSerializableRegistry.DataFrame\u001b[0;34m(self)\u001b[0m\n\u001b[1;32m    448\u001b[0m \u001b[38;5;129m@from_serializable\u001b[39m\u001b[38;5;241m.\u001b[39mregister(class_name\u001b[38;5;241m=\u001b[39m\u001b[38;5;124m'\u001b[39m\u001b[38;5;124mDataFrame\u001b[39m\u001b[38;5;124m'\u001b[39m, module_name\u001b[38;5;241m=\u001b[39m\u001b[38;5;124m'\u001b[39m\u001b[38;5;124mpandas.core.frame\u001b[39m\u001b[38;5;124m'\u001b[39m)\n\u001b[1;32m    449\u001b[0m \u001b[38;5;28;01mdef\u001b[39;00m \u001b[38;5;21mDataFrame\u001b[39m(\u001b[38;5;28mself\u001b[39m):\n\u001b[0;32m--> 450\u001b[0m     df \u001b[38;5;241m=\u001b[39m \u001b[43mpd\u001b[49m\u001b[38;5;241;43m.\u001b[39;49m\u001b[43mread_json\u001b[49m\u001b[43m(\u001b[49m\u001b[38;5;28;43mself\u001b[39;49m\u001b[38;5;241;43m.\u001b[39;49m\u001b[43mobj\u001b[49m\u001b[43m,\u001b[49m\u001b[43m \u001b[49m\u001b[43mprecise_float\u001b[49m\u001b[38;5;241;43m=\u001b[39;49m\u001b[38;5;28;43;01mTrue\u001b[39;49;00m\u001b[43m,\u001b[49m\u001b[43m \u001b[49m\u001b[43mconvert_axes\u001b[49m\u001b[38;5;241;43m=\u001b[39;49m\u001b[38;5;28;43;01mFalse\u001b[39;49;00m\u001b[43m,\u001b[49m\u001b[43m \u001b[49m\u001b[38;5;241;43m*\u001b[39;49m\u001b[38;5;241;43m*\u001b[39;49m\u001b[38;5;28;43mself\u001b[39;49m\u001b[38;5;241;43m.\u001b[39;49m\u001b[43md\u001b[49m\u001b[43m)\u001b[49m\n\u001b[1;32m    451\u001b[0m     \u001b[38;5;28;01mtry\u001b[39;00m:\n\u001b[1;32m    452\u001b[0m         df\u001b[38;5;241m.\u001b[39mset_index(df\u001b[38;5;241m.\u001b[39mindex\u001b[38;5;241m.\u001b[39mastype(numpy\u001b[38;5;241m.\u001b[39mint64), inplace\u001b[38;5;241m=\u001b[39m\u001b[38;5;28;01mTrue\u001b[39;00m)\n",
      "File \u001b[0;32m~/Desktop/PostDoc/Code/MachineLearning4PowerSystems/ENV/lib/python3.9/site-packages/pandas/util/_decorators.py:207\u001b[0m, in \u001b[0;36mdeprecate_kwarg.<locals>._deprecate_kwarg.<locals>.wrapper\u001b[0;34m(*args, **kwargs)\u001b[0m\n\u001b[1;32m    205\u001b[0m     \u001b[38;5;28;01melse\u001b[39;00m:\n\u001b[1;32m    206\u001b[0m         kwargs[new_arg_name] \u001b[38;5;241m=\u001b[39m new_arg_value\n\u001b[0;32m--> 207\u001b[0m \u001b[38;5;28;01mreturn\u001b[39;00m \u001b[43mfunc\u001b[49m\u001b[43m(\u001b[49m\u001b[38;5;241;43m*\u001b[39;49m\u001b[43margs\u001b[49m\u001b[43m,\u001b[49m\u001b[43m \u001b[49m\u001b[38;5;241;43m*\u001b[39;49m\u001b[38;5;241;43m*\u001b[39;49m\u001b[43mkwargs\u001b[49m\u001b[43m)\u001b[49m\n",
      "File \u001b[0;32m~/Desktop/PostDoc/Code/MachineLearning4PowerSystems/ENV/lib/python3.9/site-packages/pandas/util/_decorators.py:311\u001b[0m, in \u001b[0;36mdeprecate_nonkeyword_arguments.<locals>.decorate.<locals>.wrapper\u001b[0;34m(*args, **kwargs)\u001b[0m\n\u001b[1;32m    305\u001b[0m \u001b[38;5;28;01mif\u001b[39;00m \u001b[38;5;28mlen\u001b[39m(args) \u001b[38;5;241m>\u001b[39m num_allow_args:\n\u001b[1;32m    306\u001b[0m     warnings\u001b[38;5;241m.\u001b[39mwarn(\n\u001b[1;32m    307\u001b[0m         msg\u001b[38;5;241m.\u001b[39mformat(arguments\u001b[38;5;241m=\u001b[39marguments),\n\u001b[1;32m    308\u001b[0m         \u001b[38;5;167;01mFutureWarning\u001b[39;00m,\n\u001b[1;32m    309\u001b[0m         stacklevel\u001b[38;5;241m=\u001b[39mstacklevel,\n\u001b[1;32m    310\u001b[0m     )\n\u001b[0;32m--> 311\u001b[0m \u001b[38;5;28;01mreturn\u001b[39;00m \u001b[43mfunc\u001b[49m\u001b[43m(\u001b[49m\u001b[38;5;241;43m*\u001b[39;49m\u001b[43margs\u001b[49m\u001b[43m,\u001b[49m\u001b[43m \u001b[49m\u001b[38;5;241;43m*\u001b[39;49m\u001b[38;5;241;43m*\u001b[39;49m\u001b[43mkwargs\u001b[49m\u001b[43m)\u001b[49m\n",
      "File \u001b[0;32m~/Desktop/PostDoc/Code/MachineLearning4PowerSystems/ENV/lib/python3.9/site-packages/pandas/io/json/_json.py:612\u001b[0m, in \u001b[0;36mread_json\u001b[0;34m(path_or_buf, orient, typ, dtype, convert_axes, convert_dates, keep_default_dates, numpy, precise_float, date_unit, encoding, encoding_errors, lines, chunksize, compression, nrows, storage_options)\u001b[0m\n\u001b[1;32m    609\u001b[0m     \u001b[38;5;28;01mreturn\u001b[39;00m json_reader\n\u001b[1;32m    611\u001b[0m \u001b[38;5;28;01mwith\u001b[39;00m json_reader:\n\u001b[0;32m--> 612\u001b[0m     \u001b[38;5;28;01mreturn\u001b[39;00m \u001b[43mjson_reader\u001b[49m\u001b[38;5;241;43m.\u001b[39;49m\u001b[43mread\u001b[49m\u001b[43m(\u001b[49m\u001b[43m)\u001b[49m\n",
      "File \u001b[0;32m~/Desktop/PostDoc/Code/MachineLearning4PowerSystems/ENV/lib/python3.9/site-packages/pandas/io/json/_json.py:746\u001b[0m, in \u001b[0;36mJsonReader.read\u001b[0;34m(self)\u001b[0m\n\u001b[1;32m    744\u001b[0m         obj \u001b[38;5;241m=\u001b[39m \u001b[38;5;28mself\u001b[39m\u001b[38;5;241m.\u001b[39m_get_object_parser(\u001b[38;5;28mself\u001b[39m\u001b[38;5;241m.\u001b[39m_combine_lines(data_lines))\n\u001b[1;32m    745\u001b[0m \u001b[38;5;28;01melse\u001b[39;00m:\n\u001b[0;32m--> 746\u001b[0m     obj \u001b[38;5;241m=\u001b[39m \u001b[38;5;28;43mself\u001b[39;49m\u001b[38;5;241;43m.\u001b[39;49m\u001b[43m_get_object_parser\u001b[49m\u001b[43m(\u001b[49m\u001b[38;5;28;43mself\u001b[39;49m\u001b[38;5;241;43m.\u001b[39;49m\u001b[43mdata\u001b[49m\u001b[43m)\u001b[49m\n\u001b[1;32m    747\u001b[0m \u001b[38;5;28mself\u001b[39m\u001b[38;5;241m.\u001b[39mclose()\n\u001b[1;32m    748\u001b[0m \u001b[38;5;28;01mreturn\u001b[39;00m obj\n",
      "File \u001b[0;32m~/Desktop/PostDoc/Code/MachineLearning4PowerSystems/ENV/lib/python3.9/site-packages/pandas/io/json/_json.py:768\u001b[0m, in \u001b[0;36mJsonReader._get_object_parser\u001b[0;34m(self, json)\u001b[0m\n\u001b[1;32m    766\u001b[0m obj \u001b[38;5;241m=\u001b[39m \u001b[38;5;28;01mNone\u001b[39;00m\n\u001b[1;32m    767\u001b[0m \u001b[38;5;28;01mif\u001b[39;00m typ \u001b[38;5;241m==\u001b[39m \u001b[38;5;124m\"\u001b[39m\u001b[38;5;124mframe\u001b[39m\u001b[38;5;124m\"\u001b[39m:\n\u001b[0;32m--> 768\u001b[0m     obj \u001b[38;5;241m=\u001b[39m \u001b[43mFrameParser\u001b[49m\u001b[43m(\u001b[49m\u001b[43mjson\u001b[49m\u001b[43m,\u001b[49m\u001b[43m \u001b[49m\u001b[38;5;241;43m*\u001b[39;49m\u001b[38;5;241;43m*\u001b[39;49m\u001b[43mkwargs\u001b[49m\u001b[43m)\u001b[49m\u001b[38;5;241;43m.\u001b[39;49m\u001b[43mparse\u001b[49m\u001b[43m(\u001b[49m\u001b[43m)\u001b[49m\n\u001b[1;32m    770\u001b[0m \u001b[38;5;28;01mif\u001b[39;00m typ \u001b[38;5;241m==\u001b[39m \u001b[38;5;124m\"\u001b[39m\u001b[38;5;124mseries\u001b[39m\u001b[38;5;124m\"\u001b[39m \u001b[38;5;129;01mor\u001b[39;00m obj \u001b[38;5;129;01mis\u001b[39;00m \u001b[38;5;28;01mNone\u001b[39;00m:\n\u001b[1;32m    771\u001b[0m     \u001b[38;5;28;01mif\u001b[39;00m \u001b[38;5;129;01mnot\u001b[39;00m \u001b[38;5;28misinstance\u001b[39m(dtype, \u001b[38;5;28mbool\u001b[39m):\n",
      "File \u001b[0;32m~/Desktop/PostDoc/Code/MachineLearning4PowerSystems/ENV/lib/python3.9/site-packages/pandas/io/json/_json.py:886\u001b[0m, in \u001b[0;36mParser.parse\u001b[0;34m(self)\u001b[0m\n\u001b[1;32m    884\u001b[0m \u001b[38;5;28;01mif\u001b[39;00m \u001b[38;5;28mself\u001b[39m\u001b[38;5;241m.\u001b[39mconvert_axes:\n\u001b[1;32m    885\u001b[0m     \u001b[38;5;28mself\u001b[39m\u001b[38;5;241m.\u001b[39m_convert_axes()\n\u001b[0;32m--> 886\u001b[0m \u001b[38;5;28;43mself\u001b[39;49m\u001b[38;5;241;43m.\u001b[39;49m\u001b[43m_try_convert_types\u001b[49m\u001b[43m(\u001b[49m\u001b[43m)\u001b[49m\n\u001b[1;32m    887\u001b[0m \u001b[38;5;28;01mreturn\u001b[39;00m \u001b[38;5;28mself\u001b[39m\u001b[38;5;241m.\u001b[39mobj\n",
      "File \u001b[0;32m~/Desktop/PostDoc/Code/MachineLearning4PowerSystems/ENV/lib/python3.9/site-packages/pandas/io/json/_json.py:1188\u001b[0m, in \u001b[0;36mFrameParser._try_convert_types\u001b[0;34m(self)\u001b[0m\n\u001b[1;32m   1185\u001b[0m \u001b[38;5;28;01mif\u001b[39;00m \u001b[38;5;28mself\u001b[39m\u001b[38;5;241m.\u001b[39mconvert_dates:\n\u001b[1;32m   1186\u001b[0m     \u001b[38;5;28mself\u001b[39m\u001b[38;5;241m.\u001b[39m_try_convert_dates()\n\u001b[0;32m-> 1188\u001b[0m \u001b[38;5;28;43mself\u001b[39;49m\u001b[38;5;241;43m.\u001b[39;49m\u001b[43m_process_converter\u001b[49m\u001b[43m(\u001b[49m\n\u001b[1;32m   1189\u001b[0m \u001b[43m    \u001b[49m\u001b[38;5;28;43;01mlambda\u001b[39;49;00m\u001b[43m \u001b[49m\u001b[43mcol\u001b[49m\u001b[43m,\u001b[49m\u001b[43m \u001b[49m\u001b[43mc\u001b[49m\u001b[43m:\u001b[49m\u001b[43m \u001b[49m\u001b[38;5;28;43mself\u001b[39;49m\u001b[38;5;241;43m.\u001b[39;49m\u001b[43m_try_convert_data\u001b[49m\u001b[43m(\u001b[49m\u001b[43mcol\u001b[49m\u001b[43m,\u001b[49m\u001b[43m \u001b[49m\u001b[43mc\u001b[49m\u001b[43m,\u001b[49m\u001b[43m \u001b[49m\u001b[43mconvert_dates\u001b[49m\u001b[38;5;241;43m=\u001b[39;49m\u001b[38;5;28;43;01mFalse\u001b[39;49;00m\u001b[43m)\u001b[49m\n\u001b[1;32m   1190\u001b[0m \u001b[43m\u001b[49m\u001b[43m)\u001b[49m\n",
      "File \u001b[0;32m~/Desktop/PostDoc/Code/MachineLearning4PowerSystems/ENV/lib/python3.9/site-packages/pandas/io/json/_json.py:1169\u001b[0m, in \u001b[0;36mFrameParser._process_converter\u001b[0;34m(self, f, filt)\u001b[0m\n\u001b[1;32m   1167\u001b[0m \u001b[38;5;28;01mfor\u001b[39;00m i, (col, c) \u001b[38;5;129;01min\u001b[39;00m \u001b[38;5;28menumerate\u001b[39m(obj\u001b[38;5;241m.\u001b[39mitems()):\n\u001b[1;32m   1168\u001b[0m     \u001b[38;5;28;01mif\u001b[39;00m filt(col, c):\n\u001b[0;32m-> 1169\u001b[0m         new_data, result \u001b[38;5;241m=\u001b[39m \u001b[43mf\u001b[49m\u001b[43m(\u001b[49m\u001b[43mcol\u001b[49m\u001b[43m,\u001b[49m\u001b[43m \u001b[49m\u001b[43mc\u001b[49m\u001b[43m)\u001b[49m\n\u001b[1;32m   1170\u001b[0m         \u001b[38;5;28;01mif\u001b[39;00m result:\n\u001b[1;32m   1171\u001b[0m             c \u001b[38;5;241m=\u001b[39m new_data\n",
      "File \u001b[0;32m~/Desktop/PostDoc/Code/MachineLearning4PowerSystems/ENV/lib/python3.9/site-packages/pandas/io/json/_json.py:1189\u001b[0m, in \u001b[0;36mFrameParser._try_convert_types.<locals>.<lambda>\u001b[0;34m(col, c)\u001b[0m\n\u001b[1;32m   1185\u001b[0m \u001b[38;5;28;01mif\u001b[39;00m \u001b[38;5;28mself\u001b[39m\u001b[38;5;241m.\u001b[39mconvert_dates:\n\u001b[1;32m   1186\u001b[0m     \u001b[38;5;28mself\u001b[39m\u001b[38;5;241m.\u001b[39m_try_convert_dates()\n\u001b[1;32m   1188\u001b[0m \u001b[38;5;28mself\u001b[39m\u001b[38;5;241m.\u001b[39m_process_converter(\n\u001b[0;32m-> 1189\u001b[0m     \u001b[38;5;28;01mlambda\u001b[39;00m col, c: \u001b[38;5;28;43mself\u001b[39;49m\u001b[38;5;241;43m.\u001b[39;49m\u001b[43m_try_convert_data\u001b[49m\u001b[43m(\u001b[49m\u001b[43mcol\u001b[49m\u001b[43m,\u001b[49m\u001b[43m \u001b[49m\u001b[43mc\u001b[49m\u001b[43m,\u001b[49m\u001b[43m \u001b[49m\u001b[43mconvert_dates\u001b[49m\u001b[38;5;241;43m=\u001b[39;49m\u001b[38;5;28;43;01mFalse\u001b[39;49;00m\u001b[43m)\u001b[49m\n\u001b[1;32m   1190\u001b[0m )\n",
      "File \u001b[0;32m~/Desktop/PostDoc/Code/MachineLearning4PowerSystems/ENV/lib/python3.9/site-packages/pandas/io/json/_json.py:941\u001b[0m, in \u001b[0;36mParser._try_convert_data\u001b[0;34m(self, name, data, use_dtypes, convert_dates)\u001b[0m\n\u001b[1;32m    939\u001b[0m \u001b[38;5;28;01mif\u001b[39;00m dtype \u001b[38;5;129;01mis\u001b[39;00m \u001b[38;5;129;01mnot\u001b[39;00m \u001b[38;5;28;01mNone\u001b[39;00m:\n\u001b[1;32m    940\u001b[0m     \u001b[38;5;28;01mtry\u001b[39;00m:\n\u001b[0;32m--> 941\u001b[0m         \u001b[38;5;28;01mreturn\u001b[39;00m \u001b[43mdata\u001b[49m\u001b[38;5;241;43m.\u001b[39;49m\u001b[43mastype\u001b[49m\u001b[43m(\u001b[49m\u001b[43mdtype\u001b[49m\u001b[43m)\u001b[49m, \u001b[38;5;28;01mTrue\u001b[39;00m\n\u001b[1;32m    942\u001b[0m     \u001b[38;5;28;01mexcept\u001b[39;00m (\u001b[38;5;167;01mTypeError\u001b[39;00m, \u001b[38;5;167;01mValueError\u001b[39;00m):\n\u001b[1;32m    943\u001b[0m         \u001b[38;5;28;01mreturn\u001b[39;00m data, \u001b[38;5;28;01mFalse\u001b[39;00m\n",
      "File \u001b[0;32m~/Desktop/PostDoc/Code/MachineLearning4PowerSystems/ENV/lib/python3.9/site-packages/pandas/core/generic.py:5912\u001b[0m, in \u001b[0;36mNDFrame.astype\u001b[0;34m(self, dtype, copy, errors)\u001b[0m\n\u001b[1;32m   5905\u001b[0m     results \u001b[38;5;241m=\u001b[39m [\n\u001b[1;32m   5906\u001b[0m         \u001b[38;5;28mself\u001b[39m\u001b[38;5;241m.\u001b[39miloc[:, i]\u001b[38;5;241m.\u001b[39mastype(dtype, copy\u001b[38;5;241m=\u001b[39mcopy)\n\u001b[1;32m   5907\u001b[0m         \u001b[38;5;28;01mfor\u001b[39;00m i \u001b[38;5;129;01min\u001b[39;00m \u001b[38;5;28mrange\u001b[39m(\u001b[38;5;28mlen\u001b[39m(\u001b[38;5;28mself\u001b[39m\u001b[38;5;241m.\u001b[39mcolumns))\n\u001b[1;32m   5908\u001b[0m     ]\n\u001b[1;32m   5910\u001b[0m \u001b[38;5;28;01melse\u001b[39;00m:\n\u001b[1;32m   5911\u001b[0m     \u001b[38;5;66;03m# else, only a single dtype is given\u001b[39;00m\n\u001b[0;32m-> 5912\u001b[0m     new_data \u001b[38;5;241m=\u001b[39m \u001b[38;5;28;43mself\u001b[39;49m\u001b[38;5;241;43m.\u001b[39;49m\u001b[43m_mgr\u001b[49m\u001b[38;5;241;43m.\u001b[39;49m\u001b[43mastype\u001b[49m\u001b[43m(\u001b[49m\u001b[43mdtype\u001b[49m\u001b[38;5;241;43m=\u001b[39;49m\u001b[43mdtype\u001b[49m\u001b[43m,\u001b[49m\u001b[43m \u001b[49m\u001b[43mcopy\u001b[49m\u001b[38;5;241;43m=\u001b[39;49m\u001b[43mcopy\u001b[49m\u001b[43m,\u001b[49m\u001b[43m \u001b[49m\u001b[43merrors\u001b[49m\u001b[38;5;241;43m=\u001b[39;49m\u001b[43merrors\u001b[49m\u001b[43m)\u001b[49m\n\u001b[1;32m   5913\u001b[0m     \u001b[38;5;28;01mreturn\u001b[39;00m \u001b[38;5;28mself\u001b[39m\u001b[38;5;241m.\u001b[39m_constructor(new_data)\u001b[38;5;241m.\u001b[39m__finalize__(\u001b[38;5;28mself\u001b[39m, method\u001b[38;5;241m=\u001b[39m\u001b[38;5;124m\"\u001b[39m\u001b[38;5;124mastype\u001b[39m\u001b[38;5;124m\"\u001b[39m)\n\u001b[1;32m   5915\u001b[0m \u001b[38;5;66;03m# GH 33113: handle empty frame or series\u001b[39;00m\n",
      "File \u001b[0;32m~/Desktop/PostDoc/Code/MachineLearning4PowerSystems/ENV/lib/python3.9/site-packages/pandas/core/internals/managers.py:419\u001b[0m, in \u001b[0;36mBaseBlockManager.astype\u001b[0;34m(self, dtype, copy, errors)\u001b[0m\n\u001b[1;32m    418\u001b[0m \u001b[38;5;28;01mdef\u001b[39;00m \u001b[38;5;21mastype\u001b[39m(\u001b[38;5;28mself\u001b[39m: T, dtype, copy: \u001b[38;5;28mbool\u001b[39m \u001b[38;5;241m=\u001b[39m \u001b[38;5;28;01mFalse\u001b[39;00m, errors: \u001b[38;5;28mstr\u001b[39m \u001b[38;5;241m=\u001b[39m \u001b[38;5;124m\"\u001b[39m\u001b[38;5;124mraise\u001b[39m\u001b[38;5;124m\"\u001b[39m) \u001b[38;5;241m-\u001b[39m\u001b[38;5;241m>\u001b[39m T:\n\u001b[0;32m--> 419\u001b[0m     \u001b[38;5;28;01mreturn\u001b[39;00m \u001b[38;5;28;43mself\u001b[39;49m\u001b[38;5;241;43m.\u001b[39;49m\u001b[43mapply\u001b[49m\u001b[43m(\u001b[49m\u001b[38;5;124;43m\"\u001b[39;49m\u001b[38;5;124;43mastype\u001b[39;49m\u001b[38;5;124;43m\"\u001b[39;49m\u001b[43m,\u001b[49m\u001b[43m \u001b[49m\u001b[43mdtype\u001b[49m\u001b[38;5;241;43m=\u001b[39;49m\u001b[43mdtype\u001b[49m\u001b[43m,\u001b[49m\u001b[43m \u001b[49m\u001b[43mcopy\u001b[49m\u001b[38;5;241;43m=\u001b[39;49m\u001b[43mcopy\u001b[49m\u001b[43m,\u001b[49m\u001b[43m \u001b[49m\u001b[43merrors\u001b[49m\u001b[38;5;241;43m=\u001b[39;49m\u001b[43merrors\u001b[49m\u001b[43m)\u001b[49m\n",
      "File \u001b[0;32m~/Desktop/PostDoc/Code/MachineLearning4PowerSystems/ENV/lib/python3.9/site-packages/pandas/core/internals/managers.py:304\u001b[0m, in \u001b[0;36mBaseBlockManager.apply\u001b[0;34m(self, f, align_keys, ignore_failures, **kwargs)\u001b[0m\n\u001b[1;32m    302\u001b[0m         applied \u001b[38;5;241m=\u001b[39m b\u001b[38;5;241m.\u001b[39mapply(f, \u001b[38;5;241m*\u001b[39m\u001b[38;5;241m*\u001b[39mkwargs)\n\u001b[1;32m    303\u001b[0m     \u001b[38;5;28;01melse\u001b[39;00m:\n\u001b[0;32m--> 304\u001b[0m         applied \u001b[38;5;241m=\u001b[39m \u001b[38;5;28;43mgetattr\u001b[39;49m\u001b[43m(\u001b[49m\u001b[43mb\u001b[49m\u001b[43m,\u001b[49m\u001b[43m \u001b[49m\u001b[43mf\u001b[49m\u001b[43m)\u001b[49m\u001b[43m(\u001b[49m\u001b[38;5;241;43m*\u001b[39;49m\u001b[38;5;241;43m*\u001b[39;49m\u001b[43mkwargs\u001b[49m\u001b[43m)\u001b[49m\n\u001b[1;32m    305\u001b[0m \u001b[38;5;28;01mexcept\u001b[39;00m (\u001b[38;5;167;01mTypeError\u001b[39;00m, \u001b[38;5;167;01mNotImplementedError\u001b[39;00m):\n\u001b[1;32m    306\u001b[0m     \u001b[38;5;28;01mif\u001b[39;00m \u001b[38;5;129;01mnot\u001b[39;00m ignore_failures:\n",
      "File \u001b[0;32m~/Desktop/PostDoc/Code/MachineLearning4PowerSystems/ENV/lib/python3.9/site-packages/pandas/core/internals/blocks.py:580\u001b[0m, in \u001b[0;36mBlock.astype\u001b[0;34m(self, dtype, copy, errors)\u001b[0m\n\u001b[1;32m    562\u001b[0m \u001b[38;5;124;03m\"\"\"\u001b[39;00m\n\u001b[1;32m    563\u001b[0m \u001b[38;5;124;03mCoerce to the new dtype.\u001b[39;00m\n\u001b[1;32m    564\u001b[0m \n\u001b[0;32m   (...)\u001b[0m\n\u001b[1;32m    576\u001b[0m \u001b[38;5;124;03mBlock\u001b[39;00m\n\u001b[1;32m    577\u001b[0m \u001b[38;5;124;03m\"\"\"\u001b[39;00m\n\u001b[1;32m    578\u001b[0m values \u001b[38;5;241m=\u001b[39m \u001b[38;5;28mself\u001b[39m\u001b[38;5;241m.\u001b[39mvalues\n\u001b[0;32m--> 580\u001b[0m new_values \u001b[38;5;241m=\u001b[39m \u001b[43mastype_array_safe\u001b[49m\u001b[43m(\u001b[49m\u001b[43mvalues\u001b[49m\u001b[43m,\u001b[49m\u001b[43m \u001b[49m\u001b[43mdtype\u001b[49m\u001b[43m,\u001b[49m\u001b[43m \u001b[49m\u001b[43mcopy\u001b[49m\u001b[38;5;241;43m=\u001b[39;49m\u001b[43mcopy\u001b[49m\u001b[43m,\u001b[49m\u001b[43m \u001b[49m\u001b[43merrors\u001b[49m\u001b[38;5;241;43m=\u001b[39;49m\u001b[43merrors\u001b[49m\u001b[43m)\u001b[49m\n\u001b[1;32m    582\u001b[0m new_values \u001b[38;5;241m=\u001b[39m maybe_coerce_values(new_values)\n\u001b[1;32m    583\u001b[0m newb \u001b[38;5;241m=\u001b[39m \u001b[38;5;28mself\u001b[39m\u001b[38;5;241m.\u001b[39mmake_block(new_values)\n",
      "File \u001b[0;32m~/Desktop/PostDoc/Code/MachineLearning4PowerSystems/ENV/lib/python3.9/site-packages/pandas/core/dtypes/cast.py:1292\u001b[0m, in \u001b[0;36mastype_array_safe\u001b[0;34m(values, dtype, copy, errors)\u001b[0m\n\u001b[1;32m   1289\u001b[0m     dtype \u001b[38;5;241m=\u001b[39m dtype\u001b[38;5;241m.\u001b[39mnumpy_dtype\n\u001b[1;32m   1291\u001b[0m \u001b[38;5;28;01mtry\u001b[39;00m:\n\u001b[0;32m-> 1292\u001b[0m     new_values \u001b[38;5;241m=\u001b[39m \u001b[43mastype_array\u001b[49m\u001b[43m(\u001b[49m\u001b[43mvalues\u001b[49m\u001b[43m,\u001b[49m\u001b[43m \u001b[49m\u001b[43mdtype\u001b[49m\u001b[43m,\u001b[49m\u001b[43m \u001b[49m\u001b[43mcopy\u001b[49m\u001b[38;5;241;43m=\u001b[39;49m\u001b[43mcopy\u001b[49m\u001b[43m)\u001b[49m\n\u001b[1;32m   1293\u001b[0m \u001b[38;5;28;01mexcept\u001b[39;00m (\u001b[38;5;167;01mValueError\u001b[39;00m, \u001b[38;5;167;01mTypeError\u001b[39;00m):\n\u001b[1;32m   1294\u001b[0m     \u001b[38;5;66;03m# e.g. astype_nansafe can fail on object-dtype of strings\u001b[39;00m\n\u001b[1;32m   1295\u001b[0m     \u001b[38;5;66;03m#  trying to convert to float\u001b[39;00m\n\u001b[1;32m   1296\u001b[0m     \u001b[38;5;28;01mif\u001b[39;00m errors \u001b[38;5;241m==\u001b[39m \u001b[38;5;124m\"\u001b[39m\u001b[38;5;124mignore\u001b[39m\u001b[38;5;124m\"\u001b[39m:\n",
      "File \u001b[0;32m~/Desktop/PostDoc/Code/MachineLearning4PowerSystems/ENV/lib/python3.9/site-packages/pandas/core/dtypes/cast.py:1224\u001b[0m, in \u001b[0;36mastype_array\u001b[0;34m(values, dtype, copy)\u001b[0m\n\u001b[1;32m   1221\u001b[0m     msg \u001b[38;5;241m=\u001b[39m \u001b[38;5;124mrf\u001b[39m\u001b[38;5;124m\"\u001b[39m\u001b[38;5;124mcannot astype a datetimelike from [\u001b[39m\u001b[38;5;132;01m{\u001b[39;00mvalues\u001b[38;5;241m.\u001b[39mdtype\u001b[38;5;132;01m}\u001b[39;00m\u001b[38;5;124m] to [\u001b[39m\u001b[38;5;132;01m{\u001b[39;00mdtype\u001b[38;5;132;01m}\u001b[39;00m\u001b[38;5;124m]\u001b[39m\u001b[38;5;124m\"\u001b[39m\n\u001b[1;32m   1222\u001b[0m     \u001b[38;5;28;01mraise\u001b[39;00m \u001b[38;5;167;01mTypeError\u001b[39;00m(msg)\n\u001b[0;32m-> 1224\u001b[0m \u001b[38;5;28;01mif\u001b[39;00m \u001b[43mis_datetime64tz_dtype\u001b[49m\u001b[43m(\u001b[49m\u001b[43mdtype\u001b[49m\u001b[43m)\u001b[49m \u001b[38;5;129;01mand\u001b[39;00m is_datetime64_dtype(values\u001b[38;5;241m.\u001b[39mdtype):\n\u001b[1;32m   1225\u001b[0m     \u001b[38;5;28;01mreturn\u001b[39;00m astype_dt64_to_dt64tz(values, dtype, copy, via_utc\u001b[38;5;241m=\u001b[39m\u001b[38;5;28;01mTrue\u001b[39;00m)\n\u001b[1;32m   1227\u001b[0m \u001b[38;5;28;01mif\u001b[39;00m is_dtype_equal(values\u001b[38;5;241m.\u001b[39mdtype, dtype):\n",
      "File \u001b[0;32m~/Desktop/PostDoc/Code/MachineLearning4PowerSystems/ENV/lib/python3.9/site-packages/pandas/core/dtypes/common.py:380\u001b[0m, in \u001b[0;36mis_datetime64tz_dtype\u001b[0;34m(arr_or_dtype)\u001b[0m\n\u001b[1;32m    348\u001b[0m \u001b[38;5;28;01mdef\u001b[39;00m \u001b[38;5;21mis_datetime64tz_dtype\u001b[39m(arr_or_dtype) \u001b[38;5;241m-\u001b[39m\u001b[38;5;241m>\u001b[39m \u001b[38;5;28mbool\u001b[39m:\n\u001b[1;32m    349\u001b[0m     \u001b[38;5;124;03m\"\"\"\u001b[39;00m\n\u001b[1;32m    350\u001b[0m \u001b[38;5;124;03m    Check whether an array-like or dtype is of a DatetimeTZDtype dtype.\u001b[39;00m\n\u001b[1;32m    351\u001b[0m \n\u001b[0;32m   (...)\u001b[0m\n\u001b[1;32m    378\u001b[0m \u001b[38;5;124;03m    True\u001b[39;00m\n\u001b[1;32m    379\u001b[0m \u001b[38;5;124;03m    \"\"\"\u001b[39;00m\n\u001b[0;32m--> 380\u001b[0m     \u001b[38;5;28;01mif\u001b[39;00m \u001b[38;5;28;43misinstance\u001b[39;49m\u001b[43m(\u001b[49m\u001b[43marr_or_dtype\u001b[49m\u001b[43m,\u001b[49m\u001b[43m \u001b[49m\u001b[43mExtensionDtype\u001b[49m\u001b[43m)\u001b[49m:\n\u001b[1;32m    381\u001b[0m         \u001b[38;5;66;03m# GH#33400 fastpath for dtype object\u001b[39;00m\n\u001b[1;32m    382\u001b[0m         \u001b[38;5;28;01mreturn\u001b[39;00m arr_or_dtype\u001b[38;5;241m.\u001b[39mkind \u001b[38;5;241m==\u001b[39m \u001b[38;5;124m\"\u001b[39m\u001b[38;5;124mM\u001b[39m\u001b[38;5;124m\"\u001b[39m\n\u001b[1;32m    384\u001b[0m     \u001b[38;5;28;01mif\u001b[39;00m arr_or_dtype \u001b[38;5;129;01mis\u001b[39;00m \u001b[38;5;28;01mNone\u001b[39;00m:\n",
      "\u001b[0;31mKeyboardInterrupt\u001b[0m: "
     ]
    }
   ],
   "source": [
    "import tqdm\n",
    "\n",
    "for a, x, nets in tqdm.tqdm(loader):\n",
    "    print('test')"
   ]
  },
  {
   "cell_type": "code",
   "execution_count": 18,
   "id": "829d555f",
   "metadata": {},
   "outputs": [],
   "source": [
    "net = pn.case14()"
   ]
  },
  {
   "cell_type": "code",
   "execution_count": 19,
   "id": "6e6b4b0c",
   "metadata": {},
   "outputs": [
    {
     "data": {
      "text/plain": [
       "This pandapower network includes the following parameter tables:\n",
       "   - bus (14 elements)\n",
       "   - load (11 elements)\n",
       "   - gen (4 elements)\n",
       "   - shunt (1 element)\n",
       "   - ext_grid (1 element)\n",
       "   - line (15 elements)\n",
       "   - trafo (5 elements)\n",
       "   - poly_cost (5 elements)\n",
       "   - bus_geodata (14 elements)"
      ]
     },
     "execution_count": 19,
     "metadata": {},
     "output_type": "execute_result"
    }
   ],
   "source": [
    "net"
   ]
  },
  {
   "cell_type": "code",
   "execution_count": 34,
   "id": "26c63192",
   "metadata": {},
   "outputs": [],
   "source": []
  },
  {
   "cell_type": "code",
   "execution_count": 25,
   "id": "0d26d224",
   "metadata": {},
   "outputs": [],
   "source": [
    "data = [['a', 'b'], ['c', 'd'], ['c', 'd']]"
   ]
  },
  {
   "cell_type": "code",
   "execution_count": 26,
   "id": "2c0e5cc0",
   "metadata": {},
   "outputs": [],
   "source": [
    "a, b = zip(*data)"
   ]
  },
  {
   "cell_type": "code",
   "execution_count": 32,
   "id": "e9fa071a",
   "metadata": {},
   "outputs": [],
   "source": [
    "data_ = zip(a,b)"
   ]
  },
  {
   "cell_type": "code",
   "execution_count": 33,
   "id": "24429f47",
   "metadata": {},
   "outputs": [
    {
     "data": {
      "text/plain": [
       "<zip at 0x12aabec00>"
      ]
     },
     "execution_count": 33,
     "metadata": {},
     "output_type": "execute_result"
    }
   ],
   "source": [
    "data_"
   ]
  },
  {
   "cell_type": "code",
   "execution_count": 46,
   "id": "f1481974",
   "metadata": {},
   "outputs": [],
   "source": [
    "backend_name = 'pandapower'\n",
    "backend = ml.backend.get_backend(backend_name)"
   ]
  },
  {
   "cell_type": "code",
   "execution_count": 48,
   "id": "25d7da31",
   "metadata": {},
   "outputs": [
    {
     "data": {
      "text/plain": [
       "[['../data/data_json/case14/train/sample_00000.json'],\n",
       " ['../data/data_json/case14/train/sample_00001.json'],\n",
       " ['../data/data_json/case14/train/sample_00002.json'],\n",
       " ['../data/data_json/case14/train/sample_00003.json'],\n",
       " ['../data/data_json/case14/train/sample_00004.json'],\n",
       " ['../data/data_json/case14/train/sample_00005.json'],\n",
       " ['../data/data_json/case14/train/sample_00006.json'],\n",
       " ['../data/data_json/case14/train/sample_00007.json'],\n",
       " ['../data/data_json/case14/train/sample_00008.json'],\n",
       " ['../data/data_json/case14/train/sample_00009.json'],\n",
       " ['../data/data_json/case14/train/sample_00010.json'],\n",
       " ['../data/data_json/case14/train/sample_00011.json'],\n",
       " ['../data/data_json/case14/train/sample_00012.json'],\n",
       " ['../data/data_json/case14/train/sample_00013.json'],\n",
       " ['../data/data_json/case14/train/sample_00014.json'],\n",
       " ['../data/data_json/case14/train/sample_00015.json'],\n",
       " ['../data/data_json/case14/train/sample_00016.json'],\n",
       " ['../data/data_json/case14/train/sample_00017.json'],\n",
       " ['../data/data_json/case14/train/sample_00018.json'],\n",
       " ['../data/data_json/case14/train/sample_00019.json'],\n",
       " ['../data/data_json/case14/train/sample_00020.json'],\n",
       " ['../data/data_json/case14/train/sample_00021.json'],\n",
       " ['../data/data_json/case14/train/sample_00022.json'],\n",
       " ['../data/data_json/case14/train/sample_00023.json'],\n",
       " ['../data/data_json/case14/train/sample_00024.json'],\n",
       " ['../data/data_json/case14/train/sample_00025.json'],\n",
       " ['../data/data_json/case14/train/sample_00026.json'],\n",
       " ['../data/data_json/case14/train/sample_00027.json'],\n",
       " ['../data/data_json/case14/train/sample_00028.json'],\n",
       " ['../data/data_json/case14/train/sample_00029.json'],\n",
       " ['../data/data_json/case14/train/sample_00030.json'],\n",
       " ['../data/data_json/case14/train/sample_00031.json'],\n",
       " ['../data/data_json/case14/train/sample_00032.json'],\n",
       " ['../data/data_json/case14/train/sample_00033.json'],\n",
       " ['../data/data_json/case14/train/sample_00034.json'],\n",
       " ['../data/data_json/case14/train/sample_00035.json'],\n",
       " ['../data/data_json/case14/train/sample_00036.json'],\n",
       " ['../data/data_json/case14/train/sample_00037.json'],\n",
       " ['../data/data_json/case14/train/sample_00038.json'],\n",
       " ['../data/data_json/case14/train/sample_00039.json'],\n",
       " ['../data/data_json/case14/train/sample_00040.json'],\n",
       " ['../data/data_json/case14/train/sample_00041.json'],\n",
       " ['../data/data_json/case14/train/sample_00042.json'],\n",
       " ['../data/data_json/case14/train/sample_00043.json'],\n",
       " ['../data/data_json/case14/train/sample_00044.json'],\n",
       " ['../data/data_json/case14/train/sample_00045.json'],\n",
       " ['../data/data_json/case14/train/sample_00046.json'],\n",
       " ['../data/data_json/case14/train/sample_00047.json'],\n",
       " ['../data/data_json/case14/train/sample_00048.json'],\n",
       " ['../data/data_json/case14/train/sample_00049.json'],\n",
       " ['../data/data_json/case14/train/sample_00050.json'],\n",
       " ['../data/data_json/case14/train/sample_00051.json'],\n",
       " ['../data/data_json/case14/train/sample_00052.json'],\n",
       " ['../data/data_json/case14/train/sample_00053.json'],\n",
       " ['../data/data_json/case14/train/sample_00054.json'],\n",
       " ['../data/data_json/case14/train/sample_00055.json'],\n",
       " ['../data/data_json/case14/train/sample_00056.json'],\n",
       " ['../data/data_json/case14/train/sample_00057.json'],\n",
       " ['../data/data_json/case14/train/sample_00058.json'],\n",
       " ['../data/data_json/case14/train/sample_00059.json'],\n",
       " ['../data/data_json/case14/train/sample_00060.json'],\n",
       " ['../data/data_json/case14/train/sample_00061.json'],\n",
       " ['../data/data_json/case14/train/sample_00062.json'],\n",
       " ['../data/data_json/case14/train/sample_00063.json'],\n",
       " ['../data/data_json/case14/train/sample_00064.json'],\n",
       " ['../data/data_json/case14/train/sample_00065.json'],\n",
       " ['../data/data_json/case14/train/sample_00066.json'],\n",
       " ['../data/data_json/case14/train/sample_00067.json'],\n",
       " ['../data/data_json/case14/train/sample_00068.json'],\n",
       " ['../data/data_json/case14/train/sample_00069.json'],\n",
       " ['../data/data_json/case14/train/sample_00070.json'],\n",
       " ['../data/data_json/case14/train/sample_00071.json'],\n",
       " ['../data/data_json/case14/train/sample_00072.json'],\n",
       " ['../data/data_json/case14/train/sample_00073.json'],\n",
       " ['../data/data_json/case14/train/sample_00074.json'],\n",
       " ['../data/data_json/case14/train/sample_00075.json'],\n",
       " ['../data/data_json/case14/train/sample_00076.json'],\n",
       " ['../data/data_json/case14/train/sample_00077.json'],\n",
       " ['../data/data_json/case14/train/sample_00078.json'],\n",
       " ['../data/data_json/case14/train/sample_00079.json'],\n",
       " ['../data/data_json/case14/train/sample_00080.json'],\n",
       " ['../data/data_json/case14/train/sample_00081.json'],\n",
       " ['../data/data_json/case14/train/sample_00082.json'],\n",
       " ['../data/data_json/case14/train/sample_00083.json'],\n",
       " ['../data/data_json/case14/train/sample_00084.json'],\n",
       " ['../data/data_json/case14/train/sample_00085.json'],\n",
       " ['../data/data_json/case14/train/sample_00086.json'],\n",
       " ['../data/data_json/case14/train/sample_00087.json'],\n",
       " ['../data/data_json/case14/train/sample_00088.json'],\n",
       " ['../data/data_json/case14/train/sample_00089.json'],\n",
       " ['../data/data_json/case14/train/sample_00090.json'],\n",
       " ['../data/data_json/case14/train/sample_00091.json'],\n",
       " ['../data/data_json/case14/train/sample_00092.json'],\n",
       " ['../data/data_json/case14/train/sample_00093.json'],\n",
       " ['../data/data_json/case14/train/sample_00094.json'],\n",
       " ['../data/data_json/case14/train/sample_00095.json'],\n",
       " ['../data/data_json/case14/train/sample_00096.json'],\n",
       " ['../data/data_json/case14/train/sample_00097.json'],\n",
       " ['../data/data_json/case14/train/sample_00098.json'],\n",
       " ['../data/data_json/case14/train/sample_00099.json'],\n",
       " ['../data/data_json/case14/train/sample_00100.json'],\n",
       " ['../data/data_json/case14/train/sample_00101.json'],\n",
       " ['../data/data_json/case14/train/sample_00102.json'],\n",
       " ['../data/data_json/case14/train/sample_00103.json'],\n",
       " ['../data/data_json/case14/train/sample_00104.json'],\n",
       " ['../data/data_json/case14/train/sample_00105.json'],\n",
       " ['../data/data_json/case14/train/sample_00106.json'],\n",
       " ['../data/data_json/case14/train/sample_00107.json'],\n",
       " ['../data/data_json/case14/train/sample_00108.json'],\n",
       " ['../data/data_json/case14/train/sample_00109.json'],\n",
       " ['../data/data_json/case14/train/sample_00110.json'],\n",
       " ['../data/data_json/case14/train/sample_00111.json'],\n",
       " ['../data/data_json/case14/train/sample_00112.json'],\n",
       " ['../data/data_json/case14/train/sample_00113.json'],\n",
       " ['../data/data_json/case14/train/sample_00114.json'],\n",
       " ['../data/data_json/case14/train/sample_00115.json'],\n",
       " ['../data/data_json/case14/train/sample_00116.json'],\n",
       " ['../data/data_json/case14/train/sample_00117.json'],\n",
       " ['../data/data_json/case14/train/sample_00118.json'],\n",
       " ['../data/data_json/case14/train/sample_00119.json'],\n",
       " ['../data/data_json/case14/train/sample_00120.json'],\n",
       " ['../data/data_json/case14/train/sample_00121.json'],\n",
       " ['../data/data_json/case14/train/sample_00122.json'],\n",
       " ['../data/data_json/case14/train/sample_00123.json'],\n",
       " ['../data/data_json/case14/train/sample_00124.json'],\n",
       " ['../data/data_json/case14/train/sample_00125.json'],\n",
       " ['../data/data_json/case14/train/sample_00126.json'],\n",
       " ['../data/data_json/case14/train/sample_00127.json'],\n",
       " ['../data/data_json/case14/train/sample_00128.json'],\n",
       " ['../data/data_json/case14/train/sample_00129.json'],\n",
       " ['../data/data_json/case14/train/sample_00130.json'],\n",
       " ['../data/data_json/case14/train/sample_00131.json'],\n",
       " ['../data/data_json/case14/train/sample_00132.json'],\n",
       " ['../data/data_json/case14/train/sample_00133.json'],\n",
       " ['../data/data_json/case14/train/sample_00134.json'],\n",
       " ['../data/data_json/case14/train/sample_00135.json'],\n",
       " ['../data/data_json/case14/train/sample_00136.json'],\n",
       " ['../data/data_json/case14/train/sample_00137.json'],\n",
       " ['../data/data_json/case14/train/sample_00138.json'],\n",
       " ['../data/data_json/case14/train/sample_00139.json'],\n",
       " ['../data/data_json/case14/train/sample_00140.json'],\n",
       " ['../data/data_json/case14/train/sample_00141.json'],\n",
       " ['../data/data_json/case14/train/sample_00142.json'],\n",
       " ['../data/data_json/case14/train/sample_00143.json'],\n",
       " ['../data/data_json/case14/train/sample_00144.json'],\n",
       " ['../data/data_json/case14/train/sample_00145.json'],\n",
       " ['../data/data_json/case14/train/sample_00146.json'],\n",
       " ['../data/data_json/case14/train/sample_00147.json'],\n",
       " ['../data/data_json/case14/train/sample_00148.json'],\n",
       " ['../data/data_json/case14/train/sample_00149.json'],\n",
       " ['../data/data_json/case14/train/sample_00150.json'],\n",
       " ['../data/data_json/case14/train/sample_00151.json'],\n",
       " ['../data/data_json/case14/train/sample_00152.json'],\n",
       " ['../data/data_json/case14/train/sample_00153.json'],\n",
       " ['../data/data_json/case14/train/sample_00154.json'],\n",
       " ['../data/data_json/case14/train/sample_00155.json'],\n",
       " ['../data/data_json/case14/train/sample_00156.json'],\n",
       " ['../data/data_json/case14/train/sample_00157.json'],\n",
       " ['../data/data_json/case14/train/sample_00158.json'],\n",
       " ['../data/data_json/case14/train/sample_00159.json'],\n",
       " ['../data/data_json/case14/train/sample_00160.json'],\n",
       " ['../data/data_json/case14/train/sample_00161.json'],\n",
       " ['../data/data_json/case14/train/sample_00162.json'],\n",
       " ['../data/data_json/case14/train/sample_00163.json'],\n",
       " ['../data/data_json/case14/train/sample_00164.json'],\n",
       " ['../data/data_json/case14/train/sample_00165.json'],\n",
       " ['../data/data_json/case14/train/sample_00166.json'],\n",
       " ['../data/data_json/case14/train/sample_00167.json'],\n",
       " ['../data/data_json/case14/train/sample_00168.json'],\n",
       " ['../data/data_json/case14/train/sample_00169.json'],\n",
       " ['../data/data_json/case14/train/sample_00170.json'],\n",
       " ['../data/data_json/case14/train/sample_00171.json'],\n",
       " ['../data/data_json/case14/train/sample_00172.json'],\n",
       " ['../data/data_json/case14/train/sample_00173.json'],\n",
       " ['../data/data_json/case14/train/sample_00174.json'],\n",
       " ['../data/data_json/case14/train/sample_00175.json'],\n",
       " ['../data/data_json/case14/train/sample_00176.json'],\n",
       " ['../data/data_json/case14/train/sample_00177.json'],\n",
       " ['../data/data_json/case14/train/sample_00178.json'],\n",
       " ['../data/data_json/case14/train/sample_00179.json'],\n",
       " ['../data/data_json/case14/train/sample_00180.json'],\n",
       " ['../data/data_json/case14/train/sample_00181.json'],\n",
       " ['../data/data_json/case14/train/sample_00182.json'],\n",
       " ['../data/data_json/case14/train/sample_00183.json'],\n",
       " ['../data/data_json/case14/train/sample_00184.json'],\n",
       " ['../data/data_json/case14/train/sample_00185.json'],\n",
       " ['../data/data_json/case14/train/sample_00186.json'],\n",
       " ['../data/data_json/case14/train/sample_00187.json'],\n",
       " ['../data/data_json/case14/train/sample_00188.json'],\n",
       " ['../data/data_json/case14/train/sample_00189.json'],\n",
       " ['../data/data_json/case14/train/sample_00190.json'],\n",
       " ['../data/data_json/case14/train/sample_00191.json'],\n",
       " ['../data/data_json/case14/train/sample_00192.json'],\n",
       " ['../data/data_json/case14/train/sample_00193.json'],\n",
       " ['../data/data_json/case14/train/sample_00194.json'],\n",
       " ['../data/data_json/case14/train/sample_00195.json'],\n",
       " ['../data/data_json/case14/train/sample_00196.json'],\n",
       " ['../data/data_json/case14/train/sample_00197.json'],\n",
       " ['../data/data_json/case14/train/sample_00198.json'],\n",
       " ['../data/data_json/case14/train/sample_00199.json'],\n",
       " ['../data/data_json/case14/train/sample_00200.json'],\n",
       " ['../data/data_json/case14/train/sample_00201.json'],\n",
       " ['../data/data_json/case14/train/sample_00202.json'],\n",
       " ['../data/data_json/case14/train/sample_00203.json'],\n",
       " ['../data/data_json/case14/train/sample_00204.json'],\n",
       " ['../data/data_json/case14/train/sample_00205.json'],\n",
       " ['../data/data_json/case14/train/sample_00206.json'],\n",
       " ['../data/data_json/case14/train/sample_00207.json'],\n",
       " ['../data/data_json/case14/train/sample_00208.json'],\n",
       " ['../data/data_json/case14/train/sample_00209.json'],\n",
       " ['../data/data_json/case14/train/sample_00210.json'],\n",
       " ['../data/data_json/case14/train/sample_00211.json'],\n",
       " ['../data/data_json/case14/train/sample_00212.json'],\n",
       " ['../data/data_json/case14/train/sample_00213.json'],\n",
       " ['../data/data_json/case14/train/sample_00214.json'],\n",
       " ['../data/data_json/case14/train/sample_00215.json'],\n",
       " ['../data/data_json/case14/train/sample_00216.json'],\n",
       " ['../data/data_json/case14/train/sample_00217.json'],\n",
       " ['../data/data_json/case14/train/sample_00218.json'],\n",
       " ['../data/data_json/case14/train/sample_00219.json'],\n",
       " ['../data/data_json/case14/train/sample_00220.json'],\n",
       " ['../data/data_json/case14/train/sample_00221.json'],\n",
       " ['../data/data_json/case14/train/sample_00222.json'],\n",
       " ['../data/data_json/case14/train/sample_00223.json'],\n",
       " ['../data/data_json/case14/train/sample_00224.json'],\n",
       " ['../data/data_json/case14/train/sample_00225.json'],\n",
       " ['../data/data_json/case14/train/sample_00226.json'],\n",
       " ['../data/data_json/case14/train/sample_00227.json'],\n",
       " ['../data/data_json/case14/train/sample_00228.json'],\n",
       " ['../data/data_json/case14/train/sample_00229.json'],\n",
       " ['../data/data_json/case14/train/sample_00230.json'],\n",
       " ['../data/data_json/case14/train/sample_00231.json'],\n",
       " ['../data/data_json/case14/train/sample_00232.json'],\n",
       " ['../data/data_json/case14/train/sample_00233.json'],\n",
       " ['../data/data_json/case14/train/sample_00234.json'],\n",
       " ['../data/data_json/case14/train/sample_00235.json'],\n",
       " ['../data/data_json/case14/train/sample_00236.json'],\n",
       " ['../data/data_json/case14/train/sample_00237.json'],\n",
       " ['../data/data_json/case14/train/sample_00238.json'],\n",
       " ['../data/data_json/case14/train/sample_00239.json'],\n",
       " ['../data/data_json/case14/train/sample_00240.json'],\n",
       " ['../data/data_json/case14/train/sample_00241.json'],\n",
       " ['../data/data_json/case14/train/sample_00242.json'],\n",
       " ['../data/data_json/case14/train/sample_00243.json'],\n",
       " ['../data/data_json/case14/train/sample_00244.json'],\n",
       " ['../data/data_json/case14/train/sample_00245.json'],\n",
       " ['../data/data_json/case14/train/sample_00246.json'],\n",
       " ['../data/data_json/case14/train/sample_00247.json'],\n",
       " ['../data/data_json/case14/train/sample_00248.json'],\n",
       " ['../data/data_json/case14/train/sample_00249.json'],\n",
       " ['../data/data_json/case14/train/sample_00250.json'],\n",
       " ['../data/data_json/case14/train/sample_00251.json'],\n",
       " ['../data/data_json/case14/train/sample_00252.json'],\n",
       " ['../data/data_json/case14/train/sample_00253.json'],\n",
       " ['../data/data_json/case14/train/sample_00254.json'],\n",
       " ['../data/data_json/case14/train/sample_00255.json'],\n",
       " ['../data/data_json/case14/train/sample_00256.json'],\n",
       " ['../data/data_json/case14/train/sample_00257.json'],\n",
       " ['../data/data_json/case14/train/sample_00258.json'],\n",
       " ['../data/data_json/case14/train/sample_00259.json'],\n",
       " ['../data/data_json/case14/train/sample_00260.json'],\n",
       " ['../data/data_json/case14/train/sample_00261.json'],\n",
       " ['../data/data_json/case14/train/sample_00262.json'],\n",
       " ['../data/data_json/case14/train/sample_00263.json'],\n",
       " ['../data/data_json/case14/train/sample_00264.json'],\n",
       " ['../data/data_json/case14/train/sample_00265.json'],\n",
       " ['../data/data_json/case14/train/sample_00266.json'],\n",
       " ['../data/data_json/case14/train/sample_00267.json'],\n",
       " ['../data/data_json/case14/train/sample_00268.json'],\n",
       " ['../data/data_json/case14/train/sample_00269.json'],\n",
       " ['../data/data_json/case14/train/sample_00270.json'],\n",
       " ['../data/data_json/case14/train/sample_00271.json'],\n",
       " ['../data/data_json/case14/train/sample_00272.json'],\n",
       " ['../data/data_json/case14/train/sample_00273.json'],\n",
       " ['../data/data_json/case14/train/sample_00274.json'],\n",
       " ['../data/data_json/case14/train/sample_00275.json'],\n",
       " ['../data/data_json/case14/train/sample_00276.json'],\n",
       " ['../data/data_json/case14/train/sample_00277.json'],\n",
       " ['../data/data_json/case14/train/sample_00278.json'],\n",
       " ['../data/data_json/case14/train/sample_00279.json'],\n",
       " ['../data/data_json/case14/train/sample_00280.json'],\n",
       " ['../data/data_json/case14/train/sample_00281.json'],\n",
       " ['../data/data_json/case14/train/sample_00282.json'],\n",
       " ['../data/data_json/case14/train/sample_00283.json'],\n",
       " ['../data/data_json/case14/train/sample_00284.json'],\n",
       " ['../data/data_json/case14/train/sample_00285.json'],\n",
       " ['../data/data_json/case14/train/sample_00286.json'],\n",
       " ['../data/data_json/case14/train/sample_00287.json'],\n",
       " ['../data/data_json/case14/train/sample_00288.json'],\n",
       " ['../data/data_json/case14/train/sample_00289.json'],\n",
       " ['../data/data_json/case14/train/sample_00290.json'],\n",
       " ['../data/data_json/case14/train/sample_00291.json'],\n",
       " ['../data/data_json/case14/train/sample_00292.json'],\n",
       " ['../data/data_json/case14/train/sample_00293.json'],\n",
       " ['../data/data_json/case14/train/sample_00294.json'],\n",
       " ['../data/data_json/case14/train/sample_00295.json'],\n",
       " ['../data/data_json/case14/train/sample_00296.json'],\n",
       " ['../data/data_json/case14/train/sample_00297.json'],\n",
       " ['../data/data_json/case14/train/sample_00298.json'],\n",
       " ['../data/data_json/case14/train/sample_00299.json'],\n",
       " ['../data/data_json/case14/train/sample_00300.json'],\n",
       " ['../data/data_json/case14/train/sample_00301.json'],\n",
       " ['../data/data_json/case14/train/sample_00302.json'],\n",
       " ['../data/data_json/case14/train/sample_00303.json'],\n",
       " ['../data/data_json/case14/train/sample_00304.json'],\n",
       " ['../data/data_json/case14/train/sample_00305.json'],\n",
       " ['../data/data_json/case14/train/sample_00306.json'],\n",
       " ['../data/data_json/case14/train/sample_00307.json'],\n",
       " ['../data/data_json/case14/train/sample_00308.json'],\n",
       " ['../data/data_json/case14/train/sample_00309.json'],\n",
       " ['../data/data_json/case14/train/sample_00310.json'],\n",
       " ['../data/data_json/case14/train/sample_00311.json'],\n",
       " ['../data/data_json/case14/train/sample_00312.json'],\n",
       " ['../data/data_json/case14/train/sample_00313.json'],\n",
       " ['../data/data_json/case14/train/sample_00314.json'],\n",
       " ['../data/data_json/case14/train/sample_00315.json'],\n",
       " ['../data/data_json/case14/train/sample_00316.json'],\n",
       " ['../data/data_json/case14/train/sample_00317.json'],\n",
       " ['../data/data_json/case14/train/sample_00318.json'],\n",
       " ['../data/data_json/case14/train/sample_00319.json'],\n",
       " ['../data/data_json/case14/train/sample_00320.json'],\n",
       " ['../data/data_json/case14/train/sample_00321.json'],\n",
       " ['../data/data_json/case14/train/sample_00322.json'],\n",
       " ['../data/data_json/case14/train/sample_00323.json'],\n",
       " ['../data/data_json/case14/train/sample_00324.json'],\n",
       " ['../data/data_json/case14/train/sample_00325.json'],\n",
       " ['../data/data_json/case14/train/sample_00326.json'],\n",
       " ['../data/data_json/case14/train/sample_00327.json'],\n",
       " ['../data/data_json/case14/train/sample_00328.json'],\n",
       " ['../data/data_json/case14/train/sample_00329.json'],\n",
       " ['../data/data_json/case14/train/sample_00330.json'],\n",
       " ['../data/data_json/case14/train/sample_00331.json'],\n",
       " ['../data/data_json/case14/train/sample_00332.json'],\n",
       " ['../data/data_json/case14/train/sample_00333.json'],\n",
       " ['../data/data_json/case14/train/sample_00334.json'],\n",
       " ['../data/data_json/case14/train/sample_00335.json'],\n",
       " ['../data/data_json/case14/train/sample_00336.json'],\n",
       " ['../data/data_json/case14/train/sample_00337.json'],\n",
       " ['../data/data_json/case14/train/sample_00338.json'],\n",
       " ['../data/data_json/case14/train/sample_00339.json'],\n",
       " ['../data/data_json/case14/train/sample_00340.json'],\n",
       " ['../data/data_json/case14/train/sample_00341.json'],\n",
       " ['../data/data_json/case14/train/sample_00342.json'],\n",
       " ['../data/data_json/case14/train/sample_00343.json'],\n",
       " ['../data/data_json/case14/train/sample_00344.json'],\n",
       " ['../data/data_json/case14/train/sample_00345.json'],\n",
       " ['../data/data_json/case14/train/sample_00346.json'],\n",
       " ['../data/data_json/case14/train/sample_00347.json'],\n",
       " ['../data/data_json/case14/train/sample_00348.json'],\n",
       " ['../data/data_json/case14/train/sample_00349.json'],\n",
       " ['../data/data_json/case14/train/sample_00350.json'],\n",
       " ['../data/data_json/case14/train/sample_00351.json'],\n",
       " ['../data/data_json/case14/train/sample_00352.json'],\n",
       " ['../data/data_json/case14/train/sample_00353.json'],\n",
       " ['../data/data_json/case14/train/sample_00354.json'],\n",
       " ['../data/data_json/case14/train/sample_00355.json'],\n",
       " ['../data/data_json/case14/train/sample_00356.json'],\n",
       " ['../data/data_json/case14/train/sample_00357.json'],\n",
       " ['../data/data_json/case14/train/sample_00358.json'],\n",
       " ['../data/data_json/case14/train/sample_00359.json'],\n",
       " ['../data/data_json/case14/train/sample_00360.json'],\n",
       " ['../data/data_json/case14/train/sample_00361.json'],\n",
       " ['../data/data_json/case14/train/sample_00362.json'],\n",
       " ['../data/data_json/case14/train/sample_00363.json'],\n",
       " ['../data/data_json/case14/train/sample_00364.json'],\n",
       " ['../data/data_json/case14/train/sample_00365.json'],\n",
       " ['../data/data_json/case14/train/sample_00366.json'],\n",
       " ['../data/data_json/case14/train/sample_00367.json'],\n",
       " ['../data/data_json/case14/train/sample_00368.json'],\n",
       " ['../data/data_json/case14/train/sample_00369.json'],\n",
       " ['../data/data_json/case14/train/sample_00370.json'],\n",
       " ['../data/data_json/case14/train/sample_00371.json'],\n",
       " ['../data/data_json/case14/train/sample_00372.json'],\n",
       " ['../data/data_json/case14/train/sample_00373.json'],\n",
       " ['../data/data_json/case14/train/sample_00374.json'],\n",
       " ['../data/data_json/case14/train/sample_00375.json'],\n",
       " ['../data/data_json/case14/train/sample_00376.json'],\n",
       " ['../data/data_json/case14/train/sample_00377.json'],\n",
       " ['../data/data_json/case14/train/sample_00378.json'],\n",
       " ['../data/data_json/case14/train/sample_00379.json'],\n",
       " ['../data/data_json/case14/train/sample_00380.json'],\n",
       " ['../data/data_json/case14/train/sample_00381.json'],\n",
       " ['../data/data_json/case14/train/sample_00382.json'],\n",
       " ['../data/data_json/case14/train/sample_00383.json'],\n",
       " ['../data/data_json/case14/train/sample_00384.json'],\n",
       " ['../data/data_json/case14/train/sample_00385.json'],\n",
       " ['../data/data_json/case14/train/sample_00386.json'],\n",
       " ['../data/data_json/case14/train/sample_00387.json'],\n",
       " ['../data/data_json/case14/train/sample_00388.json'],\n",
       " ['../data/data_json/case14/train/sample_00389.json'],\n",
       " ['../data/data_json/case14/train/sample_00390.json'],\n",
       " ['../data/data_json/case14/train/sample_00391.json'],\n",
       " ['../data/data_json/case14/train/sample_00392.json'],\n",
       " ['../data/data_json/case14/train/sample_00393.json'],\n",
       " ['../data/data_json/case14/train/sample_00394.json'],\n",
       " ['../data/data_json/case14/train/sample_00395.json'],\n",
       " ['../data/data_json/case14/train/sample_00396.json'],\n",
       " ['../data/data_json/case14/train/sample_00397.json'],\n",
       " ['../data/data_json/case14/train/sample_00398.json'],\n",
       " ['../data/data_json/case14/train/sample_00399.json'],\n",
       " ['../data/data_json/case14/train/sample_00400.json'],\n",
       " ['../data/data_json/case14/train/sample_00401.json'],\n",
       " ['../data/data_json/case14/train/sample_00402.json'],\n",
       " ['../data/data_json/case14/train/sample_00403.json'],\n",
       " ['../data/data_json/case14/train/sample_00404.json'],\n",
       " ['../data/data_json/case14/train/sample_00405.json'],\n",
       " ['../data/data_json/case14/train/sample_00406.json'],\n",
       " ['../data/data_json/case14/train/sample_00407.json'],\n",
       " ['../data/data_json/case14/train/sample_00408.json'],\n",
       " ['../data/data_json/case14/train/sample_00409.json'],\n",
       " ['../data/data_json/case14/train/sample_00410.json'],\n",
       " ['../data/data_json/case14/train/sample_00411.json'],\n",
       " ['../data/data_json/case14/train/sample_00412.json'],\n",
       " ['../data/data_json/case14/train/sample_00413.json'],\n",
       " ['../data/data_json/case14/train/sample_00414.json'],\n",
       " ['../data/data_json/case14/train/sample_00415.json'],\n",
       " ['../data/data_json/case14/train/sample_00416.json'],\n",
       " ['../data/data_json/case14/train/sample_00417.json'],\n",
       " ['../data/data_json/case14/train/sample_00418.json'],\n",
       " ['../data/data_json/case14/train/sample_00419.json'],\n",
       " ['../data/data_json/case14/train/sample_00420.json'],\n",
       " ['../data/data_json/case14/train/sample_00421.json'],\n",
       " ['../data/data_json/case14/train/sample_00422.json'],\n",
       " ['../data/data_json/case14/train/sample_00423.json'],\n",
       " ['../data/data_json/case14/train/sample_00424.json'],\n",
       " ['../data/data_json/case14/train/sample_00425.json'],\n",
       " ['../data/data_json/case14/train/sample_00426.json'],\n",
       " ['../data/data_json/case14/train/sample_00427.json'],\n",
       " ['../data/data_json/case14/train/sample_00428.json'],\n",
       " ['../data/data_json/case14/train/sample_00429.json'],\n",
       " ['../data/data_json/case14/train/sample_00430.json'],\n",
       " ['../data/data_json/case14/train/sample_00431.json'],\n",
       " ['../data/data_json/case14/train/sample_00432.json'],\n",
       " ['../data/data_json/case14/train/sample_00433.json'],\n",
       " ['../data/data_json/case14/train/sample_00434.json'],\n",
       " ['../data/data_json/case14/train/sample_00435.json'],\n",
       " ['../data/data_json/case14/train/sample_00436.json'],\n",
       " ['../data/data_json/case14/train/sample_00437.json'],\n",
       " ['../data/data_json/case14/train/sample_00438.json'],\n",
       " ['../data/data_json/case14/train/sample_00439.json'],\n",
       " ['../data/data_json/case14/train/sample_00440.json'],\n",
       " ['../data/data_json/case14/train/sample_00441.json'],\n",
       " ['../data/data_json/case14/train/sample_00442.json'],\n",
       " ['../data/data_json/case14/train/sample_00443.json'],\n",
       " ['../data/data_json/case14/train/sample_00444.json'],\n",
       " ['../data/data_json/case14/train/sample_00445.json'],\n",
       " ['../data/data_json/case14/train/sample_00446.json'],\n",
       " ['../data/data_json/case14/train/sample_00447.json'],\n",
       " ['../data/data_json/case14/train/sample_00448.json'],\n",
       " ['../data/data_json/case14/train/sample_00449.json'],\n",
       " ['../data/data_json/case14/train/sample_00450.json'],\n",
       " ['../data/data_json/case14/train/sample_00451.json'],\n",
       " ['../data/data_json/case14/train/sample_00452.json'],\n",
       " ['../data/data_json/case14/train/sample_00453.json'],\n",
       " ['../data/data_json/case14/train/sample_00454.json'],\n",
       " ['../data/data_json/case14/train/sample_00455.json'],\n",
       " ['../data/data_json/case14/train/sample_00456.json'],\n",
       " ['../data/data_json/case14/train/sample_00457.json'],\n",
       " ['../data/data_json/case14/train/sample_00458.json'],\n",
       " ['../data/data_json/case14/train/sample_00459.json'],\n",
       " ['../data/data_json/case14/train/sample_00460.json'],\n",
       " ['../data/data_json/case14/train/sample_00461.json'],\n",
       " ['../data/data_json/case14/train/sample_00462.json'],\n",
       " ['../data/data_json/case14/train/sample_00463.json'],\n",
       " ['../data/data_json/case14/train/sample_00464.json'],\n",
       " ['../data/data_json/case14/train/sample_00465.json'],\n",
       " ['../data/data_json/case14/train/sample_00466.json'],\n",
       " ['../data/data_json/case14/train/sample_00467.json'],\n",
       " ['../data/data_json/case14/train/sample_00468.json'],\n",
       " ['../data/data_json/case14/train/sample_00469.json'],\n",
       " ['../data/data_json/case14/train/sample_00470.json'],\n",
       " ['../data/data_json/case14/train/sample_00471.json'],\n",
       " ['../data/data_json/case14/train/sample_00472.json'],\n",
       " ['../data/data_json/case14/train/sample_00473.json'],\n",
       " ['../data/data_json/case14/train/sample_00474.json'],\n",
       " ['../data/data_json/case14/train/sample_00475.json'],\n",
       " ['../data/data_json/case14/train/sample_00476.json'],\n",
       " ['../data/data_json/case14/train/sample_00477.json'],\n",
       " ['../data/data_json/case14/train/sample_00478.json'],\n",
       " ['../data/data_json/case14/train/sample_00479.json'],\n",
       " ['../data/data_json/case14/train/sample_00480.json'],\n",
       " ['../data/data_json/case14/train/sample_00481.json'],\n",
       " ['../data/data_json/case14/train/sample_00482.json'],\n",
       " ['../data/data_json/case14/train/sample_00483.json'],\n",
       " ['../data/data_json/case14/train/sample_00484.json'],\n",
       " ['../data/data_json/case14/train/sample_00485.json'],\n",
       " ['../data/data_json/case14/train/sample_00486.json'],\n",
       " ['../data/data_json/case14/train/sample_00487.json'],\n",
       " ['../data/data_json/case14/train/sample_00488.json'],\n",
       " ['../data/data_json/case14/train/sample_00489.json'],\n",
       " ['../data/data_json/case14/train/sample_00490.json'],\n",
       " ['../data/data_json/case14/train/sample_00491.json'],\n",
       " ['../data/data_json/case14/train/sample_00492.json'],\n",
       " ['../data/data_json/case14/train/sample_00493.json'],\n",
       " ['../data/data_json/case14/train/sample_00494.json'],\n",
       " ['../data/data_json/case14/train/sample_00495.json'],\n",
       " ['../data/data_json/case14/train/sample_00496.json'],\n",
       " ['../data/data_json/case14/train/sample_00497.json'],\n",
       " ['../data/data_json/case14/train/sample_00498.json'],\n",
       " ['../data/data_json/case14/train/sample_00499.json'],\n",
       " ['../data/data_json/case14/train/sample_00500.json'],\n",
       " ['../data/data_json/case14/train/sample_00501.json'],\n",
       " ['../data/data_json/case14/train/sample_00502.json'],\n",
       " ['../data/data_json/case14/train/sample_00503.json'],\n",
       " ['../data/data_json/case14/train/sample_00504.json'],\n",
       " ['../data/data_json/case14/train/sample_00505.json'],\n",
       " ['../data/data_json/case14/train/sample_00506.json'],\n",
       " ['../data/data_json/case14/train/sample_00507.json'],\n",
       " ['../data/data_json/case14/train/sample_00508.json'],\n",
       " ['../data/data_json/case14/train/sample_00509.json'],\n",
       " ['../data/data_json/case14/train/sample_00510.json'],\n",
       " ['../data/data_json/case14/train/sample_00511.json'],\n",
       " ['../data/data_json/case14/train/sample_00512.json'],\n",
       " ['../data/data_json/case14/train/sample_00513.json'],\n",
       " ['../data/data_json/case14/train/sample_00514.json'],\n",
       " ['../data/data_json/case14/train/sample_00515.json'],\n",
       " ['../data/data_json/case14/train/sample_00516.json'],\n",
       " ['../data/data_json/case14/train/sample_00517.json'],\n",
       " ['../data/data_json/case14/train/sample_00518.json'],\n",
       " ['../data/data_json/case14/train/sample_00519.json'],\n",
       " ['../data/data_json/case14/train/sample_00520.json'],\n",
       " ['../data/data_json/case14/train/sample_00521.json'],\n",
       " ['../data/data_json/case14/train/sample_00522.json'],\n",
       " ['../data/data_json/case14/train/sample_00523.json'],\n",
       " ['../data/data_json/case14/train/sample_00524.json'],\n",
       " ['../data/data_json/case14/train/sample_00525.json'],\n",
       " ['../data/data_json/case14/train/sample_00526.json'],\n",
       " ['../data/data_json/case14/train/sample_00527.json'],\n",
       " ['../data/data_json/case14/train/sample_00528.json'],\n",
       " ['../data/data_json/case14/train/sample_00529.json'],\n",
       " ['../data/data_json/case14/train/sample_00530.json'],\n",
       " ['../data/data_json/case14/train/sample_00531.json'],\n",
       " ['../data/data_json/case14/train/sample_00532.json'],\n",
       " ['../data/data_json/case14/train/sample_00533.json'],\n",
       " ['../data/data_json/case14/train/sample_00534.json'],\n",
       " ['../data/data_json/case14/train/sample_00535.json'],\n",
       " ['../data/data_json/case14/train/sample_00536.json'],\n",
       " ['../data/data_json/case14/train/sample_00537.json'],\n",
       " ['../data/data_json/case14/train/sample_00538.json'],\n",
       " ['../data/data_json/case14/train/sample_00539.json'],\n",
       " ['../data/data_json/case14/train/sample_00540.json'],\n",
       " ['../data/data_json/case14/train/sample_00541.json'],\n",
       " ['../data/data_json/case14/train/sample_00542.json'],\n",
       " ['../data/data_json/case14/train/sample_00543.json'],\n",
       " ['../data/data_json/case14/train/sample_00544.json'],\n",
       " ['../data/data_json/case14/train/sample_00545.json'],\n",
       " ['../data/data_json/case14/train/sample_00546.json'],\n",
       " ['../data/data_json/case14/train/sample_00547.json'],\n",
       " ['../data/data_json/case14/train/sample_00548.json'],\n",
       " ['../data/data_json/case14/train/sample_00549.json'],\n",
       " ['../data/data_json/case14/train/sample_00550.json'],\n",
       " ['../data/data_json/case14/train/sample_00551.json'],\n",
       " ['../data/data_json/case14/train/sample_00552.json'],\n",
       " ['../data/data_json/case14/train/sample_00553.json'],\n",
       " ['../data/data_json/case14/train/sample_00554.json'],\n",
       " ['../data/data_json/case14/train/sample_00555.json'],\n",
       " ['../data/data_json/case14/train/sample_00556.json'],\n",
       " ['../data/data_json/case14/train/sample_00557.json'],\n",
       " ['../data/data_json/case14/train/sample_00558.json'],\n",
       " ['../data/data_json/case14/train/sample_00559.json'],\n",
       " ['../data/data_json/case14/train/sample_00560.json'],\n",
       " ['../data/data_json/case14/train/sample_00561.json'],\n",
       " ['../data/data_json/case14/train/sample_00562.json'],\n",
       " ['../data/data_json/case14/train/sample_00563.json'],\n",
       " ['../data/data_json/case14/train/sample_00564.json'],\n",
       " ['../data/data_json/case14/train/sample_00565.json'],\n",
       " ['../data/data_json/case14/train/sample_00566.json'],\n",
       " ['../data/data_json/case14/train/sample_00567.json'],\n",
       " ['../data/data_json/case14/train/sample_00568.json'],\n",
       " ['../data/data_json/case14/train/sample_00569.json'],\n",
       " ['../data/data_json/case14/train/sample_00570.json'],\n",
       " ['../data/data_json/case14/train/sample_00571.json'],\n",
       " ['../data/data_json/case14/train/sample_00572.json'],\n",
       " ['../data/data_json/case14/train/sample_00573.json'],\n",
       " ['../data/data_json/case14/train/sample_00574.json'],\n",
       " ['../data/data_json/case14/train/sample_00575.json'],\n",
       " ['../data/data_json/case14/train/sample_00576.json'],\n",
       " ['../data/data_json/case14/train/sample_00577.json'],\n",
       " ['../data/data_json/case14/train/sample_00578.json'],\n",
       " ['../data/data_json/case14/train/sample_00579.json'],\n",
       " ['../data/data_json/case14/train/sample_00580.json'],\n",
       " ['../data/data_json/case14/train/sample_00581.json'],\n",
       " ['../data/data_json/case14/train/sample_00582.json'],\n",
       " ['../data/data_json/case14/train/sample_00583.json'],\n",
       " ['../data/data_json/case14/train/sample_00584.json'],\n",
       " ['../data/data_json/case14/train/sample_00585.json'],\n",
       " ['../data/data_json/case14/train/sample_00586.json'],\n",
       " ['../data/data_json/case14/train/sample_00587.json'],\n",
       " ['../data/data_json/case14/train/sample_00588.json'],\n",
       " ['../data/data_json/case14/train/sample_00589.json'],\n",
       " ['../data/data_json/case14/train/sample_00590.json'],\n",
       " ['../data/data_json/case14/train/sample_00591.json'],\n",
       " ['../data/data_json/case14/train/sample_00592.json'],\n",
       " ['../data/data_json/case14/train/sample_00593.json'],\n",
       " ['../data/data_json/case14/train/sample_00594.json'],\n",
       " ['../data/data_json/case14/train/sample_00595.json'],\n",
       " ['../data/data_json/case14/train/sample_00596.json'],\n",
       " ['../data/data_json/case14/train/sample_00597.json'],\n",
       " ['../data/data_json/case14/train/sample_00598.json'],\n",
       " ['../data/data_json/case14/train/sample_00599.json'],\n",
       " ['../data/data_json/case14/train/sample_00600.json'],\n",
       " ['../data/data_json/case14/train/sample_00601.json'],\n",
       " ['../data/data_json/case14/train/sample_00602.json'],\n",
       " ['../data/data_json/case14/train/sample_00603.json'],\n",
       " ['../data/data_json/case14/train/sample_00604.json'],\n",
       " ['../data/data_json/case14/train/sample_00605.json'],\n",
       " ['../data/data_json/case14/train/sample_00606.json'],\n",
       " ['../data/data_json/case14/train/sample_00607.json'],\n",
       " ['../data/data_json/case14/train/sample_00608.json'],\n",
       " ['../data/data_json/case14/train/sample_00609.json'],\n",
       " ['../data/data_json/case14/train/sample_00610.json'],\n",
       " ['../data/data_json/case14/train/sample_00611.json'],\n",
       " ['../data/data_json/case14/train/sample_00612.json'],\n",
       " ['../data/data_json/case14/train/sample_00613.json'],\n",
       " ['../data/data_json/case14/train/sample_00614.json'],\n",
       " ['../data/data_json/case14/train/sample_00615.json'],\n",
       " ['../data/data_json/case14/train/sample_00616.json'],\n",
       " ['../data/data_json/case14/train/sample_00617.json'],\n",
       " ['../data/data_json/case14/train/sample_00618.json'],\n",
       " ['../data/data_json/case14/train/sample_00619.json'],\n",
       " ['../data/data_json/case14/train/sample_00620.json'],\n",
       " ['../data/data_json/case14/train/sample_00621.json'],\n",
       " ['../data/data_json/case14/train/sample_00622.json'],\n",
       " ['../data/data_json/case14/train/sample_00623.json'],\n",
       " ['../data/data_json/case14/train/sample_00624.json'],\n",
       " ['../data/data_json/case14/train/sample_00625.json'],\n",
       " ['../data/data_json/case14/train/sample_00626.json'],\n",
       " ['../data/data_json/case14/train/sample_00627.json'],\n",
       " ['../data/data_json/case14/train/sample_00628.json'],\n",
       " ['../data/data_json/case14/train/sample_00629.json'],\n",
       " ['../data/data_json/case14/train/sample_00630.json'],\n",
       " ['../data/data_json/case14/train/sample_00631.json'],\n",
       " ['../data/data_json/case14/train/sample_00632.json'],\n",
       " ['../data/data_json/case14/train/sample_00633.json'],\n",
       " ['../data/data_json/case14/train/sample_00634.json'],\n",
       " ['../data/data_json/case14/train/sample_00635.json'],\n",
       " ['../data/data_json/case14/train/sample_00636.json'],\n",
       " ['../data/data_json/case14/train/sample_00637.json'],\n",
       " ['../data/data_json/case14/train/sample_00638.json'],\n",
       " ['../data/data_json/case14/train/sample_00639.json'],\n",
       " ['../data/data_json/case14/train/sample_00640.json'],\n",
       " ['../data/data_json/case14/train/sample_00641.json'],\n",
       " ['../data/data_json/case14/train/sample_00642.json'],\n",
       " ['../data/data_json/case14/train/sample_00643.json'],\n",
       " ['../data/data_json/case14/train/sample_00644.json'],\n",
       " ['../data/data_json/case14/train/sample_00645.json'],\n",
       " ['../data/data_json/case14/train/sample_00646.json'],\n",
       " ['../data/data_json/case14/train/sample_00647.json'],\n",
       " ['../data/data_json/case14/train/sample_00648.json'],\n",
       " ['../data/data_json/case14/train/sample_00649.json'],\n",
       " ['../data/data_json/case14/train/sample_00650.json'],\n",
       " ['../data/data_json/case14/train/sample_00651.json'],\n",
       " ['../data/data_json/case14/train/sample_00652.json'],\n",
       " ['../data/data_json/case14/train/sample_00653.json'],\n",
       " ['../data/data_json/case14/train/sample_00654.json'],\n",
       " ['../data/data_json/case14/train/sample_00655.json'],\n",
       " ['../data/data_json/case14/train/sample_00656.json'],\n",
       " ['../data/data_json/case14/train/sample_00657.json'],\n",
       " ['../data/data_json/case14/train/sample_00658.json'],\n",
       " ['../data/data_json/case14/train/sample_00659.json'],\n",
       " ['../data/data_json/case14/train/sample_00660.json'],\n",
       " ['../data/data_json/case14/train/sample_00661.json'],\n",
       " ['../data/data_json/case14/train/sample_00662.json'],\n",
       " ['../data/data_json/case14/train/sample_00663.json'],\n",
       " ['../data/data_json/case14/train/sample_00664.json'],\n",
       " ['../data/data_json/case14/train/sample_00665.json'],\n",
       " ['../data/data_json/case14/train/sample_00666.json'],\n",
       " ['../data/data_json/case14/train/sample_00667.json'],\n",
       " ['../data/data_json/case14/train/sample_00668.json'],\n",
       " ['../data/data_json/case14/train/sample_00669.json'],\n",
       " ['../data/data_json/case14/train/sample_00670.json'],\n",
       " ['../data/data_json/case14/train/sample_00671.json'],\n",
       " ['../data/data_json/case14/train/sample_00672.json'],\n",
       " ['../data/data_json/case14/train/sample_00673.json'],\n",
       " ['../data/data_json/case14/train/sample_00674.json'],\n",
       " ['../data/data_json/case14/train/sample_00675.json'],\n",
       " ['../data/data_json/case14/train/sample_00676.json'],\n",
       " ['../data/data_json/case14/train/sample_00677.json'],\n",
       " ['../data/data_json/case14/train/sample_00678.json'],\n",
       " ['../data/data_json/case14/train/sample_00679.json'],\n",
       " ['../data/data_json/case14/train/sample_00680.json'],\n",
       " ['../data/data_json/case14/train/sample_00681.json'],\n",
       " ['../data/data_json/case14/train/sample_00682.json'],\n",
       " ['../data/data_json/case14/train/sample_00683.json'],\n",
       " ['../data/data_json/case14/train/sample_00684.json'],\n",
       " ['../data/data_json/case14/train/sample_00685.json'],\n",
       " ['../data/data_json/case14/train/sample_00686.json'],\n",
       " ['../data/data_json/case14/train/sample_00687.json'],\n",
       " ['../data/data_json/case14/train/sample_00688.json'],\n",
       " ['../data/data_json/case14/train/sample_00689.json'],\n",
       " ['../data/data_json/case14/train/sample_00690.json'],\n",
       " ['../data/data_json/case14/train/sample_00691.json'],\n",
       " ['../data/data_json/case14/train/sample_00692.json'],\n",
       " ['../data/data_json/case14/train/sample_00693.json'],\n",
       " ['../data/data_json/case14/train/sample_00694.json'],\n",
       " ['../data/data_json/case14/train/sample_00695.json'],\n",
       " ['../data/data_json/case14/train/sample_00696.json'],\n",
       " ['../data/data_json/case14/train/sample_00697.json'],\n",
       " ['../data/data_json/case14/train/sample_00698.json'],\n",
       " ['../data/data_json/case14/train/sample_00699.json'],\n",
       " ['../data/data_json/case14/train/sample_00700.json'],\n",
       " ['../data/data_json/case14/train/sample_00701.json'],\n",
       " ['../data/data_json/case14/train/sample_00702.json'],\n",
       " ['../data/data_json/case14/train/sample_00703.json'],\n",
       " ['../data/data_json/case14/train/sample_00704.json'],\n",
       " ['../data/data_json/case14/train/sample_00705.json'],\n",
       " ['../data/data_json/case14/train/sample_00706.json'],\n",
       " ['../data/data_json/case14/train/sample_00707.json'],\n",
       " ['../data/data_json/case14/train/sample_00708.json'],\n",
       " ['../data/data_json/case14/train/sample_00709.json'],\n",
       " ['../data/data_json/case14/train/sample_00710.json'],\n",
       " ['../data/data_json/case14/train/sample_00711.json'],\n",
       " ['../data/data_json/case14/train/sample_00712.json'],\n",
       " ['../data/data_json/case14/train/sample_00713.json'],\n",
       " ['../data/data_json/case14/train/sample_00714.json'],\n",
       " ['../data/data_json/case14/train/sample_00715.json'],\n",
       " ['../data/data_json/case14/train/sample_00716.json'],\n",
       " ['../data/data_json/case14/train/sample_00717.json'],\n",
       " ['../data/data_json/case14/train/sample_00718.json'],\n",
       " ['../data/data_json/case14/train/sample_00719.json'],\n",
       " ['../data/data_json/case14/train/sample_00720.json'],\n",
       " ['../data/data_json/case14/train/sample_00721.json'],\n",
       " ['../data/data_json/case14/train/sample_00722.json'],\n",
       " ['../data/data_json/case14/train/sample_00723.json'],\n",
       " ['../data/data_json/case14/train/sample_00724.json'],\n",
       " ['../data/data_json/case14/train/sample_00725.json'],\n",
       " ['../data/data_json/case14/train/sample_00726.json'],\n",
       " ['../data/data_json/case14/train/sample_00727.json'],\n",
       " ['../data/data_json/case14/train/sample_00728.json'],\n",
       " ['../data/data_json/case14/train/sample_00729.json'],\n",
       " ['../data/data_json/case14/train/sample_00730.json'],\n",
       " ['../data/data_json/case14/train/sample_00731.json'],\n",
       " ['../data/data_json/case14/train/sample_00732.json'],\n",
       " ['../data/data_json/case14/train/sample_00733.json'],\n",
       " ['../data/data_json/case14/train/sample_00734.json'],\n",
       " ['../data/data_json/case14/train/sample_00735.json'],\n",
       " ['../data/data_json/case14/train/sample_00736.json'],\n",
       " ['../data/data_json/case14/train/sample_00737.json'],\n",
       " ['../data/data_json/case14/train/sample_00738.json'],\n",
       " ['../data/data_json/case14/train/sample_00739.json'],\n",
       " ['../data/data_json/case14/train/sample_00740.json'],\n",
       " ['../data/data_json/case14/train/sample_00741.json'],\n",
       " ['../data/data_json/case14/train/sample_00742.json'],\n",
       " ['../data/data_json/case14/train/sample_00743.json'],\n",
       " ['../data/data_json/case14/train/sample_00744.json'],\n",
       " ['../data/data_json/case14/train/sample_00745.json'],\n",
       " ['../data/data_json/case14/train/sample_00746.json'],\n",
       " ['../data/data_json/case14/train/sample_00747.json'],\n",
       " ['../data/data_json/case14/train/sample_00748.json'],\n",
       " ['../data/data_json/case14/train/sample_00749.json'],\n",
       " ['../data/data_json/case14/train/sample_00750.json'],\n",
       " ['../data/data_json/case14/train/sample_00751.json'],\n",
       " ['../data/data_json/case14/train/sample_00752.json'],\n",
       " ['../data/data_json/case14/train/sample_00753.json'],\n",
       " ['../data/data_json/case14/train/sample_00754.json'],\n",
       " ['../data/data_json/case14/train/sample_00755.json'],\n",
       " ['../data/data_json/case14/train/sample_00756.json'],\n",
       " ['../data/data_json/case14/train/sample_00757.json'],\n",
       " ['../data/data_json/case14/train/sample_00758.json'],\n",
       " ['../data/data_json/case14/train/sample_00759.json'],\n",
       " ['../data/data_json/case14/train/sample_00760.json'],\n",
       " ['../data/data_json/case14/train/sample_00761.json'],\n",
       " ['../data/data_json/case14/train/sample_00762.json'],\n",
       " ['../data/data_json/case14/train/sample_00763.json'],\n",
       " ['../data/data_json/case14/train/sample_00764.json'],\n",
       " ['../data/data_json/case14/train/sample_00765.json'],\n",
       " ['../data/data_json/case14/train/sample_00766.json'],\n",
       " ['../data/data_json/case14/train/sample_00767.json'],\n",
       " ['../data/data_json/case14/train/sample_00768.json'],\n",
       " ['../data/data_json/case14/train/sample_00769.json'],\n",
       " ['../data/data_json/case14/train/sample_00770.json'],\n",
       " ['../data/data_json/case14/train/sample_00771.json'],\n",
       " ['../data/data_json/case14/train/sample_00772.json'],\n",
       " ['../data/data_json/case14/train/sample_00773.json'],\n",
       " ['../data/data_json/case14/train/sample_00774.json'],\n",
       " ['../data/data_json/case14/train/sample_00775.json'],\n",
       " ['../data/data_json/case14/train/sample_00776.json'],\n",
       " ['../data/data_json/case14/train/sample_00777.json'],\n",
       " ['../data/data_json/case14/train/sample_00778.json'],\n",
       " ['../data/data_json/case14/train/sample_00779.json'],\n",
       " ['../data/data_json/case14/train/sample_00780.json'],\n",
       " ['../data/data_json/case14/train/sample_00781.json'],\n",
       " ['../data/data_json/case14/train/sample_00782.json'],\n",
       " ['../data/data_json/case14/train/sample_00783.json'],\n",
       " ['../data/data_json/case14/train/sample_00784.json'],\n",
       " ['../data/data_json/case14/train/sample_00785.json'],\n",
       " ['../data/data_json/case14/train/sample_00786.json'],\n",
       " ['../data/data_json/case14/train/sample_00787.json'],\n",
       " ['../data/data_json/case14/train/sample_00788.json'],\n",
       " ['../data/data_json/case14/train/sample_00789.json'],\n",
       " ['../data/data_json/case14/train/sample_00790.json'],\n",
       " ['../data/data_json/case14/train/sample_00791.json'],\n",
       " ['../data/data_json/case14/train/sample_00792.json'],\n",
       " ['../data/data_json/case14/train/sample_00793.json'],\n",
       " ['../data/data_json/case14/train/sample_00794.json'],\n",
       " ['../data/data_json/case14/train/sample_00795.json'],\n",
       " ['../data/data_json/case14/train/sample_00796.json'],\n",
       " ['../data/data_json/case14/train/sample_00797.json'],\n",
       " ['../data/data_json/case14/train/sample_00798.json'],\n",
       " ['../data/data_json/case14/train/sample_00799.json'],\n",
       " ['../data/data_json/case14/train/sample_00800.json'],\n",
       " ['../data/data_json/case14/train/sample_00801.json'],\n",
       " ['../data/data_json/case14/train/sample_00802.json'],\n",
       " ['../data/data_json/case14/train/sample_00803.json'],\n",
       " ['../data/data_json/case14/train/sample_00804.json'],\n",
       " ['../data/data_json/case14/train/sample_00805.json'],\n",
       " ['../data/data_json/case14/train/sample_00806.json'],\n",
       " ['../data/data_json/case14/train/sample_00807.json'],\n",
       " ['../data/data_json/case14/train/sample_00808.json'],\n",
       " ['../data/data_json/case14/train/sample_00809.json'],\n",
       " ['../data/data_json/case14/train/sample_00810.json'],\n",
       " ['../data/data_json/case14/train/sample_00811.json'],\n",
       " ['../data/data_json/case14/train/sample_00812.json'],\n",
       " ['../data/data_json/case14/train/sample_00813.json'],\n",
       " ['../data/data_json/case14/train/sample_00814.json'],\n",
       " ['../data/data_json/case14/train/sample_00815.json'],\n",
       " ['../data/data_json/case14/train/sample_00816.json'],\n",
       " ['../data/data_json/case14/train/sample_00817.json'],\n",
       " ['../data/data_json/case14/train/sample_00818.json'],\n",
       " ['../data/data_json/case14/train/sample_00819.json'],\n",
       " ['../data/data_json/case14/train/sample_00820.json'],\n",
       " ['../data/data_json/case14/train/sample_00821.json'],\n",
       " ['../data/data_json/case14/train/sample_00822.json'],\n",
       " ['../data/data_json/case14/train/sample_00823.json'],\n",
       " ['../data/data_json/case14/train/sample_00824.json'],\n",
       " ['../data/data_json/case14/train/sample_00825.json'],\n",
       " ['../data/data_json/case14/train/sample_00826.json'],\n",
       " ['../data/data_json/case14/train/sample_00827.json'],\n",
       " ['../data/data_json/case14/train/sample_00828.json'],\n",
       " ['../data/data_json/case14/train/sample_00829.json'],\n",
       " ['../data/data_json/case14/train/sample_00830.json'],\n",
       " ['../data/data_json/case14/train/sample_00831.json'],\n",
       " ['../data/data_json/case14/train/sample_00832.json'],\n",
       " ['../data/data_json/case14/train/sample_00833.json'],\n",
       " ['../data/data_json/case14/train/sample_00834.json'],\n",
       " ['../data/data_json/case14/train/sample_00835.json'],\n",
       " ['../data/data_json/case14/train/sample_00836.json'],\n",
       " ['../data/data_json/case14/train/sample_00837.json'],\n",
       " ['../data/data_json/case14/train/sample_00838.json'],\n",
       " ['../data/data_json/case14/train/sample_00839.json'],\n",
       " ['../data/data_json/case14/train/sample_00840.json'],\n",
       " ['../data/data_json/case14/train/sample_00841.json'],\n",
       " ['../data/data_json/case14/train/sample_00842.json'],\n",
       " ['../data/data_json/case14/train/sample_00843.json'],\n",
       " ['../data/data_json/case14/train/sample_00844.json'],\n",
       " ['../data/data_json/case14/train/sample_00845.json'],\n",
       " ['../data/data_json/case14/train/sample_00846.json'],\n",
       " ['../data/data_json/case14/train/sample_00847.json'],\n",
       " ['../data/data_json/case14/train/sample_00848.json'],\n",
       " ['../data/data_json/case14/train/sample_00849.json'],\n",
       " ['../data/data_json/case14/train/sample_00850.json'],\n",
       " ['../data/data_json/case14/train/sample_00851.json'],\n",
       " ['../data/data_json/case14/train/sample_00852.json'],\n",
       " ['../data/data_json/case14/train/sample_00853.json'],\n",
       " ['../data/data_json/case14/train/sample_00854.json'],\n",
       " ['../data/data_json/case14/train/sample_00855.json'],\n",
       " ['../data/data_json/case14/train/sample_00856.json'],\n",
       " ['../data/data_json/case14/train/sample_00857.json'],\n",
       " ['../data/data_json/case14/train/sample_00858.json'],\n",
       " ['../data/data_json/case14/train/sample_00859.json'],\n",
       " ['../data/data_json/case14/train/sample_00860.json'],\n",
       " ['../data/data_json/case14/train/sample_00861.json'],\n",
       " ['../data/data_json/case14/train/sample_00862.json'],\n",
       " ['../data/data_json/case14/train/sample_00863.json'],\n",
       " ['../data/data_json/case14/train/sample_00864.json'],\n",
       " ['../data/data_json/case14/train/sample_00865.json'],\n",
       " ['../data/data_json/case14/train/sample_00866.json'],\n",
       " ['../data/data_json/case14/train/sample_00867.json'],\n",
       " ['../data/data_json/case14/train/sample_00868.json'],\n",
       " ['../data/data_json/case14/train/sample_00869.json'],\n",
       " ['../data/data_json/case14/train/sample_00870.json'],\n",
       " ['../data/data_json/case14/train/sample_00871.json'],\n",
       " ['../data/data_json/case14/train/sample_00872.json'],\n",
       " ['../data/data_json/case14/train/sample_00873.json'],\n",
       " ['../data/data_json/case14/train/sample_00874.json'],\n",
       " ['../data/data_json/case14/train/sample_00875.json'],\n",
       " ['../data/data_json/case14/train/sample_00876.json'],\n",
       " ['../data/data_json/case14/train/sample_00877.json'],\n",
       " ['../data/data_json/case14/train/sample_00878.json'],\n",
       " ['../data/data_json/case14/train/sample_00879.json'],\n",
       " ['../data/data_json/case14/train/sample_00880.json'],\n",
       " ['../data/data_json/case14/train/sample_00881.json'],\n",
       " ['../data/data_json/case14/train/sample_00882.json'],\n",
       " ['../data/data_json/case14/train/sample_00883.json'],\n",
       " ['../data/data_json/case14/train/sample_00884.json'],\n",
       " ['../data/data_json/case14/train/sample_00885.json'],\n",
       " ['../data/data_json/case14/train/sample_00886.json'],\n",
       " ['../data/data_json/case14/train/sample_00887.json'],\n",
       " ['../data/data_json/case14/train/sample_00888.json'],\n",
       " ['../data/data_json/case14/train/sample_00889.json'],\n",
       " ['../data/data_json/case14/train/sample_00890.json'],\n",
       " ['../data/data_json/case14/train/sample_00891.json'],\n",
       " ['../data/data_json/case14/train/sample_00892.json'],\n",
       " ['../data/data_json/case14/train/sample_00893.json'],\n",
       " ['../data/data_json/case14/train/sample_00894.json'],\n",
       " ['../data/data_json/case14/train/sample_00895.json'],\n",
       " ['../data/data_json/case14/train/sample_00896.json'],\n",
       " ['../data/data_json/case14/train/sample_00897.json'],\n",
       " ['../data/data_json/case14/train/sample_00898.json'],\n",
       " ['../data/data_json/case14/train/sample_00899.json'],\n",
       " ['../data/data_json/case14/train/sample_00900.json'],\n",
       " ['../data/data_json/case14/train/sample_00901.json'],\n",
       " ['../data/data_json/case14/train/sample_00902.json'],\n",
       " ['../data/data_json/case14/train/sample_00903.json'],\n",
       " ['../data/data_json/case14/train/sample_00904.json'],\n",
       " ['../data/data_json/case14/train/sample_00905.json'],\n",
       " ['../data/data_json/case14/train/sample_00906.json'],\n",
       " ['../data/data_json/case14/train/sample_00907.json'],\n",
       " ['../data/data_json/case14/train/sample_00908.json'],\n",
       " ['../data/data_json/case14/train/sample_00909.json'],\n",
       " ['../data/data_json/case14/train/sample_00910.json'],\n",
       " ['../data/data_json/case14/train/sample_00911.json'],\n",
       " ['../data/data_json/case14/train/sample_00912.json'],\n",
       " ['../data/data_json/case14/train/sample_00913.json'],\n",
       " ['../data/data_json/case14/train/sample_00914.json'],\n",
       " ['../data/data_json/case14/train/sample_00915.json'],\n",
       " ['../data/data_json/case14/train/sample_00916.json'],\n",
       " ['../data/data_json/case14/train/sample_00917.json'],\n",
       " ['../data/data_json/case14/train/sample_00918.json'],\n",
       " ['../data/data_json/case14/train/sample_00919.json'],\n",
       " ['../data/data_json/case14/train/sample_00920.json'],\n",
       " ['../data/data_json/case14/train/sample_00921.json'],\n",
       " ['../data/data_json/case14/train/sample_00922.json'],\n",
       " ['../data/data_json/case14/train/sample_00923.json'],\n",
       " ['../data/data_json/case14/train/sample_00924.json'],\n",
       " ['../data/data_json/case14/train/sample_00925.json'],\n",
       " ['../data/data_json/case14/train/sample_00926.json'],\n",
       " ['../data/data_json/case14/train/sample_00927.json'],\n",
       " ['../data/data_json/case14/train/sample_00928.json'],\n",
       " ['../data/data_json/case14/train/sample_00929.json'],\n",
       " ['../data/data_json/case14/train/sample_00930.json'],\n",
       " ['../data/data_json/case14/train/sample_00931.json'],\n",
       " ['../data/data_json/case14/train/sample_00932.json'],\n",
       " ['../data/data_json/case14/train/sample_00933.json'],\n",
       " ['../data/data_json/case14/train/sample_00934.json'],\n",
       " ['../data/data_json/case14/train/sample_00935.json'],\n",
       " ['../data/data_json/case14/train/sample_00936.json'],\n",
       " ['../data/data_json/case14/train/sample_00937.json'],\n",
       " ['../data/data_json/case14/train/sample_00938.json'],\n",
       " ['../data/data_json/case14/train/sample_00939.json'],\n",
       " ['../data/data_json/case14/train/sample_00940.json'],\n",
       " ['../data/data_json/case14/train/sample_00941.json'],\n",
       " ['../data/data_json/case14/train/sample_00942.json'],\n",
       " ['../data/data_json/case14/train/sample_00943.json'],\n",
       " ['../data/data_json/case14/train/sample_00944.json'],\n",
       " ['../data/data_json/case14/train/sample_00945.json'],\n",
       " ['../data/data_json/case14/train/sample_00946.json'],\n",
       " ['../data/data_json/case14/train/sample_00947.json'],\n",
       " ['../data/data_json/case14/train/sample_00948.json'],\n",
       " ['../data/data_json/case14/train/sample_00949.json'],\n",
       " ['../data/data_json/case14/train/sample_00950.json'],\n",
       " ['../data/data_json/case14/train/sample_00951.json'],\n",
       " ['../data/data_json/case14/train/sample_00952.json'],\n",
       " ['../data/data_json/case14/train/sample_00953.json'],\n",
       " ['../data/data_json/case14/train/sample_00954.json'],\n",
       " ['../data/data_json/case14/train/sample_00955.json'],\n",
       " ['../data/data_json/case14/train/sample_00956.json'],\n",
       " ['../data/data_json/case14/train/sample_00957.json'],\n",
       " ['../data/data_json/case14/train/sample_00958.json'],\n",
       " ['../data/data_json/case14/train/sample_00959.json'],\n",
       " ['../data/data_json/case14/train/sample_00960.json'],\n",
       " ['../data/data_json/case14/train/sample_00961.json'],\n",
       " ['../data/data_json/case14/train/sample_00962.json'],\n",
       " ['../data/data_json/case14/train/sample_00963.json'],\n",
       " ['../data/data_json/case14/train/sample_00964.json'],\n",
       " ['../data/data_json/case14/train/sample_00965.json'],\n",
       " ['../data/data_json/case14/train/sample_00966.json'],\n",
       " ['../data/data_json/case14/train/sample_00967.json'],\n",
       " ['../data/data_json/case14/train/sample_00968.json'],\n",
       " ['../data/data_json/case14/train/sample_00969.json'],\n",
       " ['../data/data_json/case14/train/sample_00970.json'],\n",
       " ['../data/data_json/case14/train/sample_00971.json'],\n",
       " ['../data/data_json/case14/train/sample_00972.json'],\n",
       " ['../data/data_json/case14/train/sample_00973.json'],\n",
       " ['../data/data_json/case14/train/sample_00974.json'],\n",
       " ['../data/data_json/case14/train/sample_00975.json'],\n",
       " ['../data/data_json/case14/train/sample_00976.json'],\n",
       " ['../data/data_json/case14/train/sample_00977.json'],\n",
       " ['../data/data_json/case14/train/sample_00978.json'],\n",
       " ['../data/data_json/case14/train/sample_00979.json'],\n",
       " ['../data/data_json/case14/train/sample_00980.json'],\n",
       " ['../data/data_json/case14/train/sample_00981.json'],\n",
       " ['../data/data_json/case14/train/sample_00982.json'],\n",
       " ['../data/data_json/case14/train/sample_00983.json'],\n",
       " ['../data/data_json/case14/train/sample_00984.json'],\n",
       " ['../data/data_json/case14/train/sample_00985.json'],\n",
       " ['../data/data_json/case14/train/sample_00986.json'],\n",
       " ['../data/data_json/case14/train/sample_00987.json'],\n",
       " ['../data/data_json/case14/train/sample_00988.json'],\n",
       " ['../data/data_json/case14/train/sample_00989.json'],\n",
       " ['../data/data_json/case14/train/sample_00990.json'],\n",
       " ['../data/data_json/case14/train/sample_00991.json'],\n",
       " ['../data/data_json/case14/train/sample_00992.json'],\n",
       " ['../data/data_json/case14/train/sample_00993.json'],\n",
       " ['../data/data_json/case14/train/sample_00994.json'],\n",
       " ['../data/data_json/case14/train/sample_00995.json'],\n",
       " ['../data/data_json/case14/train/sample_00996.json'],\n",
       " ['../data/data_json/case14/train/sample_00997.json'],\n",
       " ['../data/data_json/case14/train/sample_00998.json'],\n",
       " ['../data/data_json/case14/train/sample_00999.json'],\n",
       " ...]"
      ]
     },
     "execution_count": 48,
     "metadata": {},
     "output_type": "execute_result"
    }
   ],
   "source": [
    "backend.get_files(data_dir)"
   ]
  },
  {
   "cell_type": "code",
   "execution_count": 6,
   "id": "4adade5e",
   "metadata": {},
   "outputs": [],
   "source": []
  },
  {
   "cell_type": "code",
   "execution_count": 17,
   "id": "3440d046",
   "metadata": {},
   "outputs": [
    {
     "name": "stderr",
     "output_type": "stream",
     "text": [
      "Importing power grid instances: 100%|█████████████████████████████████████████████████████████████████████████████████████████████████████| 100/100 [00:14<00:00,  6.73it/s]\n"
     ]
    }
   ],
   "source": []
  },
  {
   "cell_type": "code",
   "execution_count": 14,
   "id": "5a24791c",
   "metadata": {},
   "outputs": [
    {
     "name": "stdout",
     "output_type": "stream",
     "text": [
      "Building a Normalizer.\n"
     ]
    },
    {
     "name": "stderr",
     "output_type": "stream",
     "text": [
      "Loading power grids.: 100%|█████████████████████████████████████████████████████████████████████████████████████████████████████████████████████████████████████████████████████████████████████████████████████████████████| 100/100 [00:15<00:00,  6.59it/s]\n",
      "Extracting features.: 100%|█████████████████████████████████████████████████████████████████████████████████████████████████████████████████████████████████████████████████████████████████████████████████████████████████| 100/100 [00:03<00:00, 26.27it/s]\n",
      "Building normalizing functions.: 100%|█████████████████████████████████████████████████████████████████████████████████████████████████████████████████████████████████████████████████████████████████████████████████████████| 8/8 [00:00<00:00, 119.53it/s]\n"
     ]
    },
    {
     "name": "stdout",
     "output_type": "stream",
     "text": [
      "Normalizer ready to normalize !\n"
     ]
    }
   ],
   "source": [
    "from torch.utils.data import DataLoader\n",
    "\n",
    "backend = PandaPowerBackend()\n",
    "\n",
    "train_dir = '../data/data_json/case14/train'\n",
    "\n",
    "normalizer = ml.Normalizer(data_dir=train_dir, backend=backend)\n",
    "train_set = ml.PowerGridDataset(data_dir=train_dir, backend=backend, normalizer=normalizer)\n",
    "\n",
    "loader = DataLoader(train_set, batch_size=10, collate_fn=ml.power_grid_collate)"
   ]
  },
  {
   "cell_type": "code",
   "execution_count": 15,
   "id": "5f02f18c",
   "metadata": {},
   "outputs": [],
   "source": [
    "for a, x, nets in loader:\n",
    "    break"
   ]
  },
  {
   "cell_type": "code",
   "execution_count": 16,
   "id": "184ff294",
   "metadata": {
    "scrolled": true
   },
   "outputs": [
    {
     "name": "stdout",
     "output_type": "stream",
     "text": [
      "bus min_vm_pu\n"
     ]
    },
    {
     "data": {
      "image/png": "[encoded data removed]",
      "text/plain": [
       "<Figure size 432x288 with 1 Axes>"
      ]
     },
     "metadata": {
      "needs_background": "light"
     },
     "output_type": "display_data"
    },
    {
     "name": "stdout",
     "output_type": "stream",
     "text": [
      "bus vn_kv\n"
     ]
    },
    {
     "data": {
      "image/png": "[encoded data removed]",
      "text/plain": [
       "<Figure size 432x288 with 1 Axes>"
      ]
     },
     "metadata": {
      "needs_background": "light"
     },
     "output_type": "display_data"
    },
    {
     "name": "stdout",
     "output_type": "stream",
     "text": [
      "bus res_p_mw\n"
     ]
    },
    {
     "data": {
      "image/png": "[encoded data removed]",
      "text/plain": [
       "<Figure size 432x288 with 1 Axes>"
      ]
     },
     "metadata": {
      "needs_background": "light"
     },
     "output_type": "display_data"
    },
    {
     "name": "stdout",
     "output_type": "stream",
     "text": [
      "bus in_service\n"
     ]
    },
    {
     "data": {
      "image/png": "[encoded data removed]",
      "text/plain": [
       "<Figure size 432x288 with 1 Axes>"
      ]
     },
     "metadata": {
      "needs_background": "light"
     },
     "output_type": "display_data"
    },
    {
     "name": "stdout",
     "output_type": "stream",
     "text": [
      "bus res_va_degree\n"
     ]
    },
    {
     "data": {
      "image/png": "[encoded data removed]",
      "text/plain": [
       "<Figure size 432x288 with 1 Axes>"
      ]
     },
     "metadata": {
      "needs_background": "light"
     },
     "output_type": "display_data"
    },
    {
     "name": "stdout",
     "output_type": "stream",
     "text": [
      "bus res_q_mvar\n"
     ]
    },
    {
     "data": {
      "image/png": "[encoded data removed]",
      "text/plain": [
       "<Figure size 432x288 with 1 Axes>"
      ]
     },
     "metadata": {
      "needs_background": "light"
     },
     "output_type": "display_data"
    },
    {
     "name": "stdout",
     "output_type": "stream",
     "text": [
      "bus max_vm_pu\n"
     ]
    },
    {
     "data": {
      "image/png": "[encoded data removed]",
      "text/plain": [
       "<Figure size 432x288 with 1 Axes>"
      ]
     },
     "metadata": {
      "needs_background": "light"
     },
     "output_type": "display_data"
    },
    {
     "name": "stdout",
     "output_type": "stream",
     "text": [
      "bus res_vm_pu\n"
     ]
    },
    {
     "data": {
      "image/png": "[encoded data removed]",
      "text/plain": [
       "<Figure size 432x288 with 1 Axes>"
      ]
     },
     "metadata": {
      "needs_background": "light"
     },
     "output_type": "display_data"
    },
    {
     "name": "stdout",
     "output_type": "stream",
     "text": [
      "load controllable\n"
     ]
    },
    {
     "data": {
      "image/png": "[encoded data removed]",
      "text/plain": [
       "<Figure size 432x288 with 1 Axes>"
      ]
     },
     "metadata": {
      "needs_background": "light"
     },
     "output_type": "display_data"
    },
    {
     "name": "stdout",
     "output_type": "stream",
     "text": [
      "load q_mvar\n"
     ]
    },
    {
     "data": {
      "image/png": "[encoded data removed]",
      "text/plain": [
       "<Figure size 432x288 with 1 Axes>"
      ]
     },
     "metadata": {
      "needs_background": "light"
     },
     "output_type": "display_data"
    },
    {
     "name": "stdout",
     "output_type": "stream",
     "text": [
      "load p_mw\n"
     ]
    },
    {
     "data": {
      "image/png": "[encoded data removed]",
      "text/plain": [
       "<Figure size 432x288 with 1 Axes>"
      ]
     },
     "metadata": {
      "needs_background": "light"
     },
     "output_type": "display_data"
    },
    {
     "name": "stdout",
     "output_type": "stream",
     "text": [
      "load res_p_mw\n"
     ]
    },
    {
     "data": {
      "image/png": "[encoded data removed]",
      "text/plain": [
       "<Figure size 432x288 with 1 Axes>"
      ]
     },
     "metadata": {
      "needs_background": "light"
     },
     "output_type": "display_data"
    },
    {
     "name": "stdout",
     "output_type": "stream",
     "text": [
      "load const_z_percent\n"
     ]
    },
    {
     "data": {
      "image/png": "[encoded data removed]",
      "text/plain": [
       "<Figure size 432x288 with 1 Axes>"
      ]
     },
     "metadata": {
      "needs_background": "light"
     },
     "output_type": "display_data"
    },
    {
     "name": "stdout",
     "output_type": "stream",
     "text": [
      "load scaling\n"
     ]
    },
    {
     "data": {
      "image/png": "[encoded data removed]",
      "text/plain": [
       "<Figure size 432x288 with 1 Axes>"
      ]
     },
     "metadata": {
      "needs_background": "light"
     },
     "output_type": "display_data"
    },
    {
     "name": "stdout",
     "output_type": "stream",
     "text": [
      "load in_service\n"
     ]
    },
    {
     "data": {
      "image/png": "[encoded data removed]",
      "text/plain": [
       "<Figure size 432x288 with 1 Axes>"
      ]
     },
     "metadata": {
      "needs_background": "light"
     },
     "output_type": "display_data"
    },
    {
     "name": "stdout",
     "output_type": "stream",
     "text": [
      "load res_q_mvar\n"
     ]
    },
    {
     "data": {
      "image/png": "[encoded data removed]",
      "text/plain": [
       "<Figure size 432x288 with 1 Axes>"
      ]
     },
     "metadata": {
      "needs_background": "light"
     },
     "output_type": "display_data"
    },
    {
     "name": "stdout",
     "output_type": "stream",
     "text": [
      "load const_i_percent\n"
     ]
    },
    {
     "data": {
      "image/png": "[encoded data removed]",
      "text/plain": [
       "<Figure size 432x288 with 1 Axes>"
      ]
     },
     "metadata": {
      "needs_background": "light"
     },
     "output_type": "display_data"
    },
    {
     "name": "stdout",
     "output_type": "stream",
     "text": [
      "load sn_mva\n"
     ]
    },
    {
     "data": {
      "image/png": "[encoded data removed]",
      "text/plain": [
       "<Figure size 432x288 with 1 Axes>"
      ]
     },
     "metadata": {
      "needs_background": "light"
     },
     "output_type": "display_data"
    },
    {
     "name": "stdout",
     "output_type": "stream",
     "text": [
      "gen controllable\n"
     ]
    },
    {
     "data": {
      "image/png": "[encoded data removed]",
      "text/plain": [
       "<Figure size 432x288 with 1 Axes>"
      ]
     },
     "metadata": {
      "needs_background": "light"
     },
     "output_type": "display_data"
    },
    {
     "name": "stdout",
     "output_type": "stream",
     "text": [
      "gen vm_pu\n"
     ]
    },
    {
     "data": {
      "image/png": "[encoded data removed]",
      "text/plain": [
       "<Figure size 432x288 with 1 Axes>"
      ]
     },
     "metadata": {
      "needs_background": "light"
     },
     "output_type": "display_data"
    },
    {
     "name": "stdout",
     "output_type": "stream",
     "text": [
      "gen max_q_mvar\n"
     ]
    },
    {
     "data": {
      "image/png": "[encoded data removed]",
      "text/plain": [
       "<Figure size 432x288 with 1 Axes>"
      ]
     },
     "metadata": {
      "needs_background": "light"
     },
     "output_type": "display_data"
    },
    {
     "name": "stdout",
     "output_type": "stream",
     "text": [
      "gen min_q_mvar\n"
     ]
    },
    {
     "data": {
      "image/png": "[encoded data removed]",
      "text/plain": [
       "<Figure size 432x288 with 1 Axes>"
      ]
     },
     "metadata": {
      "needs_background": "light"
     },
     "output_type": "display_data"
    },
    {
     "name": "stdout",
     "output_type": "stream",
     "text": [
      "gen p_mw\n"
     ]
    },
    {
     "data": {
      "image/png": "[encoded data removed]",
      "text/plain": [
       "<Figure size 432x288 with 1 Axes>"
      ]
     },
     "metadata": {
      "needs_background": "light"
     },
     "output_type": "display_data"
    },
    {
     "name": "stdout",
     "output_type": "stream",
     "text": [
      "gen slack_weight\n"
     ]
    },
    {
     "data": {
      "image/png": "[encoded data removed]",
      "text/plain": [
       "<Figure size 432x288 with 1 Axes>"
      ]
     },
     "metadata": {
      "needs_background": "light"
     },
     "output_type": "display_data"
    },
    {
     "name": "stdout",
     "output_type": "stream",
     "text": [
      "gen res_p_mw\n"
     ]
    },
    {
     "data": {
      "image/png": "[encoded data removed]",
      "text/plain": [
       "<Figure size 432x288 with 1 Axes>"
      ]
     },
     "metadata": {
      "needs_background": "light"
     },
     "output_type": "display_data"
    },
    {
     "name": "stdout",
     "output_type": "stream",
     "text": [
      "gen scaling\n"
     ]
    },
    {
     "data": {
      "image/png": "[encoded data removed]",
      "text/plain": [
       "<Figure size 432x288 with 1 Axes>"
      ]
     },
     "metadata": {
      "needs_background": "light"
     },
     "output_type": "display_data"
    },
    {
     "name": "stdout",
     "output_type": "stream",
     "text": [
      "gen min_p_mw\n"
     ]
    },
    {
     "data": {
      "image/png": "[encoded data removed]",
      "text/plain": [
       "<Figure size 432x288 with 1 Axes>"
      ]
     },
     "metadata": {
      "needs_background": "light"
     },
     "output_type": "display_data"
    },
    {
     "name": "stdout",
     "output_type": "stream",
     "text": [
      "gen in_service\n"
     ]
    },
    {
     "data": {
      "image/png": "[encoded data removed]",
      "text/plain": [
       "<Figure size 432x288 with 1 Axes>"
      ]
     },
     "metadata": {
      "needs_background": "light"
     },
     "output_type": "display_data"
    },
    {
     "name": "stdout",
     "output_type": "stream",
     "text": [
      "gen slack\n"
     ]
    },
    {
     "data": {
      "image/png": "[encoded data removed]",
      "text/plain": [
       "<Figure size 432x288 with 1 Axes>"
      ]
     },
     "metadata": {
      "needs_background": "light"
     },
     "output_type": "display_data"
    },
    {
     "name": "stdout",
     "output_type": "stream",
     "text": [
      "gen res_va_degree\n"
     ]
    },
    {
     "data": {
      "image/png": "[encoded data removed]",
      "text/plain": [
       "<Figure size 432x288 with 1 Axes>"
      ]
     },
     "metadata": {
      "needs_background": "light"
     },
     "output_type": "display_data"
    },
    {
     "name": "stdout",
     "output_type": "stream",
     "text": [
      "gen res_q_mvar\n"
     ]
    },
    {
     "data": {
      "image/png": "[encoded data removed]",
      "text/plain": [
       "<Figure size 432x288 with 1 Axes>"
      ]
     },
     "metadata": {
      "needs_background": "light"
     },
     "output_type": "display_data"
    },
    {
     "name": "stdout",
     "output_type": "stream",
     "text": [
      "gen sn_mva\n"
     ]
    },
    {
     "data": {
      "image/png": "[encoded data removed]",
      "text/plain": [
       "<Figure size 432x288 with 1 Axes>"
      ]
     },
     "metadata": {
      "needs_background": "light"
     },
     "output_type": "display_data"
    },
    {
     "name": "stdout",
     "output_type": "stream",
     "text": [
      "gen max_p_mw\n"
     ]
    },
    {
     "data": {
      "image/png": "[encoded data removed]",
      "text/plain": [
       "<Figure size 432x288 with 1 Axes>"
      ]
     },
     "metadata": {
      "needs_background": "light"
     },
     "output_type": "display_data"
    },
    {
     "name": "stdout",
     "output_type": "stream",
     "text": [
      "gen res_vm_pu\n"
     ]
    },
    {
     "data": {
      "image/png": "[encoded data removed]",
      "text/plain": [
       "<Figure size 432x288 with 1 Axes>"
      ]
     },
     "metadata": {
      "needs_background": "light"
     },
     "output_type": "display_data"
    },
    {
     "name": "stdout",
     "output_type": "stream",
     "text": [
      "shunt q_mvar\n"
     ]
    },
    {
     "data": {
      "image/png": "[encoded data removed]",
      "text/plain": [
       "<Figure size 432x288 with 1 Axes>"
      ]
     },
     "metadata": {
      "needs_background": "light"
     },
     "output_type": "display_data"
    },
    {
     "name": "stdout",
     "output_type": "stream",
     "text": [
      "shunt step\n"
     ]
    },
    {
     "data": {
      "image/png": "[encoded data removed]",
      "text/plain": [
       "<Figure size 432x288 with 1 Axes>"
      ]
     },
     "metadata": {
      "needs_background": "light"
     },
     "output_type": "display_data"
    },
    {
     "name": "stdout",
     "output_type": "stream",
     "text": [
      "shunt p_mw\n"
     ]
    },
    {
     "data": {
      "image/png": "[encoded data removed]",
      "text/plain": [
       "<Figure size 432x288 with 1 Axes>"
      ]
     },
     "metadata": {
      "needs_background": "light"
     },
     "output_type": "display_data"
    },
    {
     "name": "stdout",
     "output_type": "stream",
     "text": [
      "shunt vn_kv\n"
     ]
    },
    {
     "data": {
      "image/png": "[encoded data removed]",
      "text/plain": [
       "<Figure size 432x288 with 1 Axes>"
      ]
     },
     "metadata": {
      "needs_background": "light"
     },
     "output_type": "display_data"
    },
    {
     "name": "stdout",
     "output_type": "stream",
     "text": [
      "shunt res_p_mw\n"
     ]
    },
    {
     "data": {
      "image/png": "[encoded data removed]",
      "text/plain": [
       "<Figure size 432x288 with 1 Axes>"
      ]
     },
     "metadata": {
      "needs_background": "light"
     },
     "output_type": "display_data"
    },
    {
     "name": "stdout",
     "output_type": "stream",
     "text": [
      "shunt in_service\n"
     ]
    },
    {
     "data": {
      "image/png": "[encoded data removed]",
      "text/plain": [
       "<Figure size 432x288 with 1 Axes>"
      ]
     },
     "metadata": {
      "needs_background": "light"
     },
     "output_type": "display_data"
    },
    {
     "name": "stdout",
     "output_type": "stream",
     "text": [
      "shunt res_q_mvar\n"
     ]
    },
    {
     "data": {
      "image/png": "[encoded data removed]",
      "text/plain": [
       "<Figure size 432x288 with 1 Axes>"
      ]
     },
     "metadata": {
      "needs_background": "light"
     },
     "output_type": "display_data"
    },
    {
     "name": "stdout",
     "output_type": "stream",
     "text": [
      "shunt max_step\n"
     ]
    },
    {
     "data": {
      "image/png": "[encoded data removed]",
      "text/plain": [
       "<Figure size 432x288 with 1 Axes>"
      ]
     },
     "metadata": {
      "needs_background": "light"
     },
     "output_type": "display_data"
    },
    {
     "name": "stdout",
     "output_type": "stream",
     "text": [
      "shunt res_vm_pu\n"
     ]
    },
    {
     "data": {
      "image/png": "[encoded data removed]",
      "text/plain": [
       "<Figure size 432x288 with 1 Axes>"
      ]
     },
     "metadata": {
      "needs_background": "light"
     },
     "output_type": "display_data"
    },
    {
     "name": "stdout",
     "output_type": "stream",
     "text": [
      "ext_grid vm_pu\n"
     ]
    },
    {
     "data": {
      "image/png": "[encoded data removed]",
      "text/plain": [
       "<Figure size 432x288 with 1 Axes>"
      ]
     },
     "metadata": {
      "needs_background": "light"
     },
     "output_type": "display_data"
    },
    {
     "name": "stdout",
     "output_type": "stream",
     "text": [
      "ext_grid max_q_mvar\n"
     ]
    },
    {
     "data": {
      "image/png": "[encoded data removed]",
      "text/plain": [
       "<Figure size 432x288 with 1 Axes>"
      ]
     },
     "metadata": {
      "needs_background": "light"
     },
     "output_type": "display_data"
    },
    {
     "name": "stdout",
     "output_type": "stream",
     "text": [
      "ext_grid min_q_mvar\n"
     ]
    },
    {
     "data": {
      "image/png": "[encoded data removed]",
      "text/plain": [
       "<Figure size 432x288 with 1 Axes>"
      ]
     },
     "metadata": {
      "needs_background": "light"
     },
     "output_type": "display_data"
    },
    {
     "name": "stdout",
     "output_type": "stream",
     "text": [
      "ext_grid slack_weight\n"
     ]
    },
    {
     "data": {
      "image/png": "[encoded data removed]",
      "text/plain": [
       "<Figure size 432x288 with 1 Axes>"
      ]
     },
     "metadata": {
      "needs_background": "light"
     },
     "output_type": "display_data"
    },
    {
     "name": "stdout",
     "output_type": "stream",
     "text": [
      "ext_grid res_p_mw\n"
     ]
    },
    {
     "data": {
      "image/png": "[encoded data removed]",
      "text/plain": [
       "<Figure size 432x288 with 1 Axes>"
      ]
     },
     "metadata": {
      "needs_background": "light"
     },
     "output_type": "display_data"
    },
    {
     "name": "stdout",
     "output_type": "stream",
     "text": [
      "ext_grid min_p_mw\n"
     ]
    },
    {
     "data": {
      "image/png": "[encoded data removed]",
      "text/plain": [
       "<Figure size 432x288 with 1 Axes>"
      ]
     },
     "metadata": {
      "needs_background": "light"
     },
     "output_type": "display_data"
    },
    {
     "name": "stdout",
     "output_type": "stream",
     "text": [
      "ext_grid va_degree\n"
     ]
    },
    {
     "data": {
      "image/png": "[encoded data removed]",
      "text/plain": [
       "<Figure size 432x288 with 1 Axes>"
      ]
     },
     "metadata": {
      "needs_background": "light"
     },
     "output_type": "display_data"
    },
    {
     "name": "stdout",
     "output_type": "stream",
     "text": [
      "ext_grid in_service\n"
     ]
    },
    {
     "data": {
      "image/png": "[encoded data removed]",
      "text/plain": [
       "<Figure size 432x288 with 1 Axes>"
      ]
     },
     "metadata": {
      "needs_background": "light"
     },
     "output_type": "display_data"
    },
    {
     "name": "stdout",
     "output_type": "stream",
     "text": [
      "ext_grid res_q_mvar\n"
     ]
    },
    {
     "data": {
      "image/png": "[encoded data removed]",
      "text/plain": [
       "<Figure size 432x288 with 1 Axes>"
      ]
     },
     "metadata": {
      "needs_background": "light"
     },
     "output_type": "display_data"
    },
    {
     "name": "stdout",
     "output_type": "stream",
     "text": [
      "ext_grid max_p_mw\n"
     ]
    },
    {
     "data": {
      "image/png": "[encoded data removed]",
      "text/plain": [
       "<Figure size 432x288 with 1 Axes>"
      ]
     },
     "metadata": {
      "needs_background": "light"
     },
     "output_type": "display_data"
    },
    {
     "name": "stdout",
     "output_type": "stream",
     "text": [
      "line res_i_ka\n"
     ]
    },
    {
     "data": {
      "image/png": "[encoded data removed]",
      "text/plain": [
       "<Figure size 432x288 with 1 Axes>"
      ]
     },
     "metadata": {
      "needs_background": "light"
     },
     "output_type": "display_data"
    },
    {
     "name": "stdout",
     "output_type": "stream",
     "text": [
      "line r_ohm_per_km\n"
     ]
    },
    {
     "data": {
      "image/png": "[encoded data removed]",
      "text/plain": [
       "<Figure size 432x288 with 1 Axes>"
      ]
     },
     "metadata": {
      "needs_background": "light"
     },
     "output_type": "display_data"
    },
    {
     "name": "stdout",
     "output_type": "stream",
     "text": [
      "line res_va_from_degree\n"
     ]
    },
    {
     "data": {
      "image/png": "[encoded data removed]",
      "text/plain": [
       "<Figure size 432x288 with 1 Axes>"
      ]
     },
     "metadata": {
      "needs_background": "light"
     },
     "output_type": "display_data"
    },
    {
     "name": "stdout",
     "output_type": "stream",
     "text": [
      "line res_i_to_ka\n"
     ]
    },
    {
     "data": {
      "image/png": "[encoded data removed]",
      "text/plain": [
       "<Figure size 432x288 with 1 Axes>"
      ]
     },
     "metadata": {
      "needs_background": "light"
     },
     "output_type": "display_data"
    },
    {
     "name": "stdout",
     "output_type": "stream",
     "text": [
      "line res_p_from_mw\n"
     ]
    },
    {
     "data": {
      "image/png": "[encoded data removed]",
      "text/plain": [
       "<Figure size 432x288 with 1 Axes>"
      ]
     },
     "metadata": {
      "needs_background": "light"
     },
     "output_type": "display_data"
    },
    {
     "name": "stdout",
     "output_type": "stream",
     "text": [
      "line max_i_ka\n"
     ]
    },
    {
     "data": {
      "image/png": "[encoded data removed]",
      "text/plain": [
       "<Figure size 432x288 with 1 Axes>"
      ]
     },
     "metadata": {
      "needs_background": "light"
     },
     "output_type": "display_data"
    },
    {
     "name": "stdout",
     "output_type": "stream",
     "text": [
      "line res_vm_from_pu\n"
     ]
    },
    {
     "data": {
      "image/png": "[encoded data removed]",
      "text/plain": [
       "<Figure size 432x288 with 1 Axes>"
      ]
     },
     "metadata": {
      "needs_background": "light"
     },
     "output_type": "display_data"
    },
    {
     "name": "stdout",
     "output_type": "stream",
     "text": [
      "line length_km\n"
     ]
    },
    {
     "data": {
      "image/png": "[encoded data removed]",
      "text/plain": [
       "<Figure size 432x288 with 1 Axes>"
      ]
     },
     "metadata": {
      "needs_background": "light"
     },
     "output_type": "display_data"
    },
    {
     "name": "stdout",
     "output_type": "stream",
     "text": [
      "line df\n"
     ]
    },
    {
     "data": {
      "image/png": "[encoded data removed]",
      "text/plain": [
       "<Figure size 432x288 with 1 Axes>"
      ]
     },
     "metadata": {
      "needs_background": "light"
     },
     "output_type": "display_data"
    },
    {
     "name": "stdout",
     "output_type": "stream",
     "text": [
      "line max_loading_percent\n"
     ]
    },
    {
     "data": {
      "image/png": "[encoded data removed]",
      "text/plain": [
       "<Figure size 432x288 with 1 Axes>"
      ]
     },
     "metadata": {
      "needs_background": "light"
     },
     "output_type": "display_data"
    },
    {
     "name": "stdout",
     "output_type": "stream",
     "text": [
      "line res_i_from_ka\n"
     ]
    },
    {
     "data": {
      "image/png": "[encoded data removed]",
      "text/plain": [
       "<Figure size 432x288 with 1 Axes>"
      ]
     },
     "metadata": {
      "needs_background": "light"
     },
     "output_type": "display_data"
    },
    {
     "name": "stdout",
     "output_type": "stream",
     "text": [
      "line res_vm_to_pu\n"
     ]
    },
    {
     "data": {
      "image/png": "[encoded data removed]",
      "text/plain": [
       "<Figure size 432x288 with 1 Axes>"
      ]
     },
     "metadata": {
      "needs_background": "light"
     },
     "output_type": "display_data"
    },
    {
     "name": "stdout",
     "output_type": "stream",
     "text": [
      "line res_q_to_mvar\n"
     ]
    },
    {
     "data": {
      "image/png": "[encoded data removed]",
      "text/plain": [
       "<Figure size 432x288 with 1 Axes>"
      ]
     },
     "metadata": {
      "needs_background": "light"
     },
     "output_type": "display_data"
    },
    {
     "name": "stdout",
     "output_type": "stream",
     "text": [
      "line res_loading_percent\n"
     ]
    },
    {
     "data": {
      "image/png": "[encoded data removed]",
      "text/plain": [
       "<Figure size 432x288 with 1 Axes>"
      ]
     },
     "metadata": {
      "needs_background": "light"
     },
     "output_type": "display_data"
    },
    {
     "name": "stdout",
     "output_type": "stream",
     "text": [
      "line in_service\n"
     ]
    },
    {
     "data": {
      "image/png": "[encoded data removed]",
      "text/plain": [
       "<Figure size 432x288 with 1 Axes>"
      ]
     },
     "metadata": {
      "needs_background": "light"
     },
     "output_type": "display_data"
    },
    {
     "name": "stdout",
     "output_type": "stream",
     "text": [
      "line parallel\n"
     ]
    },
    {
     "data": {
      "image/png": "[encoded data removed]",
      "text/plain": [
       "<Figure size 432x288 with 1 Axes>"
      ]
     },
     "metadata": {
      "needs_background": "light"
     },
     "output_type": "display_data"
    },
    {
     "name": "stdout",
     "output_type": "stream",
     "text": [
      "line res_ql_mvar\n"
     ]
    },
    {
     "data": {
      "image/png": "[encoded data removed]",
      "text/plain": [
       "<Figure size 432x288 with 1 Axes>"
      ]
     },
     "metadata": {
      "needs_background": "light"
     },
     "output_type": "display_data"
    },
    {
     "name": "stdout",
     "output_type": "stream",
     "text": [
      "line g_us_per_km\n"
     ]
    },
    {
     "data": {
      "image/png": "[encoded data removed]",
      "text/plain": [
       "<Figure size 432x288 with 1 Axes>"
      ]
     },
     "metadata": {
      "needs_background": "light"
     },
     "output_type": "display_data"
    },
    {
     "name": "stdout",
     "output_type": "stream",
     "text": [
      "line res_pl_mw\n"
     ]
    },
    {
     "data": {
      "image/png": "[encoded data removed]",
      "text/plain": [
       "<Figure size 432x288 with 1 Axes>"
      ]
     },
     "metadata": {
      "needs_background": "light"
     },
     "output_type": "display_data"
    },
    {
     "name": "stdout",
     "output_type": "stream",
     "text": [
      "line res_q_from_mvar\n"
     ]
    },
    {
     "data": {
      "image/png": "[encoded data removed]",
      "text/plain": [
       "<Figure size 432x288 with 1 Axes>"
      ]
     },
     "metadata": {
      "needs_background": "light"
     },
     "output_type": "display_data"
    },
    {
     "name": "stdout",
     "output_type": "stream",
     "text": [
      "line x_ohm_per_km\n"
     ]
    },
    {
     "data": {
      "image/png": "[encoded data removed]",
      "text/plain": [
       "<Figure size 432x288 with 1 Axes>"
      ]
     },
     "metadata": {
      "needs_background": "light"
     },
     "output_type": "display_data"
    },
    {
     "name": "stdout",
     "output_type": "stream",
     "text": [
      "line res_p_to_mw\n"
     ]
    },
    {
     "data": {
      "image/png": "[encoded data removed]",
      "text/plain": [
       "<Figure size 432x288 with 1 Axes>"
      ]
     },
     "metadata": {
      "needs_background": "light"
     },
     "output_type": "display_data"
    },
    {
     "name": "stdout",
     "output_type": "stream",
     "text": [
      "line res_va_to_degree\n"
     ]
    },
    {
     "data": {
      "image/png": "[encoded data removed]",
      "text/plain": [
       "<Figure size 432x288 with 1 Axes>"
      ]
     },
     "metadata": {
      "needs_background": "light"
     },
     "output_type": "display_data"
    },
    {
     "name": "stdout",
     "output_type": "stream",
     "text": [
      "line c_nf_per_km\n"
     ]
    },
    {
     "data": {
      "image/png": "[encoded data removed]",
      "text/plain": [
       "<Figure size 432x288 with 1 Axes>"
      ]
     },
     "metadata": {
      "needs_background": "light"
     },
     "output_type": "display_data"
    },
    {
     "name": "stdout",
     "output_type": "stream",
     "text": [
      "trafo res_vm_hv_pu\n"
     ]
    },
    {
     "data": {
      "image/png": "[encoded data removed]",
      "text/plain": [
       "<Figure size 432x288 with 1 Axes>"
      ]
     },
     "metadata": {
      "needs_background": "light"
     },
     "output_type": "display_data"
    },
    {
     "name": "stdout",
     "output_type": "stream",
     "text": [
      "trafo tap_max\n"
     ]
    },
    {
     "data": {
      "image/png": "[encoded data removed]",
      "text/plain": [
       "<Figure size 432x288 with 1 Axes>"
      ]
     },
     "metadata": {
      "needs_background": "light"
     },
     "output_type": "display_data"
    },
    {
     "name": "stdout",
     "output_type": "stream",
     "text": [
      "trafo res_va_lv_degree\n"
     ]
    },
    {
     "data": {
      "image/png": "[encoded data removed]",
      "text/plain": [
       "<Figure size 432x288 with 1 Axes>"
      ]
     },
     "metadata": {
      "needs_background": "light"
     },
     "output_type": "display_data"
    },
    {
     "name": "stdout",
     "output_type": "stream",
     "text": [
      "trafo res_q_hv_mvar\n"
     ]
    },
    {
     "data": {
      "image/png": "[encoded data removed]",
      "text/plain": [
       "<Figure size 432x288 with 1 Axes>"
      ]
     },
     "metadata": {
      "needs_background": "light"
     },
     "output_type": "display_data"
    },
    {
     "name": "stdout",
     "output_type": "stream",
     "text": [
      "trafo vn_hv_kv\n"
     ]
    },
    {
     "data": {
      "image/png": "[encoded data removed]",
      "text/plain": [
       "<Figure size 432x288 with 1 Axes>"
      ]
     },
     "metadata": {
      "needs_background": "light"
     },
     "output_type": "display_data"
    },
    {
     "name": "stdout",
     "output_type": "stream",
     "text": [
      "trafo vn_lv_kv\n"
     ]
    },
    {
     "data": {
      "image/png": "[encoded data removed]",
      "text/plain": [
       "<Figure size 432x288 with 1 Axes>"
      ]
     },
     "metadata": {
      "needs_background": "light"
     },
     "output_type": "display_data"
    },
    {
     "name": "stdout",
     "output_type": "stream",
     "text": [
      "trafo res_i_hv_ka\n"
     ]
    },
    {
     "data": {
      "image/png": "[encoded data removed]",
      "text/plain": [
       "<Figure size 432x288 with 1 Axes>"
      ]
     },
     "metadata": {
      "needs_background": "light"
     },
     "output_type": "display_data"
    },
    {
     "name": "stdout",
     "output_type": "stream",
     "text": [
      "trafo res_i_lv_ka\n"
     ]
    },
    {
     "data": {
      "image/png": "[encoded data removed]",
      "text/plain": [
       "<Figure size 432x288 with 1 Axes>"
      ]
     },
     "metadata": {
      "needs_background": "light"
     },
     "output_type": "display_data"
    },
    {
     "name": "stdout",
     "output_type": "stream",
     "text": [
      "trafo sn_mva\n"
     ]
    },
    {
     "data": {
      "image/png": "[encoded data removed]",
      "text/plain": [
       "<Figure size 432x288 with 1 Axes>"
      ]
     },
     "metadata": {
      "needs_background": "light"
     },
     "output_type": "display_data"
    },
    {
     "name": "stdout",
     "output_type": "stream",
     "text": [
      "trafo vk_percent\n"
     ]
    },
    {
     "data": {
      "image/png": "[encoded data removed]",
      "text/plain": [
       "<Figure size 432x288 with 1 Axes>"
      ]
     },
     "metadata": {
      "needs_background": "light"
     },
     "output_type": "display_data"
    },
    {
     "name": "stdout",
     "output_type": "stream",
     "text": [
      "trafo df\n"
     ]
    },
    {
     "data": {
      "image/png": "[encoded data removed]",
      "text/plain": [
       "<Figure size 432x288 with 1 Axes>"
      ]
     },
     "metadata": {
      "needs_background": "light"
     },
     "output_type": "display_data"
    },
    {
     "name": "stdout",
     "output_type": "stream",
     "text": [
      "trafo pfe_kw\n"
     ]
    },
    {
     "data": {
      "image/png": "[encoded data removed]",
      "text/plain": [
       "<Figure size 432x288 with 1 Axes>"
      ]
     },
     "metadata": {
      "needs_background": "light"
     },
     "output_type": "display_data"
    },
    {
     "name": "stdout",
     "output_type": "stream",
     "text": [
      "trafo tap_phase_shifter\n"
     ]
    },
    {
     "data": {
      "image/png": "[encoded data removed]",
      "text/plain": [
       "<Figure size 432x288 with 1 Axes>"
      ]
     },
     "metadata": {
      "needs_background": "light"
     },
     "output_type": "display_data"
    },
    {
     "name": "stdout",
     "output_type": "stream",
     "text": [
      "trafo max_loading_percent\n"
     ]
    },
    {
     "data": {
      "image/png": "[encoded data removed]",
      "text/plain": [
       "<Figure size 432x288 with 1 Axes>"
      ]
     },
     "metadata": {
      "needs_background": "light"
     },
     "output_type": "display_data"
    },
    {
     "name": "stdout",
     "output_type": "stream",
     "text": [
      "trafo tap_step_percent\n"
     ]
    },
    {
     "data": {
      "image/png": "[encoded data removed]",
      "text/plain": [
       "<Figure size 432x288 with 1 Axes>"
      ]
     },
     "metadata": {
      "needs_background": "light"
     },
     "output_type": "display_data"
    },
    {
     "name": "stdout",
     "output_type": "stream",
     "text": [
      "trafo res_p_lv_mw\n"
     ]
    },
    {
     "data": {
      "image/png": "[encoded data removed]",
      "text/plain": [
       "<Figure size 432x288 with 1 Axes>"
      ]
     },
     "metadata": {
      "needs_background": "light"
     },
     "output_type": "display_data"
    },
    {
     "name": "stdout",
     "output_type": "stream",
     "text": [
      "trafo tap_pos\n"
     ]
    },
    {
     "data": {
      "image/png": "[encoded data removed]",
      "text/plain": [
       "<Figure size 432x288 with 1 Axes>"
      ]
     },
     "metadata": {
      "needs_background": "light"
     },
     "output_type": "display_data"
    },
    {
     "name": "stdout",
     "output_type": "stream",
     "text": [
      "trafo tap_neutral\n"
     ]
    },
    {
     "data": {
      "image/png": "[encoded data removed]",
      "text/plain": [
       "<Figure size 432x288 with 1 Axes>"
      ]
     },
     "metadata": {
      "needs_background": "light"
     },
     "output_type": "display_data"
    },
    {
     "name": "stdout",
     "output_type": "stream",
     "text": [
      "trafo tap_step_degree\n"
     ]
    },
    {
     "data": {
      "image/png": "[encoded data removed]",
      "text/plain": [
       "<Figure size 432x288 with 1 Axes>"
      ]
     },
     "metadata": {
      "needs_background": "light"
     },
     "output_type": "display_data"
    },
    {
     "name": "stdout",
     "output_type": "stream",
     "text": [
      "trafo res_vm_lv_pu\n"
     ]
    },
    {
     "data": {
      "image/png": "[encoded data removed]",
      "text/plain": [
       "<Figure size 432x288 with 1 Axes>"
      ]
     },
     "metadata": {
      "needs_background": "light"
     },
     "output_type": "display_data"
    },
    {
     "name": "stdout",
     "output_type": "stream",
     "text": [
      "trafo shift_degree\n"
     ]
    },
    {
     "data": {
      "image/png": "[encoded data removed]",
      "text/plain": [
       "<Figure size 432x288 with 1 Axes>"
      ]
     },
     "metadata": {
      "needs_background": "light"
     },
     "output_type": "display_data"
    },
    {
     "name": "stdout",
     "output_type": "stream",
     "text": [
      "trafo vkr_percent\n"
     ]
    },
    {
     "data": {
      "image/png": "[encoded data removed]",
      "text/plain": [
       "<Figure size 432x288 with 1 Axes>"
      ]
     },
     "metadata": {
      "needs_background": "light"
     },
     "output_type": "display_data"
    },
    {
     "name": "stdout",
     "output_type": "stream",
     "text": [
      "trafo in_service\n"
     ]
    },
    {
     "data": {
      "image/png": "[encoded data removed]",
      "text/plain": [
       "<Figure size 432x288 with 1 Axes>"
      ]
     },
     "metadata": {
      "needs_background": "light"
     },
     "output_type": "display_data"
    },
    {
     "name": "stdout",
     "output_type": "stream",
     "text": [
      "trafo res_p_hv_mw\n"
     ]
    },
    {
     "data": {
      "image/png": "[encoded data removed]",
      "text/plain": [
       "<Figure size 432x288 with 1 Axes>"
      ]
     },
     "metadata": {
      "needs_background": "light"
     },
     "output_type": "display_data"
    },
    {
     "name": "stdout",
     "output_type": "stream",
     "text": [
      "trafo parallel\n"
     ]
    },
    {
     "data": {
      "image/png": "[encoded data removed]",
      "text/plain": [
       "<Figure size 432x288 with 1 Axes>"
      ]
     },
     "metadata": {
      "needs_background": "light"
     },
     "output_type": "display_data"
    },
    {
     "name": "stdout",
     "output_type": "stream",
     "text": [
      "trafo res_ql_mvar\n"
     ]
    },
    {
     "data": {
      "image/png": "[encoded data removed]",
      "text/plain": [
       "<Figure size 432x288 with 1 Axes>"
      ]
     },
     "metadata": {
      "needs_background": "light"
     },
     "output_type": "display_data"
    },
    {
     "name": "stdout",
     "output_type": "stream",
     "text": [
      "trafo res_q_lv_mvar\n"
     ]
    },
    {
     "data": {
      "image/png": "[encoded data removed]",
      "text/plain": [
       "<Figure size 432x288 with 1 Axes>"
      ]
     },
     "metadata": {
      "needs_background": "light"
     },
     "output_type": "display_data"
    },
    {
     "name": "stdout",
     "output_type": "stream",
     "text": [
      "trafo res_pl_mw\n"
     ]
    },
    {
     "data": {
      "image/png": "[encoded data removed]",
      "text/plain": [
       "<Figure size 432x288 with 1 Axes>"
      ]
     },
     "metadata": {
      "needs_background": "light"
     },
     "output_type": "display_data"
    },
    {
     "name": "stdout",
     "output_type": "stream",
     "text": [
      "trafo res_va_hv_degree\n"
     ]
    },
    {
     "data": {
      "image/png": "[encoded data removed]",
      "text/plain": [
       "<Figure size 432x288 with 1 Axes>"
      ]
     },
     "metadata": {
      "needs_background": "light"
     },
     "output_type": "display_data"
    },
    {
     "name": "stdout",
     "output_type": "stream",
     "text": [
      "trafo res_loading_percent\n"
     ]
    },
    {
     "data": {
      "image/png": "[encoded data removed]",
      "text/plain": [
       "<Figure size 432x288 with 1 Axes>"
      ]
     },
     "metadata": {
      "needs_background": "light"
     },
     "output_type": "display_data"
    },
    {
     "name": "stdout",
     "output_type": "stream",
     "text": [
      "trafo tap_min\n"
     ]
    },
    {
     "data": {
      "image/png": "[encoded data removed]",
      "text/plain": [
       "<Figure size 432x288 with 1 Axes>"
      ]
     },
     "metadata": {
      "needs_background": "light"
     },
     "output_type": "display_data"
    },
    {
     "name": "stdout",
     "output_type": "stream",
     "text": [
      "trafo tap_side\n"
     ]
    },
    {
     "data": {
      "image/png": "[encoded data removed]",
      "text/plain": [
       "<Figure size 432x288 with 1 Axes>"
      ]
     },
     "metadata": {
      "needs_background": "light"
     },
     "output_type": "display_data"
    },
    {
     "name": "stdout",
     "output_type": "stream",
     "text": [
      "trafo i0_percent\n"
     ]
    },
    {
     "data": {
      "image/png": "[encoded data removed]",
      "text/plain": [
       "<Figure size 432x288 with 1 Axes>"
      ]
     },
     "metadata": {
      "needs_background": "light"
     },
     "output_type": "display_data"
    },
    {
     "name": "stdout",
     "output_type": "stream",
     "text": [
      "poly_cost cp2_eur_per_mw2\n"
     ]
    },
    {
     "data": {
      "image/png": "[encoded data removed]",
      "text/plain": [
       "<Figure size 432x288 with 1 Axes>"
      ]
     },
     "metadata": {
      "needs_background": "light"
     },
     "output_type": "display_data"
    },
    {
     "name": "stdout",
     "output_type": "stream",
     "text": [
      "poly_cost cp1_eur_per_mw\n"
     ]
    },
    {
     "data": {
      "image/png": "[encoded data removed]",
      "text/plain": [
       "<Figure size 432x288 with 1 Axes>"
      ]
     },
     "metadata": {
      "needs_background": "light"
     },
     "output_type": "display_data"
    },
    {
     "name": "stdout",
     "output_type": "stream",
     "text": [
      "poly_cost cq2_eur_per_mvar2\n"
     ]
    },
    {
     "data": {
      "image/png": "[encoded data removed]",
      "text/plain": [
       "<Figure size 432x288 with 1 Axes>"
      ]
     },
     "metadata": {
      "needs_background": "light"
     },
     "output_type": "display_data"
    },
    {
     "name": "stdout",
     "output_type": "stream",
     "text": [
      "poly_cost cp0_eur\n"
     ]
    },
    {
     "data": {
      "image/png": "[encoded data removed]",
      "text/plain": [
       "<Figure size 432x288 with 1 Axes>"
      ]
     },
     "metadata": {
      "needs_background": "light"
     },
     "output_type": "display_data"
    },
    {
     "name": "stdout",
     "output_type": "stream",
     "text": [
      "poly_cost cq1_eur_per_mvar\n"
     ]
    },
    {
     "data": {
      "image/png": "[encoded data removed]",
      "text/plain": [
       "<Figure size 432x288 with 1 Axes>"
      ]
     },
     "metadata": {
      "needs_background": "light"
     },
     "output_type": "display_data"
    },
    {
     "name": "stdout",
     "output_type": "stream",
     "text": [
      "poly_cost cq0_eur\n"
     ]
    },
    {
     "data": {
      "image/png": "[encoded data removed]",
      "text/plain": [
       "<Figure size 432x288 with 1 Axes>"
      ]
     },
     "metadata": {
      "needs_background": "light"
     },
     "output_type": "display_data"
    }
   ],
   "source": [
    "for k in x.keys():\n",
    "    for f in x[k].keys():\n",
    "        print(k, f)\n",
    "        plt.hist(np.reshape(x[k][f], [-1]))\n",
    "        plt.show()"
   ]
  },
  {
   "cell_type": "code",
   "execution_count": 8,
   "id": "b8b328d7",
   "metadata": {},
   "outputs": [],
   "source": [
    "import pandapower.networks as pn"
   ]
  },
  {
   "cell_type": "code",
   "execution_count": 9,
   "id": "043b22fb",
   "metadata": {},
   "outputs": [],
   "source": [
    "net = pn.case14()"
   ]
  },
  {
   "cell_type": "code",
   "execution_count": 11,
   "id": "e3cf09ea",
   "metadata": {},
   "outputs": [
    {
     "data": {
      "text/html": [
       "<div>\n",
       "<style scoped>\n",
       "    .dataframe tbody tr th:only-of-type {\n",
       "        vertical-align: middle;\n",
       "    }\n",
       "\n",
       "    .dataframe tbody tr th {\n",
       "        vertical-align: top;\n",
       "    }\n",
       "\n",
       "    .dataframe thead th {\n",
       "        text-align: right;\n",
       "    }\n",
       "</style>\n",
       "<table border=\"1\" class=\"dataframe\">\n",
       "  <thead>\n",
       "    <tr style=\"text-align: right;\">\n",
       "      <th></th>\n",
       "      <th>in_service</th>\n",
       "      <th>max_vm_pu</th>\n",
       "      <th>min_vm_pu</th>\n",
       "      <th>name</th>\n",
       "      <th>type</th>\n",
       "      <th>vn_kv</th>\n",
       "      <th>zone</th>\n",
       "    </tr>\n",
       "  </thead>\n",
       "  <tbody>\n",
       "    <tr>\n",
       "      <th>0</th>\n",
       "      <td>True</td>\n",
       "      <td>1.06</td>\n",
       "      <td>0.94</td>\n",
       "      <td>1</td>\n",
       "      <td>b</td>\n",
       "      <td>135.000</td>\n",
       "      <td>1.0</td>\n",
       "    </tr>\n",
       "    <tr>\n",
       "      <th>1</th>\n",
       "      <td>True</td>\n",
       "      <td>1.06</td>\n",
       "      <td>0.94</td>\n",
       "      <td>2</td>\n",
       "      <td>b</td>\n",
       "      <td>135.000</td>\n",
       "      <td>1.0</td>\n",
       "    </tr>\n",
       "    <tr>\n",
       "      <th>2</th>\n",
       "      <td>True</td>\n",
       "      <td>1.06</td>\n",
       "      <td>0.94</td>\n",
       "      <td>3</td>\n",
       "      <td>b</td>\n",
       "      <td>135.000</td>\n",
       "      <td>1.0</td>\n",
       "    </tr>\n",
       "    <tr>\n",
       "      <th>3</th>\n",
       "      <td>True</td>\n",
       "      <td>1.06</td>\n",
       "      <td>0.94</td>\n",
       "      <td>4</td>\n",
       "      <td>b</td>\n",
       "      <td>135.000</td>\n",
       "      <td>1.0</td>\n",
       "    </tr>\n",
       "    <tr>\n",
       "      <th>4</th>\n",
       "      <td>True</td>\n",
       "      <td>1.06</td>\n",
       "      <td>0.94</td>\n",
       "      <td>5</td>\n",
       "      <td>b</td>\n",
       "      <td>135.000</td>\n",
       "      <td>1.0</td>\n",
       "    </tr>\n",
       "    <tr>\n",
       "      <th>5</th>\n",
       "      <td>True</td>\n",
       "      <td>1.06</td>\n",
       "      <td>0.94</td>\n",
       "      <td>6</td>\n",
       "      <td>b</td>\n",
       "      <td>0.208</td>\n",
       "      <td>1.0</td>\n",
       "    </tr>\n",
       "    <tr>\n",
       "      <th>6</th>\n",
       "      <td>True</td>\n",
       "      <td>1.06</td>\n",
       "      <td>0.94</td>\n",
       "      <td>7</td>\n",
       "      <td>b</td>\n",
       "      <td>14.000</td>\n",
       "      <td>1.0</td>\n",
       "    </tr>\n",
       "    <tr>\n",
       "      <th>7</th>\n",
       "      <td>True</td>\n",
       "      <td>1.06</td>\n",
       "      <td>0.94</td>\n",
       "      <td>8</td>\n",
       "      <td>b</td>\n",
       "      <td>12.000</td>\n",
       "      <td>1.0</td>\n",
       "    </tr>\n",
       "    <tr>\n",
       "      <th>8</th>\n",
       "      <td>True</td>\n",
       "      <td>1.06</td>\n",
       "      <td>0.94</td>\n",
       "      <td>9</td>\n",
       "      <td>b</td>\n",
       "      <td>0.208</td>\n",
       "      <td>1.0</td>\n",
       "    </tr>\n",
       "    <tr>\n",
       "      <th>9</th>\n",
       "      <td>True</td>\n",
       "      <td>1.06</td>\n",
       "      <td>0.94</td>\n",
       "      <td>10</td>\n",
       "      <td>b</td>\n",
       "      <td>0.208</td>\n",
       "      <td>1.0</td>\n",
       "    </tr>\n",
       "    <tr>\n",
       "      <th>10</th>\n",
       "      <td>True</td>\n",
       "      <td>1.06</td>\n",
       "      <td>0.94</td>\n",
       "      <td>11</td>\n",
       "      <td>b</td>\n",
       "      <td>0.208</td>\n",
       "      <td>1.0</td>\n",
       "    </tr>\n",
       "    <tr>\n",
       "      <th>11</th>\n",
       "      <td>True</td>\n",
       "      <td>1.06</td>\n",
       "      <td>0.94</td>\n",
       "      <td>12</td>\n",
       "      <td>b</td>\n",
       "      <td>0.208</td>\n",
       "      <td>1.0</td>\n",
       "    </tr>\n",
       "    <tr>\n",
       "      <th>12</th>\n",
       "      <td>True</td>\n",
       "      <td>1.06</td>\n",
       "      <td>0.94</td>\n",
       "      <td>13</td>\n",
       "      <td>b</td>\n",
       "      <td>0.208</td>\n",
       "      <td>1.0</td>\n",
       "    </tr>\n",
       "    <tr>\n",
       "      <th>13</th>\n",
       "      <td>True</td>\n",
       "      <td>1.06</td>\n",
       "      <td>0.94</td>\n",
       "      <td>14</td>\n",
       "      <td>b</td>\n",
       "      <td>0.208</td>\n",
       "      <td>1.0</td>\n",
       "    </tr>\n",
       "  </tbody>\n",
       "</table>\n",
       "</div>"
      ],
      "text/plain": [
       "    in_service  max_vm_pu  min_vm_pu name type    vn_kv zone\n",
       "0         True       1.06       0.94    1    b  135.000  1.0\n",
       "1         True       1.06       0.94    2    b  135.000  1.0\n",
       "2         True       1.06       0.94    3    b  135.000  1.0\n",
       "3         True       1.06       0.94    4    b  135.000  1.0\n",
       "4         True       1.06       0.94    5    b  135.000  1.0\n",
       "5         True       1.06       0.94    6    b    0.208  1.0\n",
       "6         True       1.06       0.94    7    b   14.000  1.0\n",
       "7         True       1.06       0.94    8    b   12.000  1.0\n",
       "8         True       1.06       0.94    9    b    0.208  1.0\n",
       "9         True       1.06       0.94   10    b    0.208  1.0\n",
       "10        True       1.06       0.94   11    b    0.208  1.0\n",
       "11        True       1.06       0.94   12    b    0.208  1.0\n",
       "12        True       1.06       0.94   13    b    0.208  1.0\n",
       "13        True       1.06       0.94   14    b    0.208  1.0"
      ]
     },
     "execution_count": 11,
     "metadata": {},
     "output_type": "execute_result"
    }
   ],
   "source": [
    "net.bus"
   ]
  },
  {
   "cell_type": "code",
   "execution_count": null,
   "id": "a306b5f1",
   "metadata": {},
   "outputs": [],
   "source": []
  }
 ],
 "metadata": {
  "kernelspec": {
   "display_name": "Python 3 (ipykernel)",
   "language": "python",
   "name": "python3"
  },
  "language_info": {
   "codemirror_mode": {
    "name": "ipython",
    "version": 3
   },
   "file_extension": ".py",
   "mimetype": "text/x-python",
   "name": "python",
   "nbconvert_exporter": "python",
   "pygments_lexer": "ipython3",
   "version": "3.9.13"
  }
 },
 "nbformat": 4,
 "nbformat_minor": 5
}
